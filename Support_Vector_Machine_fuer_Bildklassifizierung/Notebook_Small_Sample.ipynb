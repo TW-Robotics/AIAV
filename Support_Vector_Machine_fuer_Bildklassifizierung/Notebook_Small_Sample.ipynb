{
 "cells": [
  {
   "cell_type": "markdown",
   "metadata": {},
   "source": [
    "# Implementierung einer Support Vector Maschine (SVM) zur klassifizierung von Zahlen\n",
    "Das Notebook beschreibt die Implementierung einer Support Vector Maschine für das klassifizieren von Bildern. Wie schon im Storyboard besprochen geht es um das Klassifizieren von Zahlen. \n",
    "\n",
    "## Aufbau:\n",
    "Der Aufbau des Notebooks ist in drei grobe Teile geteilt. Zuerst wird der Datensatz eingelesen und vorbereitet. Anschlißend wird das Modell definiert und trainiert. Abschließend wird die SVM anhand eines Webcam-Videostreams angewendet. \n",
    "### Abschnitt 1: Datensatz vorbereiten\n",
    "Im ersten Teil des Notebooks wird der Datensatz vorbereitet. Hierzu wird ein [Dictonary](https://kapernikov.com/tutorial-image-classification-with-scikit-learn/) angelegt. Anschließend kann mit dem Dictonary eine reshape Funktion aufgerufen werden um die Bildmatrizen in einen Vektor umzuwandeln wie auch schon in der Theorie besprochen wurde. \n",
    "### Abschnitt 2: Erstellen des Modells\n",
    "In diesem Abschnitt wird das Modell mittels der [sklearn-Bibliothek](https://scikit-learn.org/stable/modules/svm.html) definiert. Dies ist auch der Abschnitt bei dem Parameter getuned werden können. Abschließend wird das Modell trainiert und getestet. Ebenso sieht man den Plot des Trainingsverlaufs. \n",
    "### Abschnitt 3: Testen \n",
    "Im letzten Abschnitt wird das trainierte Modell eingesetzt. Die SVM predicted (klassifiziert) für jedes neue Bild im Demo Ordner welche Zahl abgebildet ist und gibt diese aus. \n",
    "\n",
    "\n",
    "\n",
    "## Ordnerstruktur: \n",
    "Anbei ist noch die Ordnerstruktur aufgelistet. Zu dem Use-Case gehören 2 Ordner und 3 Datein. Der Demo Ordner wir für die Implementierung selbst nicht verwendet. Dieser beinhaltet nur Darstellungen für die Beschreibungen im Notebook/Storyboard. Der Data Ordner gibt hingegen die beiden Klassen vor. Hier müssen Unterordner existieren welche auch gleich die Klassennamen vorgeben. In userem Fall sind das die Zahlen 0 bis 9. Diese Unterordner beinhalten die Bilder welche zum Trainieren eingesetzt werden sollen. \n",
    "\n",
    "Die Datei workspace_detection_{width}x{height}px.pkl ist eine Datei die im Laufe des Notebooks generiert wird und den Datensatz als [Dictonary](https://kapernikov.com/tutorial-image-classification-with-scikit-learn/) abspeichert. Die Datei *.ipynb ist das Notebook selbst. Die dritte Datei in für den Use-Case ist die requirements Datei. Diese kann eingesetzt werden um die benötigten Bibliotheken und Systemvorraussetzungen zu installieren. Eine (externe) Tutorial dazu findet man [hier](https://note.nkmk.me/en/python-pip-install-requirements/). \n",
    "\n",
    "## Ordnerstruktur: \n",
    "1. demo [Ordner]\n",
    "    - _demo images_\n",
    "2. data [Ordner]\n",
    "    - Hier kann der Datensatz geändert werden\n",
    "3. eigenfaces [Ordner]\n",
    "    - Top 10 Eigenfaces der PCA\n",
    "\n",
    "4. `miniUsecase12_SVM.ipynb` [Beispielcode]\n",
    "\n",
    "5. `MNIST{width}x{height}px.pkl`\n",
    "\n",
    "6. `requirements.txt`\n",
    "(Notwendige Bibliotheken, kann zum Installieren verwednet werden)\n",
    "\n",
    "7. `12_Storyboard_SVM.pdf`\n",
    "\n",
    "\n",
    "\n",
    "\n",
    "## Resultat: \n",
    "![alt text](demo.gif)\n"
   ]
  },
  {
   "cell_type": "markdown",
   "metadata": {},
   "source": [
    "## Abschnitt 1: Importieren der generellen notwendigen Bibliotheken\n",
    "Wir empfehlen die notwendigen Bibliotheken über die [requirements.txt](requirements.txt) Datei zu installieren. Das ermöglicht es, dass automatisch die richtigen Versionen installiert werden. Sollte eine Library nicht vorhanden sein, dann kann die häufig auch mit `pip3 <package-name\\>` nachinstalliert werden. Sind alle libraries vorhanden, entsteht kein Output bei der nächsten Zelle. Im laufe des Notebooks werden weitere Bibliotheken benötigt. Diese werden erst in späteren Zellen aufgerufen um jeweils bei den entsprechenden Codesnipped zu garantieren, dass sie im Workspace geladen sind."
   ]
  },
  {
   "cell_type": "code",
   "execution_count": 1,
   "metadata": {},
   "outputs": [],
   "source": [
    "# data von miniUsecase11 logistic regression \n",
    "import os\n",
    "import matplotlib as mpl\n",
    "import matplotlib.pyplot as plt\n",
    "from IPython.display import display\n",
    "%matplotlib inline\n",
    "import pandas as pd\n",
    "import numpy as np\n",
    "from PIL import Image\n",
    "from skimage.feature import hog\n",
    "from skimage.color import rgb2grey\n",
    "from sklearn.model_selection import train_test_split\n",
    "from sklearn.metrics import accuracy_score\n",
    "from sklearn.preprocessing import StandardScaler\n",
    "from sklearn.decomposition import PCA\n",
    "from sklearn.svm import SVC\n",
    "from sklearn.metrics import roc_curve, auc\n",
    "import cv2\n",
    "from sklearn.metrics import RocCurveDisplay\n",
    "import warnings\n",
    "from scipy.sparse import (spdiags, SparseEfficiencyWarning, csc_matrix,\n",
    "    csr_matrix, isspmatrix, dok_matrix, lil_matrix, bsr_matrix)\n",
    "warnings.simplefilter('ignore',SparseEfficiencyWarning) \n",
    "warnings.simplefilter('ignore',UserWarning)"
   ]
  },
  {
   "cell_type": "markdown",
   "metadata": {},
   "source": [
    "## Verschiedene Einstellungen um das Programm anzupassen\n",
    "\n",
    "data_path: gibt den relativen Pfad zu dem Datensatz (Ordner mit Bildern) an.\n",
    "\n",
    "os.listdir(data_path): Zeigt die Ordner an, welche die Bilder für das Trainieren enthalten sollen.\n",
    "\n",
    "SIZE: definiert die größe des Bildes. Hier kann eingestellt werden wie sehr das Bild \"verkleinert\" werden soll. Ein guter Startpunkt ist meist _<original_imagesize/rescaling>_ wobei rescaling einfach als Skalar gewählt werden kann. In dem Beispiel verwenden wir ein viertel der Pixellänge. Sprich ein 416x416 Pixelbild ist dann nur mehr 104x104px groß"
   ]
  },
  {
   "cell_type": "code",
   "execution_count": 2,
   "metadata": {},
   "outputs": [],
   "source": [
    "# Hier kann der Pfad zum Datensatz und die Bildgröße geändert werden\n",
    "\n",
    "data_path = os.getcwd() + \"/data\"\n",
    "os.listdir(data_path) \n",
    "SIZE = 28"
   ]
  },
  {
   "cell_type": "markdown",
   "metadata": {},
   "source": [
    "## Zusatzfunktion für das preperieren der Daten \n",
    "Diese funktion lädt alle Bilder in den Workspace (aus dem definierten Pfad) und macht foglende 2 Aktionen:\n",
    "- Resize: Skaliert die Bilder entsprechend der Vorgabe\n",
    "- Dictionary: Erstellt ein Dictionary mit Labels und Metadata (Datensatz für das Trainieren). Der output wird als pickle file im Workspace abgespeichert.\n",
    "\n",
    "Parameter:\n",
    "- src: gibt den Pfad zu den Daten an\n",
    "- pklname: erstellt den Namen für die Pickle Datei\n",
    "- include: Includiert als String List die Klassen (Zahlen 0-9)\n",
    "- width: gibt die größe der Bilder/Resize an\n",
    "\n",
    "Tutorial zum Implementieren von [Dictionaries](https://kapernikov.com/tutorial-image-classification-with-scikit-learn/)"
   ]
  },
  {
   "cell_type": "code",
   "execution_count": 3,
   "metadata": {},
   "outputs": [],
   "source": [
    "# Libraries \n",
    "import joblib\n",
    "from skimage.io import imread\n",
    "from skimage.transform import resize\n",
    "\n",
    "\n",
    "# Funktionsdefinition \n",
    "def resize_all(src, pklname, include, width = 150, height=None):\n",
    "    height = height if height is not None else width #ERRORHANDLING\n",
    "    \n",
    "# definiert den Datansatz als Dictionary \n",
    "    data = dict()\n",
    "    data['description'] = 'resized ({0}x{1}) images in rgb'.format(int(width), int(height))\n",
    "    data['label'] = []\n",
    "    data['filename'] = []\n",
    "    data['data'] = []   \n",
    "\n",
    "    pklname = f\"{pklname}_{width}x{height}px.pkl\"\n",
    "\n",
    "    for subdir in os.listdir(src):\n",
    "        if subdir in include:\n",
    "            print(subdir)\n",
    "            current_path = os.path.join(src, subdir)\n",
    " \n",
    " # itteriert über alle Bilder im Datensatz \n",
    "            for file in os.listdir(current_path):\n",
    "                if file[-3:] in {'jpg', 'png'}:\n",
    "                    im = imread(os.path.join(current_path, file))\n",
    "                    im = resize(im, (width, height)) #[:,:,::-1]\n",
    "                    data['label'].append(subdir)\n",
    "                    data['filename'].append(file)\n",
    "                    data['data'].append(im)\n",
    " \n",
    "# erstellt die Pickle file\n",
    "        joblib.dump(data, pklname)"
   ]
  },
  {
   "cell_type": "markdown",
   "metadata": {},
   "source": [
    "## Formatieren des Datensatzes\n",
    "Hier wird die Hilfsfunktion aufgerufen, die für das erstellen des Datensatzes notwendig ist. Ebenso werden hier die Parameter übergeben. Zu beachten ist, dass hier nur _.jpg_ und _.png_ Bilder verarbeitet werden können. "
   ]
  },
  {
   "cell_type": "code",
   "execution_count": 4,
   "metadata": {},
   "outputs": [
    {
     "name": "stdout",
     "output_type": "stream",
     "text": [
      "1\n",
      "2\n",
      "8\n",
      "3\n",
      "5\n",
      "6\n",
      "7\n",
      "4\n",
      "9\n"
     ]
    }
   ],
   "source": [
    "base_name = 'MNIST'   # Name für die Beschreibung des Datensatzes\n",
    "width = SIZE                        # Definierte Bildgröße übergeben (Zelle 2)\n",
    "include = {'1', '2', '3', '4', '5', '6', '7', '8', '9'}   # Ordner angeben\n",
    " \n",
    "#FUNCTION CALL\n",
    "resize_all(src=data_path, pklname=base_name, width=width, include=include) # Funktionsaufruf für das erstellen der pkl-Datei "
   ]
  },
  {
   "cell_type": "markdown",
   "metadata": {},
   "source": [
    "## Informationen vom Datensatz\n",
    "anbei werden bei korrektem erstellen des Dictionarys die Informationen dazu angezeigt. Diese werden über die Pickle Datei ausgelesen"
   ]
  },
  {
   "cell_type": "code",
   "execution_count": 5,
   "metadata": {},
   "outputs": [
    {
     "name": "stdout",
     "output_type": "stream",
     "text": [
      "Anzahl der gefundenen Daten:  54077\n",
      "keys:  ['description', 'label', 'filename', 'data']\n",
      "Beschreibung:  resized (28x28) images in rgb\n",
      "Bild Form  (28, 28)\n",
      "Labels: ['1' '2' '3' '4' '5' '6' '7' '8' '9']\n"
     ]
    },
    {
     "data": {
      "text/plain": [
       "Counter({'1': 6742,\n",
       "         '2': 5958,\n",
       "         '8': 5851,\n",
       "         '3': 6131,\n",
       "         '5': 5421,\n",
       "         '6': 5918,\n",
       "         '7': 6265,\n",
       "         '4': 5842,\n",
       "         '9': 5949})"
      ]
     },
     "execution_count": 5,
     "metadata": {},
     "output_type": "execute_result"
    }
   ],
   "source": [
    "from collections import Counter\n",
    " \n",
    "data = joblib.load(f'{base_name}_{width}x{width}px.pkl')    # Laden der Datei\n",
    "print('Anzahl der gefundenen Daten: ', len(data['data']))   \n",
    "print('keys: ', list(data.keys()))                          # Zeigt die einzelnen Komponenten  \n",
    "print('Beschreibung: ', data['description'])                \n",
    "print('Bild Form ', data['data'][0].shape)                  # Format anzeigen. Nützlich für das Reshapen nachher\n",
    "print('Labels:', np.unique(data['label']))                  # Labels für die Klassifizierung\n",
    "Counter(data['label'])                                      # Aufteilung anzeigen"
   ]
  },
  {
   "cell_type": "markdown",
   "metadata": {},
   "source": [
    "## Datensatz Beispiel der beiden Klassen\n",
    "Folgende Zelle lädt jeweils ein Bild/Klasse. Sollten hier nicht erwartete Bilder erscheinen muss der Datensatz überprüft werden."
   ]
  },
  {
   "cell_type": "code",
   "execution_count": 6,
   "metadata": {},
   "outputs": [
    {
     "data": {
      "image/png": "[encoded data removed]",
      "text/plain": [
       "<Figure size 1080x288 with 9 Axes>"
      ]
     },
     "metadata": {
      "needs_background": "light"
     },
     "output_type": "display_data"
    }
   ],
   "source": [
    "labels = np.unique(data['label'])           # Labels auslesen\n",
    "\n",
    "\n",
    "# Matplot handling um Achsen zu erstellen\n",
    "fig, axes = plt.subplots(1, len(labels))    # Plot definieren\n",
    "fig.set_size_inches(15,4)                   # Größe\n",
    "fig.tight_layout() \n",
    "\n",
    "# Generiert einen Plot mit einem Bild aus jeder Klasse\n",
    "for ax, label in zip(axes, labels):\n",
    "    idx = data['label'].index(label)\n",
    "    ax.imshow(data['data'][idx])\n",
    "    ax.axis('off')\n",
    "    ax.set_title(label)"
   ]
  },
  {
   "cell_type": "markdown",
   "metadata": {},
   "source": [
    "## Datensatz umformen\n",
    "Die derzeitige Form eines eingelesenen Bildes ist <index, breite, höhe, schichten> mit index für die Anzahl der Elemente, Breite/Höhe gibt die Bildgröße in Pixel an und Schichten beschreibt die Art des Bildes (3 = RGB)\n",
    "\n",
    "Um eine Klassifikation durchzuführen benötigt das System einen Vektor mit maximal 2 Dimensionen. Wir wollen einen Vektor mit <index, pixel_vektor>, wobei index gleich bleibt um mit den Labels (y-Vektor) übereinzustimmen. Der pixel_vektor (\"Daten\" entsprechend zum Index im X-Vektor) wird aus den restlichen Ebenen gebildet, um einen 1*n Vektor zu erhalten.  \n",
    "\n"
   ]
  },
  {
   "cell_type": "code",
   "execution_count": 7,
   "metadata": {},
   "outputs": [
    {
     "name": "stdout",
     "output_type": "stream",
     "text": [
      "Original Form: (54077, 28, 28)\n",
      "NEW Form: (34995, 28, 28)\n",
      "Umgeformter Datensatz der Form: (34995, 784)\n",
      "Der Index muss mit der Labels größe Übereinstimmen. \n",
      "Labels größe: (54077,)\n",
      "Der Index muss mit der Labels größe Übereinstimmen. \n",
      "Labels größe: (34995,)\n"
     ]
    }
   ],
   "source": [
    "X = np.array(data['data'])                                      # Einlesen der Bilder\n",
    "print(\"Original Form: {}\".format(X.shape))                      \n",
    "X = X[:-19082, :, :]\n",
    "print(\"NEW Form: {}\".format(X.shape))  \n",
    "\n",
    "x = X.reshape(X.shape[0], X.shape[1]* X.shape[2])   # Umformen auf die beschriebene Größe\n",
    "print(\"Umgeformter Datensatz der Form: {}\".format(x.shape))\n",
    "\n",
    "y = np.array(data['label'])                                     # Einlesen der Labels\n",
    "print(\"Der Index muss mit der Labels größe Übereinstimmen. \\nLabels größe: {}\".format(y.shape)) #Abgleichen ob die Form übereinstimmt \n",
    "y = y[:-19082]\n",
    "print(\"Der Index muss mit der Labels größe Übereinstimmen. \\nLabels größe: {}\".format(y.shape)) #Abgleichen ob die Form übereinstimmt "
   ]
  },
  {
   "cell_type": "markdown",
   "metadata": {},
   "source": [
    "# Abschnitt 2: Erstellen des Modells"
   ]
  },
  {
   "cell_type": "markdown",
   "metadata": {},
   "source": [
    "## SVM-Model\n",
    "(1) Datensatz in Trainings/Test Daten aufteilen <br>\n",
    "(2) principal component analysis (PCA) definieren <br>\n",
    "(3) Modell definieren <br>\n",
    "(4) Genauigkeit auswerten <br>\n",
    "\n",
    "\n",
    "Zum Einsatz kommt hier die sklearn Bibliothek welche ermöglicht ein bereits existierendes Model einzubinden und nur die Parameter zu definieren. Dadurch sind features wie Skalieren, PCA oder das Trainieren leicht umgesetzt. \n",
    "\n",
    "Weitere Dokumentation: <br>\n",
    "[Model](https://rpubs.com/Sharon_1684/454441) <br>\n",
    "[SVM Dokumentation](https://scikit-learn.org/stable/modules/svm.html)"
   ]
  },
  {
   "cell_type": "markdown",
   "metadata": {},
   "source": [
    "### Aufteilen und Transformieren (PCA)\n",
    "#### (1) Datensatz Teilen\n",
    "Im ersten Abschnitt der folgenden Zelle wird der Datensatz in Trainings und Test Daten aufgeteilt. Das ermöglicht das trainieren und das anschließende testen des Models \n",
    "\n",
    "#### (2) Principal Component Analysis (PCA)\n",
    "Im zweiten Teil wird eine PCA auf den Datensatz angewandt. Dies ermöglicht, dass nicht alle Pixel als Trainingsdaten herangezogen werden sonder nur herausstechende Features. \n"
   ]
  },
  {
   "cell_type": "code",
   "execution_count": 8,
   "metadata": {},
   "outputs": [
    {
     "name": "stdout",
     "output_type": "stream",
     "text": [
      "87\n"
     ]
    }
   ],
   "source": [
    "# Aufteilen des Datensatzes (1)\n",
    "X_train, X_test, y_train, y_test = train_test_split(x,\n",
    "                                                    y,\n",
    "                                                    test_size=.3,\n",
    "                                                    random_state=1234123)\n",
    "\n",
    "\n",
    "# (2) Skalieren\n",
    "scaler = StandardScaler()\n",
    "x_train = scaler.fit_transform(X_train)\n",
    "x_test = scaler.transform(X_test)\n",
    "\n",
    "\n",
    "#  PCA (2)\n",
    "pca = PCA(.90)                                  # verwendet 95% der Komponenten und erstellen der \"PCA-Instanz\"\n",
    "#pca = PCA(10)                                  # verwendet die 10 wichtigsten Komponenten\n",
    "pca.fit(X_train)                                # PCA aufgrund von Datensatz auslegen\n",
    "n_comp = pca.n_components_ \n",
    "print(pca.n_components_)                            \n",
    "X_train = pca.transform(X_train)                # PCA auf Datensatz anwenden\n",
    "X_test = pca.transform(X_test)                  # PCA auf Test Daten anwenden\n",
    "pd.Series(y_train).value_counts()               # Evaluieren der Verteilung der Daten\n",
    "\n",
    "# TOP 5 eigenfaces \n",
    "\n",
    "nbr_eigenfaces = 10\n",
    "\n",
    "\n",
    "eigenfaces = pca.components_[:nbr_eigenfaces]\n",
    "eigenfaces = eigenfaces.reshape((nbr_eigenfaces, int(SIZE), int(SIZE)))\n",
    "\n",
    "\n",
    "\n",
    "\n",
    "for i in range(nbr_eigenfaces):\n",
    "\n",
    "    min_ = np.amin(eigenfaces[i])\n",
    "    max_ = np.amax(eigenfaces[i])\n",
    "\n",
    "    tmp = ((eigenfaces[i] - min_) / (max_-min_)) * 255\n",
    "\n",
    "    filename = \"eigenfaces/eigenface\" + str(i) + \".png\"  \n",
    "    cv2.imwrite(filename, tmp)\n",
    "    \n",
    "\n"
   ]
  },
  {
   "cell_type": "markdown",
   "metadata": {},
   "source": [
    "#### (3) Modell definieren\n",
    "In der folgenden Zelle wird die Support Vector Machine definiert. Hierzu wird die C-Support Vector Classification von der sklearn-Bibliothek eingefügt. \n",
    "\n",
    "\n",
    "\n",
    "##### kernel{‘linear’, ‘poly’, ‘rbf’, ‘sigmoid’, ‘precomputed’}, default=’rbf’\n",
    "Gibt den Kernel-Typ an, der im Algorithmus verwendet werden soll. Es muss einer der Typen 'linear', 'poly', 'rbf', 'sigmoid', 'precomputed' oder ein Callable sein.\n",
    "\n",
    "##### probabilitybool, default=False\n",
    "Ob Wahrscheinlichkeitsschätzungen aktiviert werden sollen. Verlangsamt das System allerdings ermöglicht es eine 5-fold cross-validation. Genauere Beschreibung: https://scikit-learn.org/stable/modules/svm.html#scores-probabilities\n",
    "\n",
    "##### random_stateint, RandomState instance or None, default=None\n",
    "Aktiviert einen Pseudo-Random-Number-Generator um die Daten zu mischen.\n",
    "\n",
    "\n",
    "#### Weitere Parameter: \n",
    "- break_tiesbool, default=False\n",
    "- decision_function_shape{‘ovo’, ‘ovr’}, default=’ovr’\n",
    "- max_iterint, default=-1\n",
    "- verbosebool, default=False\n",
    "- class_weightdict or ‘balanced’, default=None\n",
    "- cache_sizefloat, default=200\n",
    "\n",
    "Mehr Infos zu den [Parameter](https://scikit-learn.org/stable/modules/generated/sklearn.svm.SVC.html#sklearn.svm.SVC)"
   ]
  },
  {
   "cell_type": "code",
   "execution_count": 9,
   "metadata": {},
   "outputs": [
    {
     "data": {
      "text/plain": [
       "SVC(kernel='linear', probability=True, random_state=42)"
      ]
     },
     "execution_count": 9,
     "metadata": {},
     "output_type": "execute_result"
    }
   ],
   "source": [
    "svm = SVC(kernel='linear', probability=True, random_state=42)       # (3) SVM Definition\n",
    "svm.fit(X_train, y_train)  # Modell Trainieren"
   ]
  },
  {
   "cell_type": "markdown",
   "metadata": {},
   "source": [
    "### (4) Genauigkeit auswerten"
   ]
  },
  {
   "cell_type": "code",
   "execution_count": 10,
   "metadata": {},
   "outputs": [
    {
     "name": "stdout",
     "output_type": "stream",
     "text": [
      "Model accuracy:  0.9379940946756834\n"
     ]
    }
   ],
   "source": [
    "y_pred = svm.predict(X_test)                     # Prediction für den Test Datensatz\n",
    "accuracy = accuracy_score(y_test, y_pred)        # Auswertung\n",
    "print('Model accuracy: ', accuracy)              # Ausgabe der Genauigkeit"
   ]
  },
  {
   "cell_type": "markdown",
   "metadata": {},
   "source": [
    "# Abschnitt 3: Webcam Implementierung\n",
    "## Ausführung der Live erkennung\n",
    "In der folgenden Zelle wird ein Kamerastream geöffnet und Frame für Frame eine Prediction durchgeführt. so wie es in dem Demo example auch passiert ist. Der unterschied hier ist lediglich, dass die Bilder nicht eingelesen werden über vorhandene Daten sondern dynamisch über die Kamera \"generiert\" werden.  \n"
   ]
  },
  {
   "cell_type": "code",
   "execution_count": 11,
   "metadata": {},
   "outputs": [
    {
     "name": "stdout",
     "output_type": "stream",
     "text": [
      "***************\n",
      "Example Image: 1\n",
      "Predicted Number: (['8'])\n"
     ]
    },
    {
     "ename": "IndexError",
     "evalue": "index 7 is out of bounds for axis 0 with size 6",
     "output_type": "error",
     "traceback": [
      "\u001b[0;31m---------------------------------------------------------------------------\u001b[0m",
      "\u001b[0;31mIndexError\u001b[0m                                Traceback (most recent call last)",
      "\u001b[0;32m/tmp/ipykernel_43771/422706345.py\u001b[0m in \u001b[0;36m<module>\u001b[0;34m\u001b[0m\n\u001b[1;32m     37\u001b[0m         \u001b[0;31m#Auswertung für die \"live\" Darstellung\u001b[0m\u001b[0;34m\u001b[0m\u001b[0;34m\u001b[0m\u001b[0;34m\u001b[0m\u001b[0m\n\u001b[1;32m     38\u001b[0m         \u001b[0mprint\u001b[0m\u001b[0;34m(\u001b[0m\u001b[0;34m\"Predicted Number: ({})\"\u001b[0m\u001b[0;34m.\u001b[0m\u001b[0mformat\u001b[0m\u001b[0;34m(\u001b[0m\u001b[0my_new\u001b[0m\u001b[0;34m)\u001b[0m\u001b[0;34m)\u001b[0m\u001b[0;34m\u001b[0m\u001b[0;34m\u001b[0m\u001b[0m\n\u001b[0;32m---> 39\u001b[0;31m         \u001b[0mprint\u001b[0m\u001b[0;34m(\u001b[0m\u001b[0;34m\"{:.2f}%\"\u001b[0m\u001b[0;34m.\u001b[0m\u001b[0mformat\u001b[0m\u001b[0;34m(\u001b[0m\u001b[0mprob\u001b[0m\u001b[0;34m[\u001b[0m\u001b[0mint\u001b[0m\u001b[0;34m(\u001b[0m\u001b[0my_new\u001b[0m\u001b[0;34m)\u001b[0m\u001b[0;34m-\u001b[0m\u001b[0;36m1\u001b[0m\u001b[0;34m]\u001b[0m\u001b[0;34m)\u001b[0m\u001b[0;34m)\u001b[0m\u001b[0;34m\u001b[0m\u001b[0;34m\u001b[0m\u001b[0m\n\u001b[0m\u001b[1;32m     40\u001b[0m \u001b[0;34m\u001b[0m\u001b[0m\n\u001b[1;32m     41\u001b[0m \u001b[0;34m\u001b[0m\u001b[0m\n",
      "\u001b[0;31mIndexError\u001b[0m: index 7 is out of bounds for axis 0 with size 6"
     ]
    }
   ],
   "source": [
    "\n",
    "#libraries\n",
    "from skimage.transform import resize\n",
    "from sklearn.decomposition import PCA\n",
    "import cv2\n",
    "from IPython.display import clear_output\n",
    "\n",
    "\n",
    "cv2.namedWindow('Prediction | press q to exit', 0)\n",
    "i = 0\n",
    "for filename in os.listdir(\"demo\"):\n",
    "    img = cv2.imread(os.path.join(\"demo/\",filename), 0)\n",
    "    height = width\n",
    "    img = resize(img, (width, height))\n",
    "    if img is None:\n",
    "        print(os.path.join(\"demo/\",filename))\n",
    "        break\n",
    "    else: \n",
    "        # Bild aus einer Matrix in einen Vektor umformen \n",
    "        image = img.reshape(1 ,-1)\n",
    "\n",
    "        # Bild an das Modell anpassen (Skalieren und PCA anwenden)\n",
    "        image = scaler.transform(image)\n",
    "        image = pca.transform(image)\n",
    "\n",
    "        #Predict \n",
    "        y_new_prob  = svm.predict_proba(image)\n",
    "        y_new  = svm.predict(image)\n",
    "\n",
    "        # Wahrscheinlichkeit des Bildes (bei einer Klassifizierung) in Prozent umrechnen\n",
    "        prob = y_new_prob[0]*100\n",
    "\n",
    "\n",
    "        clear_output(wait=True)\n",
    "        print(\"***************\")\n",
    "        i = i+1\n",
    "        print(\"Example Image: {}\".format(i))\n",
    "        #Auswertung für die \"live\" Darstellung\n",
    "        print(\"Predicted Number: ({})\".format(y_new))\n",
    "        print(\"{:.2f}%\".format(prob[int(y_new)-1]))\n",
    "            \n",
    "        \n",
    "        #Ausgabe \n",
    "        cv2.imshow('Prediction | press q to exit', img)\n",
    "        #User Input für das beenden des Darstellen  \n",
    "        if cv2.waitKey(0) & 0xFF == ord('q'):    \n",
    "            break\n",
    "\n",
    "\n",
    "# Stream schließen und Window Handling\n",
    "\n",
    "cv2.destroyAllWindows()"
   ]
  }
 ],
 "metadata": {
  "interpreter": {
   "hash": "916dbcbb3f70747c44a77c7bcd40155683ae19c65e1c03b4aa3499c5328201f1"
  },
  "kernelspec": {
   "display_name": "Python 3 (ipykernel)",
   "language": "python",
   "name": "python3"
  },
  "language_info": {
   "codemirror_mode": {
    "name": "ipython",
    "version": 3
   },
   "file_extension": ".py",
   "mimetype": "text/x-python",
   "name": "python",
   "nbconvert_exporter": "python",
   "pygments_lexer": "ipython3",
   "version": "3.8.10"
  }
 },
 "nbformat": 4,
 "nbformat_minor": 2
}

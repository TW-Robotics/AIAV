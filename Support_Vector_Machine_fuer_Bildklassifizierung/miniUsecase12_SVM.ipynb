{
 "cells": [
  {
   "cell_type": "markdown",
   "metadata": {},
   "source": [
    "# Implementierung einer Support Vector Maschine (SVM) zur Erkennung von Werkzeugerkennung am Arbeitsplatz\n",
    "Das Notebook beschreibt die Implementierung einer Support Vector Maschine für das klassifizieren von Bildern. In dem Beispiel handelt es sich um eine Überwachung eines Arbeitsplatzes zur Erkennung eines Hammers.\n",
    "\n",
    "## Aufbau:\n",
    "Der Aufbau des Notebooks ist in drei grobe Teile geteilt. Zuerst wird der Datensatz eingelesen und vorbereitet. Anschlißend wird das Modell definiert und trainiert. Abschließend wird die SVM anhand eines Webcam-Videostreams angewendet. \n",
    "### Abschnitt 1: Datensatz vorbereiten\n",
    "Im ersten Teil des Notebooks wird der Datensatz vorbereitet. Hierzu wird ein [Dictonary](https://kapernikov.com/tutorial-image-classification-with-scikit-learn/) angelegt. Anschließend kann mit dem Dictonary eine reshape Funktion aufgerufen werden um die Bildmatrizen in einen Vektor umzuwandeln wie auch schon in der Theorie besprochen wurde. \n",
    "### Abschnitt 2: Erstellen des Modells\n",
    "In diesem Abschnitt wird das Modell mittels der [sklearn-Bibliothek](https://scikit-learn.org/stable/modules/svm.html) definiert. Dies ist auch der Abschnitt bei dem Parameter getuned werden können. Abschließend wird das Modell trainiert und getestet. Ebenso sieht man den Plot des Trainingsverlaufs. \n",
    "### Abschnitt 3: Webcam Implementierung\n",
    "Im letzten Abschnitt wird das trainierte Modell eingesetzt. Die SVM predicted (klassifiziert) für jeden Frame des Kamerastreams ob sich im Bild ein Hammer befindet oder nicht. \n",
    "\n",
    "\n",
    "\n",
    "## Ordnerstruktur: \n",
    "Anbei ist noch die Ordnerstruktur aufgelistet. Zu dem Use-Case gehören 2 Ordner und 3 Datein. Der Demo Ordner wir für die Implementierung selbst nicht verwendet. Dieser beinhaltet nur Darstellungen für die Beschreibungen im Notebook/Storyboard. Der Tool_Data Ordner gibt hingegen die beiden Klassen vor. Hier müssen 2 Unterordner existieren welche auch gleich die Klassennamen vorgeben. In userem Fall ist das einmal die Klasse Hammer und einmal die Klasse Workspace. Diese Unterordner beinhalten die Bilder welche zum Trainieren eingesetzt werden sollen. \n",
    "\n",
    "Die Datei workspace_detection_{width}x{height}px.pkl ist eine Datei die im Laufe des Notebooks generiert wird und den Datensatz als [Dictonary](https://kapernikov.com/tutorial-image-classification-with-scikit-learn/) abspeichert. Die Datei *.ipynb ist das Notebook selbst. Die dritte Datei in für den Use-Case ist die requirements Datei. Diese kann eingesetzt werden um die benötigten Bibliotheken und Systemvorraussetzungen zu installieren. Eine (externe) Tutorial dazu findet man [hier](https://note.nkmk.me/en/python-pip-install-requirements/). \n",
    "\n",
    "1. `demo`\n",
    "    - webcam_demo.gif\n",
    "    - _demo images_\n",
    "    \n",
    "2. `Tool_Data`\n",
    "    - Hammer _data images_\n",
    "    - Workspace _data images_\n",
    "\n",
    "3. `miniUsecases12_SVM.ipynb`\n",
    "4. `workspace_detection_{width}x{height}px.pkl`\n",
    "5. `requirements.txt`\n",
    "6. `12_Storyboard_SVM.pdf`\n",
    "\n",
    "\n",
    "\n",
    "\n",
    "## Resultat: \n",
    "![alt text](demo/SVM_Test.gif)\n"
   ]
  },
  {
   "cell_type": "markdown",
   "metadata": {},
   "source": [
    "## Abschnitt 1: Importieren der generellen notwendigen Bibliotheken\n",
    "Wir empfehlen die notwendigen Bibliotheken über die [requirements.txt](requirements.txt) Datei zu installieren. Das ermöglicht es, dass automatisch die richtigen Versionen installiert werden. Sollte eine Library nicht vorhanden sein, dann kann die häufig auch mit `pip3 <package-name\\>` nachinstalliert werden. Sind alle libraries vorhanden, entsteht kein Output bei der nächsten Zelle. Im laufe des Notebooks werden weitere Bibliotheken benötigt. Diese werden erst in späteren Zellen aufgerufen um jeweils bei den entsprechenden Codesnipped zu garantieren, dass sie im Workspace geladen sind."
   ]
  },
  {
   "cell_type": "code",
   "execution_count": 13,
   "metadata": {},
   "outputs": [],
   "source": [
    "# data von miniUsecase11 logistic regression \n",
    "import os\n",
    "import matplotlib as mpl\n",
    "import matplotlib.pyplot as plt\n",
    "from IPython.display import display\n",
    "%matplotlib inline\n",
    "import pandas as pd\n",
    "import numpy as np\n",
    "from PIL import Image\n",
    "from skimage.feature import hog\n",
    "from skimage.color import rgb2grey\n",
    "from sklearn.model_selection import train_test_split\n",
    "from sklearn.metrics import accuracy_score\n",
    "from sklearn.preprocessing import StandardScaler\n",
    "from sklearn.decomposition import PCA\n",
    "from sklearn.svm import SVC\n",
    "from sklearn.metrics import roc_curve, auc\n",
    "from sklearn.metrics import RocCurveDisplay\n",
    "import warnings\n",
    "from scipy.sparse import (spdiags, SparseEfficiencyWarning, csc_matrix,\n",
    "    csr_matrix, isspmatrix, dok_matrix, lil_matrix, bsr_matrix)\n",
    "warnings.simplefilter('ignore',SparseEfficiencyWarning) \n",
    "warnings.simplefilter('ignore',UserWarning)"
   ]
  },
  {
   "cell_type": "markdown",
   "metadata": {},
   "source": [
    "## Verschiedene Einstellungen um das Programm anzupassen\n",
    "\n",
    "data_path: gibt den relativen Pfad zu dem Datensatz (Ordner mit Bildern) an.\n",
    "\n",
    "os.listdir(data_path): Zeigt die Ordner an, welche die Bilder für das Trainieren enthalten sollen.\n",
    "\n",
    "SIZE: definiert die größe des Bildes. Hier kann eingestellt werden wie sehr das Bild \"verkleinert\" werden soll. Ein guter Startpunkt ist meist _<original_imagesize/rescaling>_ wobei rescaling einfach als Skalar gewählt werden kann. In dem Beispiel verwenden wir ein viertel der Pixellänge. Sprich ein 416x416 Pixelbild ist dann nur mehr 104x104px groß"
   ]
  },
  {
   "cell_type": "code",
   "execution_count": 14,
   "metadata": {},
   "outputs": [],
   "source": [
    "# Hier kann der Pfad zum Datensatz und die Bildgröße geändert werden\n",
    "\n",
    "data_path = os.getcwd() + \"/data\"\n",
    "os.listdir(data_path) #im falle von dem Hammer-Beispiel werden hier Hammer und Workspace angezeigt\n",
    "SIZE = 28"
   ]
  },
  {
   "cell_type": "markdown",
   "metadata": {},
   "source": [
    "## Zusatzfunktion für das preperieren der Daten \n",
    "Diese funktion lädt alle Bilder in den Workspace (aus dem definierten Pfad) und macht foglende 2 Aktionen:\n",
    "- Resize: Skaliert die Bilder entsprechend der Vorgabe\n",
    "- Dictionary: Erstellt ein Dictionary mit Labels und Metadata (Datensatz für das Trainieren). Der output wird als pickle file im Workspace abgespeichert.\n",
    "\n",
    "Parameter:\n",
    "- src: gibt den Pfad zu den Daten an\n",
    "- pklname: erstellt den Namen für die Pickle Datei\n",
    "- include: Includiert als String List die beiden Klassen (Hammer, Workspace)\n",
    "- width: gibt die größe der Bilder/Resize an\n",
    "\n",
    "Tutorial zum Implementieren von [Dictionaries](https://kapernikov.com/tutorial-image-classification-with-scikit-learn/)"
   ]
  },
  {
   "cell_type": "code",
   "execution_count": 15,
   "metadata": {},
   "outputs": [],
   "source": [
    "# Libraries \n",
    "import joblib\n",
    "from skimage.io import imread\n",
    "from skimage.transform import resize\n",
    "\n",
    "\n",
    "# Funktionsdefinition \n",
    "def resize_all(src, pklname, include, width = 150, height=None):\n",
    "    height = height if height is not None else width #ERRORHANDLING\n",
    "    \n",
    "# definiert den Datansatz als Dictionary \n",
    "    data = dict()\n",
    "    data['description'] = 'resized ({0}x{1}) images in rgb'.format(int(width), int(height))\n",
    "    data['label'] = []\n",
    "    data['filename'] = []\n",
    "    data['data'] = []   \n",
    "\n",
    "    pklname = f\"{pklname}_{width}x{height}px.pkl\"\n",
    "\n",
    "    for subdir in os.listdir(src):\n",
    "        if subdir in include:\n",
    "            print(subdir)\n",
    "            current_path = os.path.join(src, subdir)\n",
    " \n",
    " # itteriert über alle Bilder im Datensatz \n",
    "            for file in os.listdir(current_path):\n",
    "                if file[-3:] in {'jpg', 'png'}:\n",
    "                    im = imread(os.path.join(current_path, file))\n",
    "                    im = resize(im, (width, height)) #[:,:,::-1]\n",
    "                    data['label'].append(subdir[:-4])\n",
    "                    data['filename'].append(file)\n",
    "                    data['data'].append(im)\n",
    " \n",
    "# erstellt die Pickle file\n",
    "        joblib.dump(data, pklname)"
   ]
  },
  {
   "cell_type": "markdown",
   "metadata": {},
   "source": [
    "## Formatieren des Datensatzes\n",
    "Hier wird die Hilfsfunktion aufgerufen, die für das erstellen des Datensatzes notwendig ist. Ebenso werden hier die Parameter übergeben. Zu beachten ist, dass hier nur _.jpg_ und _.png_ Bilder verarbeitet werden können. "
   ]
  },
  {
   "cell_type": "code",
   "execution_count": 16,
   "metadata": {},
   "outputs": [
    {
     "name": "stdout",
     "output_type": "stream",
     "text": [
      "Pullover\n",
      "Dress\n"
     ]
    }
   ],
   "source": [
    "base_name = 'Fashion-MNIST'   # Name für die Beschreibung des Datensatzes\n",
    "width = SIZE                        # Definierte Bildgröße übergeben (Zelle 2)\n",
    "include = {'Dress', 'Pullover'}   # Ordner angeben\n",
    " \n",
    "#FUNCTION CALL\n",
    "resize_all(src=data_path, pklname=base_name, width=width, include=include) # Funktionsaufruf für das erstellen der pkl-Datei "
   ]
  },
  {
   "cell_type": "markdown",
   "metadata": {},
   "source": [
    "## Informationen vom Datensatz\n",
    "anbei werden bei korrektem erstellen des Dictionarys die Informationen dazu angezeigt. Diese werden über die Pickle Datei ausgelesen"
   ]
  },
  {
   "cell_type": "code",
   "execution_count": 17,
   "metadata": {},
   "outputs": [
    {
     "name": "stdout",
     "output_type": "stream",
     "text": [
      "Anzahl der gefundenen Daten:  11976\n",
      "keys:  ['description', 'label', 'filename', 'data']\n",
      "Beschreibung:  resized (28x28) images in rgb\n",
      "Bild Form  (28, 28)\n",
      "Labels: ['D' 'Pull']\n"
     ]
    },
    {
     "data": {
      "text/plain": [
       "Counter({'Pull': 5991, 'D': 5985})"
      ]
     },
     "execution_count": 17,
     "metadata": {},
     "output_type": "execute_result"
    }
   ],
   "source": [
    "from collections import Counter\n",
    " \n",
    "data = joblib.load(f'{base_name}_{width}x{width}px.pkl')    # Laden der Datei\n",
    "print('Anzahl der gefundenen Daten: ', len(data['data']))   \n",
    "print('keys: ', list(data.keys()))                          # Zeigt die einzelnen Komponenten  \n",
    "print('Beschreibung: ', data['description'])                \n",
    "print('Bild Form ', data['data'][0].shape)                  # Format anzeigen. Nützlich für das Reshapen nachher\n",
    "print('Labels:', np.unique(data['label']))                  # Labels für die Klassifizierung\n",
    "Counter(data['label'])                                      # Aufteilung anzeigen"
   ]
  },
  {
   "cell_type": "markdown",
   "metadata": {},
   "source": [
    "## Datensatz Beispiel der beiden Klassen\n",
    "Folgende Zelle lädt jeweils ein Bild/Klasse. Sollten hier nicht erwartete Bilder erscheinen muss der Datensatz überprüft werden."
   ]
  },
  {
   "cell_type": "code",
   "execution_count": 18,
   "metadata": {},
   "outputs": [
    {
     "data": {
      "image/png": "[encoded data removed]",
      "text/plain": [
       "<Figure size 1080x288 with 2 Axes>"
      ]
     },
     "metadata": {
      "needs_background": "light"
     },
     "output_type": "display_data"
    }
   ],
   "source": [
    "labels = np.unique(data['label'])           # Labels auslesen\n",
    "\n",
    "\n",
    "# Matplot handling um Achsen zu erstellen\n",
    "fig, axes = plt.subplots(1, len(labels))    # Plot definieren\n",
    "fig.set_size_inches(15,4)                   # Größe\n",
    "fig.tight_layout() \n",
    "\n",
    "# Generiert einen Plot mit einem Bild aus jeder Klasse\n",
    "for ax, label in zip(axes, labels):\n",
    "    idx = data['label'].index(label)\n",
    "    ax.imshow(data['data'][idx])\n",
    "    ax.axis('off')\n",
    "    ax.set_title(label)"
   ]
  },
  {
   "cell_type": "markdown",
   "metadata": {},
   "source": [
    "## Datensatz umformen\n",
    "Die derzeitige Form eines eingelesenen Bildes ist <index, breite, höhe, schichten> mit index für die Anzahl der Elemente, Breite/Höhe gibt die Bildgröße in Pixel an und Schichten beschreibt die Art des Bildes (3 = RGB)\n",
    "\n",
    "Um eine Klassifikation durchzuführen benötigt das System einen Vektor mit maximal 2 Dimensionen. Wir wollen einen Vektor mit <index, pixel_vektor>, wobei index gleich bleibt um mit den Labels (y-Vektor) übereinzustimmen. Der pixel_vektor (\"Daten\" entsprechend zum Index im X-Vektor) wird aus den restlichen Ebenen gebildet, um einen 1*n Vektor zu erhalten.  \n",
    "\n"
   ]
  },
  {
   "cell_type": "code",
   "execution_count": 19,
   "metadata": {},
   "outputs": [
    {
     "name": "stdout",
     "output_type": "stream",
     "text": [
      "Original Form: (11976, 28, 28)\n",
      "Umgeformter Datensatz der Form: (11976, 784)\n",
      "Der Index muss mit der Labels größe Übereinstimmen. \n",
      "Labels größe: (11976,)\n"
     ]
    }
   ],
   "source": [
    "X = np.array(data['data'])                                      # Einlesen der Bilder\n",
    "print(\"Original Form: {}\".format(X.shape))                      \n",
    "x = X.reshape(X.shape[0], X.shape[1]* X.shape[2])   # Umformen auf die beschriebene Größe\n",
    "print(\"Umgeformter Datensatz der Form: {}\".format(x.shape))\n",
    "\n",
    "y = np.array(data['label'])                                     # Einlesen der Labels\n",
    "print(\"Der Index muss mit der Labels größe Übereinstimmen. \\nLabels größe: {}\".format(y.shape)) #Abgleichen ob die Form übereinstimmt "
   ]
  },
  {
   "cell_type": "markdown",
   "metadata": {},
   "source": [
    "# Abschnitt 2: Erstellen des Modells"
   ]
  },
  {
   "cell_type": "markdown",
   "metadata": {},
   "source": [
    "## SVM-Model\n",
    "(1) Datensatz in Trainings/Test Daten aufteilen <br>\n",
    "(2) principal component analysis (PCA) definieren <br>\n",
    "(3) Modell definieren <br>\n",
    "(4) Genauigkeit auswerten <br>\n",
    "\n",
    "\n",
    "Zum Einsatz kommt hier die sklearn Bibliothek welche ermöglicht ein bereits existierendes Model einzubinden und nur die Parameter zu definieren. Dadurch sind features wie Skalieren, PCA oder das Trainieren leicht umgesetzt. \n",
    "\n",
    "Weitere Dokumentation: <br>\n",
    "[Model](https://rpubs.com/Sharon_1684/454441) <br>\n",
    "[SVM Dokumentation](https://scikit-learn.org/stable/modules/svm.html)"
   ]
  },
  {
   "cell_type": "markdown",
   "metadata": {},
   "source": [
    "### Aufteilen und Transformieren (PCA)\n",
    "#### (1) Datensatz Teilen\n",
    "Im ersten Abschnitt der folgenden Zelle wird der Datensatz in Trainings und Test Daten aufgeteilt. Das ermöglicht das trainieren und das anschließende testen des Models \n",
    "\n",
    "#### (2) Principal Component Analysis (PCA)\n",
    "Im zweiten Teil wird eine PCA auf den Datensatz angewandt. Dies ermöglicht, dass nicht alle Pixel als Trainingsdaten herangezogen werden sonder nur herausstechende Features. \n"
   ]
  },
  {
   "cell_type": "code",
   "execution_count": 20,
   "metadata": {},
   "outputs": [
    {
     "name": "stdout",
     "output_type": "stream",
     "text": [
      "125\n"
     ]
    },
    {
     "data": {
      "text/plain": [
       "D       4196\n",
       "Pull    4187\n",
       "dtype: int64"
      ]
     },
     "execution_count": 20,
     "metadata": {},
     "output_type": "execute_result"
    }
   ],
   "source": [
    "# Aufteilen des Datensatzes (1)\n",
    "X_train, X_test, y_train, y_test = train_test_split(x,\n",
    "                                                    y,\n",
    "                                                    test_size=.3,\n",
    "                                                    random_state=1234123)\n",
    "\n",
    "\n",
    "# (2) Skalieren\n",
    "scaler = StandardScaler()\n",
    "x_train = scaler.fit_transform(X_train)\n",
    "x_test = scaler.transform(X_test)\n",
    "\n",
    "\n",
    "#  PCA (2)\n",
    "pca = PCA(.95)                                  # verwendet 95% der Komponenten und erstellen der \"PCA-Instanz\"\n",
    "pca.fit(X_train)                                # PCA aufgrund von Datensatz auslegen\n",
    "pca.n_components_   \n",
    "print(pca.n_components_)                            \n",
    "X_train = pca.transform(X_train)                # PCA auf Datensatz anwenden\n",
    "X_test = pca.transform(X_test)                  # PCA auf Test Daten anwenden\n",
    "pd.Series(y_train).value_counts()               # Evaluieren der Verteilung der Daten"
   ]
  },
  {
   "cell_type": "markdown",
   "metadata": {},
   "source": [
    "#### (3) Modell definieren\n",
    "In der folgenden Zelle wird die Support Vector Machine definiert. Hierzu wird die C-Support Vector Classification von der sklearn-Bibliothek eingefügt. \n",
    "\n",
    "\n",
    "\n",
    "##### kernel{‘linear’, ‘poly’, ‘rbf’, ‘sigmoid’, ‘precomputed’}, default=’rbf’\n",
    "Gibt den Kernel-Typ an, der im Algorithmus verwendet werden soll. Es muss einer der Typen 'linear', 'poly', 'rbf', 'sigmoid', 'precomputed' oder ein Callable sein.\n",
    "\n",
    "##### probabilitybool, default=False\n",
    "Ob Wahrscheinlichkeitsschätzungen aktiviert werden sollen. Verlangsamt das System allerdings ermöglicht es eine 5-fold cross-validation. Genauere Beschreibung: https://scikit-learn.org/stable/modules/svm.html#scores-probabilities\n",
    "\n",
    "##### random_stateint, RandomState instance or None, default=None\n",
    "Aktiviert einen Pseudo-Random-Number-Generator um die Daten zu mischen.\n",
    "\n",
    "\n",
    "#### Weitere Parameter: \n",
    "- break_tiesbool, default=False\n",
    "- decision_function_shape{‘ovo’, ‘ovr’}, default=’ovr’\n",
    "- max_iterint, default=-1\n",
    "- verbosebool, default=False\n",
    "- class_weightdict or ‘balanced’, default=None\n",
    "- cache_sizefloat, default=200\n",
    "\n",
    "Mehr Infos zu den [Parameter](https://scikit-learn.org/stable/modules/generated/sklearn.svm.SVC.html#sklearn.svm.SVC)"
   ]
  },
  {
   "cell_type": "code",
   "execution_count": 21,
   "metadata": {},
   "outputs": [
    {
     "data": {
      "text/plain": [
       "SVC(kernel='linear', probability=True, random_state=42)"
      ]
     },
     "execution_count": 21,
     "metadata": {},
     "output_type": "execute_result"
    }
   ],
   "source": [
    "svm = SVC(kernel='linear', probability=True, random_state=42)       # (3) SVM Definition\n",
    "svm.fit(X_train, y_train)  # Modell Trainieren"
   ]
  },
  {
   "cell_type": "markdown",
   "metadata": {},
   "source": [
    "### (4) Genauigkeit auswerten"
   ]
  },
  {
   "cell_type": "code",
   "execution_count": 22,
   "metadata": {},
   "outputs": [
    {
     "name": "stdout",
     "output_type": "stream",
     "text": [
      "Model accuracy:  0.9688282772056777\n"
     ]
    },
    {
     "data": {
      "image/png": "[encoded data removed]",
      "text/plain": [
       "<Figure size 432x288 with 1 Axes>"
      ]
     },
     "metadata": {
      "needs_background": "light"
     },
     "output_type": "display_data"
    }
   ],
   "source": [
    "y_pred = svm.predict(X_test)                     # Prediction für den Test Datensatz\n",
    "accuracy = accuracy_score(y_test, y_pred)        # Auswertung\n",
    "print('Model accuracy: ', accuracy)              # Ausgabe der Genauigkeit\n",
    "svc_disp = RocCurveDisplay.from_estimator(svm, X_test, y_test)  #Visualisierung des Trainings "
   ]
  },
  {
   "cell_type": "markdown",
   "metadata": {},
   "source": [
    "# Abschnitt 3: Webcam Implementierung\n",
    "## Ausführung der Live erkennung\n",
    "In der folgenden Zelle wird ein Kamerastream geöffnet und Frame für Frame eine Prediction durchgeführt. so wie es in dem Demo example auch passiert ist. Der unterschied hier ist lediglich, dass die Bilder nicht eingelesen werden über vorhandene Daten sondern dynamisch über die Kamera \"generiert\" werden.  \n"
   ]
  },
  {
   "cell_type": "markdown",
   "metadata": {},
   "source": [
    "## Demo Zelle für das Ausführen der Prediction für 2 Bilder\n",
    "Die folgende Zelle nimmt nun das trainierte Modell her und führt eine Prediction anhand zwei demo Bilder durch. Diese sind in dem Demo Ordner hinterlegt. Ziel ist es einmal einen Workspace und einmal einen Hammer zu erkennen. Ist dies nicht der Fall, ist es wahrscheinlich keine gute Vorraussetzung für die Webcam-Implementation und die Modell-Parameter sollten überarbeitet werden. "
   ]
  },
  {
   "cell_type": "code",
   "execution_count": 23,
   "metadata": {},
   "outputs": [
    {
     "name": "stdout",
     "output_type": "stream",
     "text": [
      "Dress Example:\n",
      "Class: D\t with Probability of: \t[9.99999353e-01 6.47333746e-07] \n",
      "Pullover Example:\n",
      "Class: Pull\t with Probability of: \t[3.0000009e-14 1.0000000e+00] \n"
     ]
    }
   ],
   "source": [
    "\n",
    "# Einlesen und definieren der Bilder\n",
    "demo1 = \"demo/001.png\"\n",
    "demo2 = \"demo/002.png\"\n",
    "width = SIZE\n",
    "height = SIZE\n",
    "\n",
    "# Vorbereiten der Bilder\n",
    "im1 = imread(demo1)\n",
    "im1 = resize(im1, (width, height))\n",
    "im1 = im1.reshape(1 ,-1)\n",
    "im1 = scaler.transform(im1)\n",
    "im1 = pca.transform(im1)\n",
    "\n",
    "im2 = imread(demo2)\n",
    "im2 = resize(im2, (width, height))\n",
    "im2 = im2.reshape(1 ,-1)\n",
    "im2 = scaler.transform(im2)\n",
    "im2 = pca.transform(im2)\n",
    "\n",
    "\n",
    "# Prediction und Ausgabe für das erste Bild\n",
    "y_new_prob  = svm.predict_proba(im1)\n",
    "y_new  = svm.predict(im1)\n",
    "print(\"Dress Example:\")\n",
    "print(\"Class: {}\\t with Probability of: \\t{} \".format(y_new[0], y_new_prob[0]))\n",
    "\n",
    "# Prediction und Ausgabe für das zweite Bild\n",
    "y_new_prob  = svm.predict_proba(im2)\n",
    "y_new  = svm.predict(im2)\n",
    "print(\"Pullover Example:\")\n",
    "print(\"Class: {}\\t with Probability of: \\t{} \".format(y_new[0], y_new_prob[0]))"
   ]
  },
  {
   "cell_type": "code",
   "execution_count": 24,
   "metadata": {},
   "outputs": [
    {
     "name": "stdout",
     "output_type": "stream",
     "text": [
      "***************\n",
      "Example Image: 20\n",
      "Pullover\n",
      "100.00%\n"
     ]
    }
   ],
   "source": [
    "\n",
    "#libraries\n",
    "from skimage.transform import resize\n",
    "from sklearn.decomposition import PCA\n",
    "import cv2\n",
    "from IPython.display import clear_output\n",
    "\n",
    "\n",
    "cv2.namedWindow('Prediction | press q to exit', 0)\n",
    "i = 0\n",
    "for filename in os.listdir(\"demo\"):\n",
    "    img = cv2.imread(os.path.join(\"demo/\",filename), 0)\n",
    "    img = resize(img, (width, height))\n",
    "    if img is None:\n",
    "        print(os.path.join(\"demo/\",filename))\n",
    "        break\n",
    "    else: \n",
    "        # Bild aus einer Matrix in einen Vektor umformen \n",
    "        image = img.reshape(1 ,-1)\n",
    "\n",
    "        # Bild an das Modell anpassen (Skalieren und PCA anwenden)\n",
    "        image = scaler.transform(image)\n",
    "        image = pca.transform(image)\n",
    "\n",
    "        #Predict \n",
    "        y_new_prob  = svm.predict_proba(image)\n",
    "        y_new  = svm.predict(image)\n",
    "\n",
    "        # Wahrscheinlichkeit des Bildes (bei einer Klassifizierung) in Prozent umrechnen\n",
    "        prob = y_new_prob[0]*100\n",
    "\n",
    "\n",
    "        clear_output(wait=True)\n",
    "        print(\"***************\")\n",
    "        i = i+1\n",
    "        print(\"Example Image: {}\".format(i))\n",
    "        #Auswertung für die \"live\" Darstellung\n",
    "        if (y_new == \"D\"):\n",
    "            print(\"Dress\")\n",
    "            print(\"{:.2f}%\".format(prob[0]))\n",
    "        elif (y_new == \"Pull\"): \n",
    "\n",
    "            print(\"Pullover\")\n",
    "            print(\"{:.2f}%\".format(prob[1]))\n",
    "        else:\n",
    "            print(\"Unknown Class: ({})\".format(y_new))\n",
    "\n",
    "        \n",
    "        #Ausgabe \n",
    "        cv2.imshow('Prediction | press q to exit', img)\n",
    "        #User Input für das beenden des Darstellen  \n",
    "        if cv2.waitKey(1000) & 0xFF == ord('q'):    \n",
    "            break\n",
    "\n",
    "\n",
    "# Stream schließen und Window Handling\n",
    "\n",
    "cv2.destroyAllWindows()"
   ]
  }
 ],
 "metadata": {
  "interpreter": {
   "hash": "916dbcbb3f70747c44a77c7bcd40155683ae19c65e1c03b4aa3499c5328201f1"
  },
  "kernelspec": {
   "display_name": "Python 3 (ipykernel)",
   "language": "python",
   "name": "python3"
  },
  "language_info": {
   "codemirror_mode": {
    "name": "ipython",
    "version": 3
   },
   "file_extension": ".py",
   "mimetype": "text/x-python",
   "name": "python",
   "nbconvert_exporter": "python",
   "pygments_lexer": "ipython3",
   "version": "3.8.10"
  }
 },
 "nbformat": 4,
 "nbformat_minor": 2
}

{
 "cells": [
  {
   "cell_type": "code",
   "execution_count": 14,
   "metadata": {},
   "outputs": [],
   "source": [
    "# Import required packages and functions and set the session seed\n",
    "import numpy as np\n",
    "np.random.seed(1234)\n",
    "import tensorflow as tf\n",
    "from tensorflow.random import set_seed \n",
    "tf.random.set_seed(1234)\n",
    "from tensorflow import keras\n",
    "import matplotlib.pyplot as plt\n",
    "import keras\n",
    "from keras.models import Sequential\n",
    "from keras.layers import Dense, Activation, Flatten, Conv2D, MaxPooling2D\n",
    "from keras.layers import Dropout, SpatialDropout2D\n",
    "from tensorflow.keras.applications import VGG19\n",
    "from keras.applications.vgg19 import preprocess_input\n",
    "from keras.models import Model\n",
    "from keras.datasets import fashion_mnist\n",
    "from tensorflow.keras.utils import to_categorical\n",
    "from keras import models\n",
    "from keras import layers\n",
    "from keras import optimizers"
   ]
  },
  {
   "cell_type": "code",
   "execution_count": 15,
   "metadata": {},
   "outputs": [],
   "source": [
    "# Load the Fashion MNIST data from Keras\n",
    "(train_images, train_labels), (test_images, test_labels) = fashion_mnist.load_data()"
   ]
  },
  {
   "cell_type": "code",
   "execution_count": 16,
   "metadata": {},
   "outputs": [],
   "source": [
    "# Normalize the image data by dividing through the maximum pixel value (=255)\n",
    "train_images = train_images / train_images.max()\n",
    "test_images = test_images / test_images.max()"
   ]
  },
  {
   "cell_type": "code",
   "execution_count": 17,
   "metadata": {},
   "outputs": [
    {
     "name": "stderr",
     "output_type": "stream",
     "text": [
      "2022-03-20 12:07:56.579508: I tensorflow/stream_executor/cuda/cuda_gpu_executor.cc:936] successful NUMA node read from SysFS had negative value (-1), but there must be at least one NUMA node, so returning NUMA node zero\n",
      "2022-03-20 12:07:56.624771: I tensorflow/stream_executor/cuda/cuda_gpu_executor.cc:936] successful NUMA node read from SysFS had negative value (-1), but there must be at least one NUMA node, so returning NUMA node zero\n",
      "2022-03-20 12:07:56.625300: I tensorflow/stream_executor/cuda/cuda_gpu_executor.cc:936] successful NUMA node read from SysFS had negative value (-1), but there must be at least one NUMA node, so returning NUMA node zero\n",
      "2022-03-20 12:07:56.627092: I tensorflow/core/platform/cpu_feature_guard.cc:151] This TensorFlow binary is optimized with oneAPI Deep Neural Network Library (oneDNN) to use the following CPU instructions in performance-critical operations:  AVX2 FMA\n",
      "To enable them in other operations, rebuild TensorFlow with the appropriate compiler flags.\n",
      "2022-03-20 12:07:56.673936: I tensorflow/stream_executor/cuda/cuda_gpu_executor.cc:936] successful NUMA node read from SysFS had negative value (-1), but there must be at least one NUMA node, so returning NUMA node zero\n",
      "2022-03-20 12:07:56.674527: I tensorflow/stream_executor/cuda/cuda_gpu_executor.cc:936] successful NUMA node read from SysFS had negative value (-1), but there must be at least one NUMA node, so returning NUMA node zero\n",
      "2022-03-20 12:07:56.674955: I tensorflow/stream_executor/cuda/cuda_gpu_executor.cc:936] successful NUMA node read from SysFS had negative value (-1), but there must be at least one NUMA node, so returning NUMA node zero\n",
      "2022-03-20 12:07:57.538297: I tensorflow/stream_executor/cuda/cuda_gpu_executor.cc:936] successful NUMA node read from SysFS had negative value (-1), but there must be at least one NUMA node, so returning NUMA node zero\n",
      "2022-03-20 12:07:57.538737: I tensorflow/stream_executor/cuda/cuda_gpu_executor.cc:936] successful NUMA node read from SysFS had negative value (-1), but there must be at least one NUMA node, so returning NUMA node zero\n",
      "2022-03-20 12:07:57.539133: I tensorflow/stream_executor/cuda/cuda_gpu_executor.cc:936] successful NUMA node read from SysFS had negative value (-1), but there must be at least one NUMA node, so returning NUMA node zero\n",
      "2022-03-20 12:07:57.539810: I tensorflow/core/common_runtime/gpu/gpu_device.cc:1525] Created device /job:localhost/replica:0/task:0/device:GPU:0 with 6203 MB memory:  -> device: 0, name: NVIDIA GeForce RTX 2070 Super with Max-Q Design, pci bus id: 0000:01:00.0, compute capability: 7.5\n"
     ]
    }
   ],
   "source": [
    "# Build a simple three-layer (1 hidden layer) model\n",
    "# The input size is 28 x 28 pixels and is flattened to a vector of length 784\n",
    "# The activation function is RELU (rectified linear unit) and performs the \n",
    "# multiplication of input and weights (plus bias)\n",
    "# The output (softmax) layer returns probabilities for all ten classes\n",
    "three_layer_model = Sequential()\n",
    "three_layer_model.add(Flatten(input_shape = (28, 28)))\n",
    "three_layer_model.add(Dense(128, activation = 'relu'))\n",
    "three_layer_model.add(Dense(10, activation = 'softmax'))"
   ]
  },
  {
   "cell_type": "code",
   "execution_count": 36,
   "metadata": {},
   "outputs": [
    {
     "name": "stdout",
     "output_type": "stream",
     "text": [
      "Epoch 1/10\n",
      "1313/1313 - 4s - loss: 0.0742 - acc: 0.9728 - val_loss: 0.5767 - val_acc: 0.8888 - 4s/epoch - 3ms/step\n",
      "Epoch 2/10\n",
      "1313/1313 - 3s - loss: 0.0717 - acc: 0.9729 - val_loss: 0.5901 - val_acc: 0.8881 - 3s/epoch - 2ms/step\n",
      "Epoch 3/10\n",
      "1313/1313 - 3s - loss: 0.0710 - acc: 0.9733 - val_loss: 0.5622 - val_acc: 0.8883 - 3s/epoch - 2ms/step\n",
      "Epoch 4/10\n",
      "1313/1313 - 3s - loss: 0.0699 - acc: 0.9745 - val_loss: 0.5675 - val_acc: 0.8917 - 3s/epoch - 2ms/step\n",
      "Epoch 5/10\n",
      "1313/1313 - 3s - loss: 0.0667 - acc: 0.9753 - val_loss: 0.5999 - val_acc: 0.8850 - 3s/epoch - 2ms/step\n",
      "Epoch 6/10\n",
      "1313/1313 - 3s - loss: 0.0639 - acc: 0.9767 - val_loss: 0.5730 - val_acc: 0.8912 - 3s/epoch - 2ms/step\n",
      "Epoch 7/10\n",
      "1313/1313 - 3s - loss: 0.0684 - acc: 0.9753 - val_loss: 0.5932 - val_acc: 0.8913 - 3s/epoch - 2ms/step\n",
      "Epoch 8/10\n",
      "1313/1313 - 3s - loss: 0.0611 - acc: 0.9775 - val_loss: 0.5933 - val_acc: 0.8874 - 3s/epoch - 2ms/step\n",
      "Epoch 9/10\n",
      "1313/1313 - 3s - loss: 0.0661 - acc: 0.9757 - val_loss: 0.6046 - val_acc: 0.8893 - 3s/epoch - 2ms/step\n",
      "Epoch 10/10\n",
      "1313/1313 - 3s - loss: 0.0611 - acc: 0.9775 - val_loss: 0.6132 - val_acc: 0.8863 - 3s/epoch - 2ms/step\n"
     ]
    },
    {
     "data": {
      "text/plain": [
       "<keras.callbacks.History at 0x7faf803eebb0>"
      ]
     },
     "execution_count": 36,
     "metadata": {},
     "output_type": "execute_result"
    }
   ],
   "source": [
    "# Compile the model with accuracy metric and adam optimizer\n",
    "# Sparse categorical cross-entropy is the loss function for integer labels\n",
    "# Fit the model using 70 percent of the data and 10 epochs\n",
    "three_layer_model.compile(loss = 'sparse_categorical_crossentropy', \n",
    "                          optimizer = 'adam', metrics = ['acc'])\n",
    "three_layer_model.fit(train_images, train_labels, epochs = 10, \n",
    "                      validation_split = 0.3, verbose = 2)"
   ]
  },
  {
   "cell_type": "code",
   "execution_count": 37,
   "metadata": {},
   "outputs": [
    {
     "name": "stdout",
     "output_type": "stream",
     "text": [
      "313/313 [==============================] - 1s 2ms/step - loss: 0.6749 - acc: 0.8820\n",
      "Model with three layers and ten epochs -- Test loss: 67.49342679977417\n",
      "Model with three layers and ten epochs -- Test accuracy: 88.20000290870667\n"
     ]
    }
   ],
   "source": [
    "# Compute and print the test loss and accuracy\n",
    "test_loss, test_acc = three_layer_model.evaluate(test_images, test_labels)\n",
    "print(\"Model with three layers and ten epochs -- Test loss:\", test_loss * 100)\n",
    "print(\"Model with three layers and ten epochs -- Test accuracy:\", test_acc * 100)"
   ]
  },
  {
   "cell_type": "code",
   "execution_count": 38,
   "metadata": {},
   "outputs": [],
   "source": [
    "# Similarly as before, build a five-layer (3 hidden layers) model\n",
    "five_layer_model = Sequential()\n",
    "five_layer_model.add(Flatten(input_shape = (28, 28)))\n",
    "five_layer_model.add(Dense(128, activation = 'relu'))\n",
    "five_layer_model.add(Dense(128, activation = 'relu'))\n",
    "five_layer_model.add(Dense(128, activation = 'relu'))\n",
    "five_layer_model.add(Dense(10, activation = 'softmax'))"
   ]
  },
  {
   "cell_type": "code",
   "execution_count": 39,
   "metadata": {},
   "outputs": [
    {
     "name": "stdout",
     "output_type": "stream",
     "text": [
      "Epoch 1/10\n",
      "1313/1313 - 4s - loss: 0.5237 - accuracy: 0.8125 - val_loss: 0.4040 - val_accuracy: 0.8561 - 4s/epoch - 3ms/step\n",
      "Epoch 2/10\n",
      "1313/1313 - 4s - loss: 0.3867 - accuracy: 0.8576 - val_loss: 0.3647 - val_accuracy: 0.8676 - 4s/epoch - 3ms/step\n",
      "Epoch 3/10\n",
      "1313/1313 - 4s - loss: 0.3482 - accuracy: 0.8709 - val_loss: 0.3467 - val_accuracy: 0.8736 - 4s/epoch - 3ms/step\n",
      "Epoch 4/10\n",
      "1313/1313 - 3s - loss: 0.3250 - accuracy: 0.8794 - val_loss: 0.3636 - val_accuracy: 0.8699 - 3s/epoch - 3ms/step\n",
      "Epoch 5/10\n",
      "1313/1313 - 4s - loss: 0.3048 - accuracy: 0.8866 - val_loss: 0.3394 - val_accuracy: 0.8794 - 4s/epoch - 3ms/step\n",
      "Epoch 6/10\n",
      "1313/1313 - 4s - loss: 0.2904 - accuracy: 0.8909 - val_loss: 0.3499 - val_accuracy: 0.8703 - 4s/epoch - 3ms/step\n",
      "Epoch 7/10\n",
      "1313/1313 - 3s - loss: 0.2763 - accuracy: 0.8959 - val_loss: 0.3189 - val_accuracy: 0.8847 - 3s/epoch - 2ms/step\n",
      "Epoch 8/10\n",
      "1313/1313 - 4s - loss: 0.2636 - accuracy: 0.8991 - val_loss: 0.3248 - val_accuracy: 0.8841 - 4s/epoch - 3ms/step\n",
      "Epoch 9/10\n",
      "1313/1313 - 4s - loss: 0.2528 - accuracy: 0.9051 - val_loss: 0.3513 - val_accuracy: 0.8797 - 4s/epoch - 3ms/step\n",
      "Epoch 10/10\n",
      "1313/1313 - 3s - loss: 0.2440 - accuracy: 0.9078 - val_loss: 0.3381 - val_accuracy: 0.8799 - 3s/epoch - 2ms/step\n"
     ]
    },
    {
     "data": {
      "text/plain": [
       "<keras.callbacks.History at 0x7faf803ee4f0>"
      ]
     },
     "execution_count": 39,
     "metadata": {},
     "output_type": "execute_result"
    }
   ],
   "source": [
    "# Compile the model with accuracy metric and adam optimizer\n",
    "# Fit the model using 70 percent of the data and 10 epochs\n",
    "five_layer_model.compile(loss = 'sparse_categorical_crossentropy', \n",
    "                         optimizer = 'adam', metrics = ['accuracy'])\n",
    "five_layer_model.fit(train_images, train_labels, epochs = 10, \n",
    "                     validation_split = 0.3, verbose = 2)"
   ]
  },
  {
   "cell_type": "code",
   "execution_count": 40,
   "metadata": {},
   "outputs": [
    {
     "name": "stdout",
     "output_type": "stream",
     "text": [
      "313/313 [==============================] - 1s 2ms/step - loss: 0.3664 - accuracy: 0.8701\n",
      "Model with five layers and ten epochs -- Test loss: 36.636048555374146\n",
      "Model with five layers and ten epochs -- Test accuracy: 87.01000213623047\n"
     ]
    }
   ],
   "source": [
    "# Compute and print the test loss and accuracy\n",
    "test_loss, test_acc = five_layer_model.evaluate(test_images, test_labels)\n",
    "print(\"Model with five layers and ten epochs -- Test loss:\", test_loss * 100)\n",
    "print(\"Model with five layers and ten epochs -- Test accuracy:\", test_acc * 100)"
   ]
  },
  {
   "cell_type": "code",
   "execution_count": 41,
   "metadata": {},
   "outputs": [],
   "source": [
    "# Similarly as before, build a ten-layer (8 hidden layers) model\n",
    "ten_layer_model = Sequential()\n",
    "ten_layer_model.add(Flatten(input_shape = (28, 28)))\n",
    "ten_layer_model.add(Dense(128, activation = 'relu'))\n",
    "ten_layer_model.add(Dense(128, activation = 'relu'))\n",
    "ten_layer_model.add(Dense(128, activation = 'relu'))\n",
    "ten_layer_model.add(Dense(128, activation = 'relu'))\n",
    "ten_layer_model.add(Dense(128, activation = 'relu'))\n",
    "ten_layer_model.add(Dense(128, activation = 'relu'))\n",
    "ten_layer_model.add(Dense(128, activation = 'relu'))\n",
    "ten_layer_model.add(Dense(128, activation = 'relu'))\n",
    "ten_layer_model.add(Dense(10, activation = 'softmax'))"
   ]
  },
  {
   "cell_type": "code",
   "execution_count": 24,
   "metadata": {},
   "outputs": [
    {
     "name": "stdout",
     "output_type": "stream",
     "text": [
      "Epoch 1/10\n",
      "1313/1313 - 5s - loss: 0.5936 - accuracy: 0.7814 - val_loss: 0.4528 - val_accuracy: 0.8426 - 5s/epoch - 4ms/step\n",
      "Epoch 2/10\n",
      "1313/1313 - 4s - loss: 0.4271 - accuracy: 0.8459 - val_loss: 0.3891 - val_accuracy: 0.8614 - 4s/epoch - 3ms/step\n",
      "Epoch 3/10\n",
      "1313/1313 - 4s - loss: 0.3792 - accuracy: 0.8639 - val_loss: 0.3790 - val_accuracy: 0.8624 - 4s/epoch - 3ms/step\n",
      "Epoch 4/10\n",
      "1313/1313 - 4s - loss: 0.3565 - accuracy: 0.8712 - val_loss: 0.3591 - val_accuracy: 0.8683 - 4s/epoch - 3ms/step\n",
      "Epoch 5/10\n",
      "1313/1313 - 4s - loss: 0.3366 - accuracy: 0.8783 - val_loss: 0.3483 - val_accuracy: 0.8809 - 4s/epoch - 3ms/step\n",
      "Epoch 6/10\n",
      "1313/1313 - 4s - loss: 0.3276 - accuracy: 0.8815 - val_loss: 0.3765 - val_accuracy: 0.8645 - 4s/epoch - 3ms/step\n",
      "Epoch 7/10\n",
      "1313/1313 - 4s - loss: 0.3104 - accuracy: 0.8885 - val_loss: 0.3317 - val_accuracy: 0.8830 - 4s/epoch - 3ms/step\n",
      "Epoch 8/10\n",
      "1313/1313 - 4s - loss: 0.3010 - accuracy: 0.8900 - val_loss: 0.3892 - val_accuracy: 0.8668 - 4s/epoch - 3ms/step\n",
      "Epoch 9/10\n",
      "1313/1313 - 4s - loss: 0.2869 - accuracy: 0.8956 - val_loss: 0.3427 - val_accuracy: 0.8818 - 4s/epoch - 3ms/step\n",
      "Epoch 10/10\n",
      "1313/1313 - 4s - loss: 0.2825 - accuracy: 0.8980 - val_loss: 0.3773 - val_accuracy: 0.8708 - 4s/epoch - 3ms/step\n"
     ]
    },
    {
     "data": {
      "text/plain": [
       "<keras.callbacks.History at 0x7fb01592e220>"
      ]
     },
     "execution_count": 24,
     "metadata": {},
     "output_type": "execute_result"
    }
   ],
   "source": [
    "# Compile the model with accuracy metric and adam optimizer\n",
    "# Fit the model using 70 percent of the data and 10 epochs\n",
    "ten_layer_model.compile(loss = 'sparse_categorical_crossentropy', \n",
    "                        optimizer = 'adam', metrics = ['accuracy'])\n",
    "ten_layer_model.fit(train_images, train_labels, epochs = 10, \n",
    "                    validation_split = 0.3, verbose = 2)"
   ]
  },
  {
   "cell_type": "code",
   "execution_count": 25,
   "metadata": {},
   "outputs": [
    {
     "name": "stdout",
     "output_type": "stream",
     "text": [
      "313/313 [==============================] - 1s 3ms/step - loss: 0.4019 - accuracy: 0.8646\n",
      "Model with ten layers and ten epochs -- Test loss: 40.19055962562561\n",
      "Model with ten layers and ten epochs -- Test accuracy: 86.46000027656555\n"
     ]
    }
   ],
   "source": [
    "# Compute and print the test loss and accuracy\n",
    "test_loss, test_acc = ten_layer_model.evaluate(test_images, test_labels)\n",
    "print(\"Model with ten layers and ten epochs -- Test loss:\", test_loss * 100)\n",
    "print(\"Model with ten layers and ten epochs -- Test accuracy:\", test_acc * 100)"
   ]
  },
  {
   "cell_type": "code",
   "execution_count": 26,
   "metadata": {},
   "outputs": [
    {
     "name": "stdout",
     "output_type": "stream",
     "text": [
      "Epoch 1/50\n",
      "1313/1313 - 3s - loss: 0.2349 - accuracy: 0.9117 - val_loss: 0.3197 - val_accuracy: 0.8884 - 3s/epoch - 2ms/step\n",
      "Epoch 2/50\n",
      "1313/1313 - 3s - loss: 0.2270 - accuracy: 0.9152 - val_loss: 0.3832 - val_accuracy: 0.8742 - 3s/epoch - 2ms/step\n",
      "Epoch 3/50\n",
      "1313/1313 - 3s - loss: 0.2213 - accuracy: 0.9178 - val_loss: 0.3222 - val_accuracy: 0.8885 - 3s/epoch - 2ms/step\n",
      "Epoch 4/50\n",
      "1313/1313 - 2s - loss: 0.2135 - accuracy: 0.9200 - val_loss: 0.3209 - val_accuracy: 0.8922 - 2s/epoch - 2ms/step\n",
      "Epoch 5/50\n",
      "1313/1313 - 3s - loss: 0.2058 - accuracy: 0.9217 - val_loss: 0.3335 - val_accuracy: 0.8905 - 3s/epoch - 2ms/step\n",
      "Epoch 6/50\n",
      "1313/1313 - 3s - loss: 0.1984 - accuracy: 0.9259 - val_loss: 0.3623 - val_accuracy: 0.8768 - 3s/epoch - 2ms/step\n",
      "Epoch 7/50\n",
      "1313/1313 - 3s - loss: 0.1943 - accuracy: 0.9261 - val_loss: 0.3249 - val_accuracy: 0.8922 - 3s/epoch - 3ms/step\n",
      "Epoch 8/50\n",
      "1313/1313 - 3s - loss: 0.1880 - accuracy: 0.9295 - val_loss: 0.3389 - val_accuracy: 0.8888 - 3s/epoch - 2ms/step\n",
      "Epoch 9/50\n",
      "1313/1313 - 3s - loss: 0.1807 - accuracy: 0.9326 - val_loss: 0.3453 - val_accuracy: 0.8907 - 3s/epoch - 3ms/step\n",
      "Epoch 10/50\n",
      "1313/1313 - 3s - loss: 0.1769 - accuracy: 0.9332 - val_loss: 0.3582 - val_accuracy: 0.8856 - 3s/epoch - 2ms/step\n",
      "Epoch 11/50\n",
      "1313/1313 - 3s - loss: 0.1695 - accuracy: 0.9355 - val_loss: 0.3516 - val_accuracy: 0.8910 - 3s/epoch - 2ms/step\n",
      "Epoch 12/50\n",
      "1313/1313 - 3s - loss: 0.1675 - accuracy: 0.9377 - val_loss: 0.3766 - val_accuracy: 0.8829 - 3s/epoch - 2ms/step\n",
      "Epoch 13/50\n",
      "1313/1313 - 3s - loss: 0.1629 - accuracy: 0.9395 - val_loss: 0.3602 - val_accuracy: 0.8863 - 3s/epoch - 2ms/step\n",
      "Epoch 14/50\n",
      "1313/1313 - 3s - loss: 0.1607 - accuracy: 0.9388 - val_loss: 0.3522 - val_accuracy: 0.8914 - 3s/epoch - 2ms/step\n",
      "Epoch 15/50\n",
      "1313/1313 - 3s - loss: 0.1544 - accuracy: 0.9425 - val_loss: 0.3626 - val_accuracy: 0.8921 - 3s/epoch - 3ms/step\n",
      "Epoch 16/50\n",
      "1313/1313 - 3s - loss: 0.1504 - accuracy: 0.9437 - val_loss: 0.3898 - val_accuracy: 0.8796 - 3s/epoch - 2ms/step\n",
      "Epoch 17/50\n",
      "1313/1313 - 3s - loss: 0.1463 - accuracy: 0.9444 - val_loss: 0.3693 - val_accuracy: 0.8920 - 3s/epoch - 2ms/step\n",
      "Epoch 18/50\n",
      "1313/1313 - 3s - loss: 0.1446 - accuracy: 0.9454 - val_loss: 0.3840 - val_accuracy: 0.8887 - 3s/epoch - 2ms/step\n",
      "Epoch 19/50\n",
      "1313/1313 - 3s - loss: 0.1383 - accuracy: 0.9480 - val_loss: 0.3853 - val_accuracy: 0.8886 - 3s/epoch - 2ms/step\n",
      "Epoch 20/50\n",
      "1313/1313 - 4s - loss: 0.1371 - accuracy: 0.9490 - val_loss: 0.3976 - val_accuracy: 0.8868 - 4s/epoch - 3ms/step\n",
      "Epoch 21/50\n",
      "1313/1313 - 3s - loss: 0.1334 - accuracy: 0.9503 - val_loss: 0.3872 - val_accuracy: 0.8904 - 3s/epoch - 3ms/step\n",
      "Epoch 22/50\n",
      "1313/1313 - 3s - loss: 0.1288 - accuracy: 0.9516 - val_loss: 0.3897 - val_accuracy: 0.8940 - 3s/epoch - 3ms/step\n",
      "Epoch 23/50\n",
      "1313/1313 - 3s - loss: 0.1258 - accuracy: 0.9530 - val_loss: 0.4403 - val_accuracy: 0.8849 - 3s/epoch - 2ms/step\n",
      "Epoch 24/50\n",
      "1313/1313 - 3s - loss: 0.1255 - accuracy: 0.9535 - val_loss: 0.4323 - val_accuracy: 0.8877 - 3s/epoch - 3ms/step\n",
      "Epoch 25/50\n",
      "1313/1313 - 3s - loss: 0.1213 - accuracy: 0.9547 - val_loss: 0.4147 - val_accuracy: 0.8893 - 3s/epoch - 2ms/step\n",
      "Epoch 26/50\n",
      "1313/1313 - 3s - loss: 0.1166 - accuracy: 0.9568 - val_loss: 0.4209 - val_accuracy: 0.8883 - 3s/epoch - 3ms/step\n",
      "Epoch 27/50\n",
      "1313/1313 - 3s - loss: 0.1157 - accuracy: 0.9570 - val_loss: 0.4119 - val_accuracy: 0.8922 - 3s/epoch - 2ms/step\n",
      "Epoch 28/50\n",
      "1313/1313 - 3s - loss: 0.1139 - accuracy: 0.9568 - val_loss: 0.4301 - val_accuracy: 0.8914 - 3s/epoch - 2ms/step\n",
      "Epoch 29/50\n",
      "1313/1313 - 3s - loss: 0.1096 - accuracy: 0.9589 - val_loss: 0.4434 - val_accuracy: 0.8857 - 3s/epoch - 2ms/step\n",
      "Epoch 30/50\n",
      "1313/1313 - 3s - loss: 0.1093 - accuracy: 0.9583 - val_loss: 0.4368 - val_accuracy: 0.8902 - 3s/epoch - 2ms/step\n",
      "Epoch 31/50\n",
      "1313/1313 - 3s - loss: 0.1052 - accuracy: 0.9609 - val_loss: 0.4638 - val_accuracy: 0.8868 - 3s/epoch - 2ms/step\n",
      "Epoch 32/50\n",
      "1313/1313 - 3s - loss: 0.1050 - accuracy: 0.9606 - val_loss: 0.4522 - val_accuracy: 0.8887 - 3s/epoch - 2ms/step\n",
      "Epoch 33/50\n",
      "1313/1313 - 4s - loss: 0.1031 - accuracy: 0.9616 - val_loss: 0.4523 - val_accuracy: 0.8891 - 4s/epoch - 3ms/step\n",
      "Epoch 34/50\n",
      "1313/1313 - 3s - loss: 0.0982 - accuracy: 0.9633 - val_loss: 0.4646 - val_accuracy: 0.8857 - 3s/epoch - 2ms/step\n",
      "Epoch 35/50\n",
      "1313/1313 - 3s - loss: 0.0977 - accuracy: 0.9633 - val_loss: 0.4607 - val_accuracy: 0.8890 - 3s/epoch - 2ms/step\n",
      "Epoch 36/50\n",
      "1313/1313 - 3s - loss: 0.0977 - accuracy: 0.9638 - val_loss: 0.4558 - val_accuracy: 0.8906 - 3s/epoch - 2ms/step\n",
      "Epoch 37/50\n",
      "1313/1313 - 3s - loss: 0.0919 - accuracy: 0.9652 - val_loss: 0.4722 - val_accuracy: 0.8900 - 3s/epoch - 2ms/step\n",
      "Epoch 38/50\n",
      "1313/1313 - 3s - loss: 0.0927 - accuracy: 0.9642 - val_loss: 0.4934 - val_accuracy: 0.8897 - 3s/epoch - 2ms/step\n",
      "Epoch 39/50\n",
      "1313/1313 - 3s - loss: 0.0889 - accuracy: 0.9672 - val_loss: 0.5012 - val_accuracy: 0.8862 - 3s/epoch - 2ms/step\n",
      "Epoch 40/50\n",
      "1313/1313 - 4s - loss: 0.0881 - accuracy: 0.9680 - val_loss: 0.5322 - val_accuracy: 0.8826 - 4s/epoch - 3ms/step\n",
      "Epoch 41/50\n",
      "1313/1313 - 3s - loss: 0.0852 - accuracy: 0.9675 - val_loss: 0.4906 - val_accuracy: 0.8901 - 3s/epoch - 2ms/step\n",
      "Epoch 42/50\n",
      "1313/1313 - 3s - loss: 0.0825 - accuracy: 0.9699 - val_loss: 0.5305 - val_accuracy: 0.8893 - 3s/epoch - 3ms/step\n",
      "Epoch 43/50\n",
      "1313/1313 - 3s - loss: 0.0827 - accuracy: 0.9692 - val_loss: 0.4972 - val_accuracy: 0.8881 - 3s/epoch - 2ms/step\n",
      "Epoch 44/50\n",
      "1313/1313 - 3s - loss: 0.0817 - accuracy: 0.9695 - val_loss: 0.5257 - val_accuracy: 0.8871 - 3s/epoch - 2ms/step\n",
      "Epoch 45/50\n",
      "1313/1313 - 3s - loss: 0.0824 - accuracy: 0.9692 - val_loss: 0.5402 - val_accuracy: 0.8824 - 3s/epoch - 2ms/step\n",
      "Epoch 46/50\n",
      "1313/1313 - 3s - loss: 0.0768 - accuracy: 0.9718 - val_loss: 0.5482 - val_accuracy: 0.8894 - 3s/epoch - 2ms/step\n",
      "Epoch 47/50\n",
      "1313/1313 - 4s - loss: 0.0775 - accuracy: 0.9706 - val_loss: 0.5562 - val_accuracy: 0.8888 - 4s/epoch - 3ms/step\n",
      "Epoch 48/50\n",
      "1313/1313 - 3s - loss: 0.0757 - accuracy: 0.9716 - val_loss: 0.5655 - val_accuracy: 0.8863 - 3s/epoch - 2ms/step\n",
      "Epoch 49/50\n",
      "1313/1313 - 3s - loss: 0.0766 - accuracy: 0.9715 - val_loss: 0.5614 - val_accuracy: 0.8854 - 3s/epoch - 3ms/step\n",
      "Epoch 50/50\n",
      "1313/1313 - 3s - loss: 0.0740 - accuracy: 0.9728 - val_loss: 0.5696 - val_accuracy: 0.8911 - 3s/epoch - 2ms/step\n"
     ]
    }
   ],
   "source": [
    "# Compile the model with accuracy metric and adam optimizer\n",
    "# Fit the model using 70 percent of the data and 50 epochs\n",
    "three_layer_model_50_epochs = three_layer_model.fit(train_images, train_labels, \n",
    "                                                  epochs = 50, validation_split = 0.3,\n",
    "                                                  verbose = 2)"
   ]
  },
  {
   "cell_type": "code",
   "execution_count": 43,
   "metadata": {},
   "outputs": [
    {
     "name": "stdout",
     "output_type": "stream",
     "text": [
      "313/313 [==============================] - 1s 2ms/step - loss: 0.6749 - acc: 0.8820\n",
      "Model with three layers and fifty epochs -- Test loss: 67.49342679977417\n",
      "Model with three layers and fifty epochs -- Test accuracy: 88.20000290870667\n"
     ]
    }
   ],
   "source": [
    "# Compute and print the test loss and accuracy\n",
    "test_loss, test_acc = three_layer_model.evaluate(test_images, test_labels)\n",
    "print(\"Model with three layers and fifty epochs -- Test loss:\", test_loss * 100)\n",
    "print(\"Model with three layers and fifty epochs -- Test accuracy:\", test_acc * 100)"
   ]
  },
  {
   "cell_type": "code",
   "execution_count": 44,
   "metadata": {},
   "outputs": [
    {
     "ename": "KeyError",
     "evalue": "'acc'",
     "output_type": "error",
     "traceback": [
      "\u001b[0;31m---------------------------------------------------------------------------\u001b[0m",
      "\u001b[0;31mKeyError\u001b[0m                                  Traceback (most recent call last)",
      "Input \u001b[0;32mIn [44]\u001b[0m, in \u001b[0;36m<cell line: 11>\u001b[0;34m()\u001b[0m\n\u001b[1;32m      9\u001b[0m \u001b[38;5;66;03m# Plot accuracy as function of epochs\u001b[39;00m\n\u001b[1;32m     10\u001b[0m plt\u001b[38;5;241m.\u001b[39msubplot(\u001b[38;5;241m1\u001b[39m, \u001b[38;5;241m2\u001b[39m, \u001b[38;5;241m2\u001b[39m)\n\u001b[0;32m---> 11\u001b[0m plt\u001b[38;5;241m.\u001b[39mplot(\u001b[43mthree_layer_model_50_epochs\u001b[49m\u001b[38;5;241;43m.\u001b[39;49m\u001b[43mhistory\u001b[49m\u001b[43m[\u001b[49m\u001b[38;5;124;43m'\u001b[39;49m\u001b[38;5;124;43macc\u001b[39;49m\u001b[38;5;124;43m'\u001b[39;49m\u001b[43m]\u001b[49m, \u001b[38;5;124m'\u001b[39m\u001b[38;5;124mred\u001b[39m\u001b[38;5;124m'\u001b[39m)\n\u001b[1;32m     12\u001b[0m plt\u001b[38;5;241m.\u001b[39mplot(three_layer_model_50_epochs\u001b[38;5;241m.\u001b[39mhistory[\u001b[38;5;124m'\u001b[39m\u001b[38;5;124mval_acc\u001b[39m\u001b[38;5;124m'\u001b[39m], \u001b[38;5;124m'\u001b[39m\u001b[38;5;124mblue\u001b[39m\u001b[38;5;124m'\u001b[39m)\n\u001b[1;32m     13\u001b[0m plt\u001b[38;5;241m.\u001b[39mylabel(\u001b[38;5;124m'\u001b[39m\u001b[38;5;124macc\u001b[39m\u001b[38;5;124m'\u001b[39m)\n",
      "\u001b[0;31mKeyError\u001b[0m: 'acc'"
     ]
    },
    {
     "data": {
      "image/png": "[encoded data removed]",
      "text/plain": [
       "<Figure size 432x288 with 2 Axes>"
      ]
     },
     "metadata": {
      "needs_background": "light"
     },
     "output_type": "display_data"
    }
   ],
   "source": [
    "# Plot loss as function of epochs\n",
    "plt.subplot(1, 2, 1)\n",
    "plt.plot(three_layer_model_50_epochs.history['val_loss'], 'blue')\n",
    "plt.plot(three_layer_model_50_epochs.history['loss'], 'red')\n",
    "plt.legend(['Cross-validation', 'Training'], loc = 'upper left')\n",
    "plt.ylabel('Loss')\n",
    "plt.xlabel('Epoch')\n",
    "\n",
    "# Plot accuracy as function of epochs\n",
    "plt.subplot(1, 2, 2)\n",
    "plt.plot(three_layer_model_50_epochs.history['acc'], 'red')\n",
    "plt.plot(three_layer_model_50_epochs.history['val_acc'], 'blue')\n",
    "plt.ylabel('acc')\n",
    "plt.xlabel('Epoch')\n",
    "plt.subplots_adjust(wspace = .35)\n",
    "\n",
    "# Include plot title and show the plot\n",
    "plt.suptitle('Model loss and accuracy over epochs for a three-layer neural network')\n",
    "plt.show()"
   ]
  },
  {
   "cell_type": "code",
   "execution_count": null,
   "metadata": {},
   "outputs": [],
   "source": [
    "# Calculate and print predictions versus actual labels\n",
    "predictions = three_layer_model.predict(test_images)\n",
    "for i in range(10):\n",
    "  print(\"Prediction \" + str(i) + \": \" + str(np.argmax(np.round(predictions[i]))))\n",
    "  print(\"Actual \" + str(i) + \": \" + str(test_labels[i]))"
   ]
  },
  {
   "cell_type": "code",
   "execution_count": null,
   "metadata": {},
   "outputs": [],
   "source": [
    "# Reload the data for a convolutional neural network\n",
    "(train_images, train_labels), (test_images, test_labels) = fashion_mnist.load_data()"
   ]
  },
  {
   "cell_type": "code",
   "execution_count": null,
   "metadata": {},
   "outputs": [],
   "source": [
    "# Reshape the data to the correct format (the last 1 stands for greyscale)\n",
    "train_images = train_images.reshape(60000, 28, 28, 1)\n",
    "test_images = test_images.reshape(10000, 28, 28, 1)"
   ]
  },
  {
   "cell_type": "code",
   "execution_count": null,
   "metadata": {},
   "outputs": [],
   "source": [
    "# Convert the image data to numeric data and normalize them\n",
    "train_images = train_images.astype('float32')\n",
    "test_images = test_images.astype('float32')\n",
    "train_images = train_images / train_images.max()\n",
    "test_images = test_images / test_images.max()"
   ]
  },
  {
   "cell_type": "code",
   "execution_count": null,
   "metadata": {},
   "outputs": [],
   "source": [
    "# One-hot encode the label data\n",
    "# Convert every number to a vector of the length of the number of categories\n",
    "# The vector has zero everywhere except a one on the position of the number it \n",
    "# represents. Example: 3 = [0 0 0 1 0 0 0 0 0 0]\n",
    "train_labels_bin = to_categorical(train_labels)\n",
    "test_labels_bin = to_categorical(test_labels)"
   ]
  },
  {
   "cell_type": "code",
   "execution_count": null,
   "metadata": {},
   "outputs": [],
   "source": [
    "# Build a convolutional neural network with two convolutional layers\n",
    "conv_model = Sequential()\n",
    "conv_model.add(Conv2D(128, (3, 3), input_shape = (28, 28, 1)))\n",
    "conv_model.add(Activation('relu'))\n",
    "conv_model.add(MaxPooling2D(pool_size = (2, 2)))\n",
    "conv_model.add(Conv2D(128, (3, 3)))\n",
    "conv_model.add(Activation('relu'))\n",
    "conv_model.add(MaxPooling2D(pool_size = (2, 2)))\n",
    "conv_model.add(Flatten())\n",
    "conv_model.add(Dense(128))\n",
    "conv_model.add(Dense(10))\n",
    "conv_model.add(Activation('softmax'))"
   ]
  },
  {
   "cell_type": "code",
   "execution_count": 34,
   "metadata": {},
   "outputs": [
    {
     "ename": "NameError",
     "evalue": "name 'conv_model' is not defined",
     "output_type": "error",
     "traceback": [
      "\u001b[0;31m---------------------------------------------------------------------------\u001b[0m",
      "\u001b[0;31mNameError\u001b[0m                                 Traceback (most recent call last)",
      "Input \u001b[0;32mIn [34]\u001b[0m, in \u001b[0;36m<cell line: 4>\u001b[0;34m()\u001b[0m\n\u001b[1;32m      1\u001b[0m \u001b[38;5;66;03m# Compile and fit the model with adam optimizer and accuracy metric\u001b[39;00m\n\u001b[1;32m      2\u001b[0m \u001b[38;5;66;03m# Categorical cross-entropy is the loss function for one-hot encoded labels and\u001b[39;00m\n\u001b[1;32m      3\u001b[0m \u001b[38;5;66;03m# batch size equal to the number of neurons in the convolutional layers and 10 epochs\u001b[39;00m\n\u001b[0;32m----> 4\u001b[0m \u001b[43mconv_model\u001b[49m\u001b[38;5;241m.\u001b[39mcompile(loss \u001b[38;5;241m=\u001b[39m \u001b[38;5;124m\"\u001b[39m\u001b[38;5;124mcategorical_crossentropy\u001b[39m\u001b[38;5;124m\"\u001b[39m, \n\u001b[1;32m      5\u001b[0m                    optimizer \u001b[38;5;241m=\u001b[39m \u001b[38;5;124m'\u001b[39m\u001b[38;5;124madam\u001b[39m\u001b[38;5;124m'\u001b[39m, metrics \u001b[38;5;241m=\u001b[39m [\u001b[38;5;124m'\u001b[39m\u001b[38;5;124maccuracy\u001b[39m\u001b[38;5;124m'\u001b[39m])\n\u001b[1;32m      6\u001b[0m conv_model\u001b[38;5;241m.\u001b[39mfit(train_images, train_labels_bin, batch_size \u001b[38;5;241m=\u001b[39m \u001b[38;5;241m128\u001b[39m, \n\u001b[1;32m      7\u001b[0m                epochs \u001b[38;5;241m=\u001b[39m \u001b[38;5;241m10\u001b[39m, verbose \u001b[38;5;241m=\u001b[39m \u001b[38;5;241m2\u001b[39m)\n",
      "\u001b[0;31mNameError\u001b[0m: name 'conv_model' is not defined"
     ]
    }
   ],
   "source": [
    "# Compile and fit the model with adam optimizer and accuracy metric\n",
    "# Categorical cross-entropy is the loss function for one-hot encoded labels and\n",
    "# batch size equal to the number of neurons in the convolutional layers and 10 epochs\n",
    "conv_model.compile(loss = \"categorical_crossentropy\", \n",
    "                   optimizer = 'adam', metrics = ['accuracy'])\n",
    "conv_model.fit(train_images, train_labels_bin, batch_size = 128, \n",
    "               epochs = 10, verbose = 2)"
   ]
  },
  {
   "cell_type": "code",
   "execution_count": 35,
   "metadata": {},
   "outputs": [
    {
     "ename": "NameError",
     "evalue": "name 'conv_model' is not defined",
     "output_type": "error",
     "traceback": [
      "\u001b[0;31m---------------------------------------------------------------------------\u001b[0m",
      "\u001b[0;31mNameError\u001b[0m                                 Traceback (most recent call last)",
      "Input \u001b[0;32mIn [35]\u001b[0m, in \u001b[0;36m<cell line: 2>\u001b[0;34m()\u001b[0m\n\u001b[1;32m      1\u001b[0m \u001b[38;5;66;03m# Compute and print the test loss and accuracy\u001b[39;00m\n\u001b[0;32m----> 2\u001b[0m test_loss, test_acc \u001b[38;5;241m=\u001b[39m \u001b[43mconv_model\u001b[49m\u001b[38;5;241m.\u001b[39mevaluate(test_images, test_labels_bin)\n\u001b[1;32m      3\u001b[0m \u001b[38;5;28mprint\u001b[39m(\u001b[38;5;124m\"\u001b[39m\u001b[38;5;124mConvolutional model ten epochs -- Test loss:\u001b[39m\u001b[38;5;124m\"\u001b[39m, test_loss \u001b[38;5;241m*\u001b[39m \u001b[38;5;241m100\u001b[39m)\n\u001b[1;32m      4\u001b[0m \u001b[38;5;28mprint\u001b[39m(\u001b[38;5;124m\"\u001b[39m\u001b[38;5;124mConvolutional model ten epochs -- Test accuracy:\u001b[39m\u001b[38;5;124m\"\u001b[39m, test_acc \u001b[38;5;241m*\u001b[39m \u001b[38;5;241m100\u001b[39m)\n",
      "\u001b[0;31mNameError\u001b[0m: name 'conv_model' is not defined"
     ]
    }
   ],
   "source": [
    "# Compute and print the test loss and accuracy\n",
    "test_loss, test_acc = conv_model.evaluate(test_images, test_labels_bin)\n",
    "print(\"Convolutional model ten epochs -- Test loss:\", test_loss * 100)\n",
    "print(\"Convolutional model ten epochs -- Test accuracy:\", test_acc * 100)"
   ]
  },
  {
   "cell_type": "code",
   "execution_count": null,
   "metadata": {},
   "outputs": [],
   "source": [
    "# Build a convolutional neural network with two convolutional layers\n",
    "# Decrease number of neurons and add dropout to reduce overfitting\n",
    "conv_model_reduce_overfit = Sequential()\n",
    "conv_model_reduce_overfit.add(Conv2D(64, (3, 3), input_shape = (28, 28, 1)))\n",
    "conv_model_reduce_overfit.add(Activation('relu'))\n",
    "conv_model_reduce_overfit.add(MaxPooling2D(pool_size = (2, 2)))\n",
    "conv_model_reduce_overfit.add(Dropout(0.5))\n",
    "conv_model_reduce_overfit.add(Conv2D(64, (3, 3)))\n",
    "conv_model_reduce_overfit.add(SpatialDropout2D(0.5))\n",
    "conv_model_reduce_overfit.add(Activation('relu'))\n",
    "conv_model_reduce_overfit.add(MaxPooling2D(pool_size = (2, 2)))\n",
    "conv_model_reduce_overfit.add(Flatten())\n",
    "conv_model_reduce_overfit.add(Dense(64))\n",
    "conv_model_reduce_overfit.add(Dropout(0.5))\n",
    "conv_model_reduce_overfit.add(Dense(10))\n",
    "conv_model_reduce_overfit.add(Activation('softmax'))"
   ]
  },
  {
   "cell_type": "code",
   "execution_count": null,
   "metadata": {},
   "outputs": [],
   "source": [
    "# Compile and fit the model with adam optimizer and accuracy metric\n",
    "# Categorical cross-entropy is the loss function for one-hot encoded labels and\n",
    "# batch size equal to the number of neurons in the convolutional layers and 10 epochs\n",
    "# Add early stopping to avoid overfitting\n",
    "conv_model_reduce_overfit.compile(loss = \"categorical_crossentropy\", \n",
    "                   optimizer = 'adam', metrics = ['accuracy'])\n",
    "conv_callback = keras.callbacks.EarlyStopping(monitor = 'val_loss', patience = 3)\n",
    "conv_model_reduce_overfit.fit(train_images, train_labels_bin, validation_split = 0.3,\n",
    "               epochs = 10, verbose = 2, callbacks = [conv_callback], batch_size = 64)"
   ]
  },
  {
   "cell_type": "code",
   "execution_count": null,
   "metadata": {},
   "outputs": [],
   "source": [
    "# Compute and print the test loss and accuracy\n",
    "test_loss, test_acc = conv_model_reduce_overfit.evaluate(test_images, test_labels_bin)\n",
    "print(\"Convolutional model ten epochs reduced overfit -- Test loss:\", test_loss * 100)\n",
    "print(\"Convolutional model ten epochs reduced overfit -- Test accuracy:\", test_acc * 100)"
   ]
  },
  {
   "cell_type": "code",
   "execution_count": null,
   "metadata": {},
   "outputs": [],
   "source": [
    "# Calculate and print predictions versus actual labels\n",
    "predictions = conv_model_reduce_overfit.predict(test_images)\n",
    "for i in range(10):\n",
    "  print(\"Prediction \" + str(i) + \": \" + str(np.argmax(np.round(predictions[i]))))\n",
    "  print(\"Actual \" + str(i) + \": \" + str(test_labels[i]))"
   ]
  },
  {
   "cell_type": "code",
   "execution_count": null,
   "metadata": {},
   "outputs": [],
   "source": []
  }
 ],
 "metadata": {
  "kernelspec": {
   "display_name": "Python 3 (ipykernel)",
   "language": "python",
   "name": "python3"
  },
  "language_info": {
   "codemirror_mode": {
    "name": "ipython",
    "version": 3
   },
   "file_extension": ".py",
   "mimetype": "text/x-python",
   "name": "python",
   "nbconvert_exporter": "python",
   "pygments_lexer": "ipython3",
   "version": "3.9.7"
  }
 },
 "nbformat": 4,
 "nbformat_minor": 2
}

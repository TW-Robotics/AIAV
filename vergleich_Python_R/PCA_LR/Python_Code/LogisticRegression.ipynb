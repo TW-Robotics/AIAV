{
 "cells": [
  {
   "cell_type": "code",
   "execution_count": 1,
   "id": "1164faad",
   "metadata": {},
   "outputs": [],
   "source": [
    "# load MNIST fashion dataset\n",
    "# Load it into test and train varialbes and the according labels\n",
    "from keras.datasets import fashion_mnist\n",
    "(trainX, trainy), (testX, testy) = fashion_mnist.load_data()\n"
   ]
  },
  {
   "cell_type": "code",
   "execution_count": 2,
   "id": "b11e5088",
   "metadata": {},
   "outputs": [],
   "source": [
    "# reshape Train Set, so that it is n x 784, instead of n x 28 x 28\n",
    "nsamples, nx, ny = trainX.shape\n",
    "trainX_2d = trainX.reshape((nsamples,nx*ny))\n"
   ]
  },
  {
   "cell_type": "code",
   "execution_count": 3,
   "id": "5b95117f",
   "metadata": {},
   "outputs": [],
   "source": [
    "# perform PCA on the training set, first fit and then transform\n",
    "# so that the set has the shape: n x 10 (components) \n",
    "from sklearn.decomposition import PCA\n",
    "pca = PCA(n_components=98)\n",
    "X_r = pca.fit(trainX_2d).transform(trainX_2d)\n"
   ]
  },
  {
   "cell_type": "code",
   "execution_count": 4,
   "id": "61e95a89",
   "metadata": {},
   "outputs": [],
   "source": [
    "# Load SKLearn libraries, neccessary for next steps\n",
    "from sklearn.preprocessing import StandardScaler\n",
    "from sklearn.linear_model import LogisticRegression\n",
    "from sklearn.pipeline import Pipeline\n",
    "from sklearn.metrics import accuracy_score \n"
   ]
  },
  {
   "cell_type": "code",
   "execution_count": 5,
   "id": "bf176914",
   "metadata": {},
   "outputs": [
    {
     "data": {
      "text/plain": [
       "Pipeline(steps=[('standardize', StandardScaler()),\n",
       "                ('log_reg',\n",
       "                 LogisticRegression(max_iter=10000,\n",
       "                                    multi_class='multinomial'))])"
      ]
     },
     "execution_count": 5,
     "metadata": {},
     "output_type": "execute_result"
    }
   ],
   "source": [
    "# Create a Scaler that will normalize the Data, Create LogisticRegression Model and use a Pipeline to stitch them together\n",
    "scaler = StandardScaler()\n",
    "# lr = LogisticRegression(max_iter=10000,n_jobs=5, class_weight='balanced', solver='sag')\n",
    "lr = LogisticRegression(max_iter=10000,multi_class='multinomial', solver='lbfgs')\n",
    "model = Pipeline([('standardize', scaler),\n",
    "                    ('log_reg', lr)])\n",
    "model.fit(X_r, trainy)\n"
   ]
  },
  {
   "cell_type": "code",
   "execution_count": 6,
   "id": "e0d25285",
   "metadata": {},
   "outputs": [],
   "source": [
    "# reshape Test Set, so that it is n x 784, instead of n x 28 x 28\n",
    "nsamples, nx, ny = testX.shape\n",
    "testX_2d = testX.reshape((nsamples,nx*ny))\n"
   ]
  },
  {
   "cell_type": "code",
   "execution_count": 7,
   "id": "e9373f27",
   "metadata": {},
   "outputs": [],
   "source": [
    "# perform PCA on the test set, transform it according to other set\n",
    "X_t = pca.transform(testX_2d)\n"
   ]
  },
  {
   "cell_type": "code",
   "execution_count": 8,
   "id": "0c7e304f",
   "metadata": {},
   "outputs": [
    {
     "name": "stdout",
     "output_type": "stream",
     "text": [
      "Train accuracy is: 83.94%\n"
     ]
    }
   ],
   "source": [
    "# Predict the Labels for the new test data, compare them to the known values \n",
    "# And calculate how accurate the prediction is\n",
    "pred = model.predict(X_t);\n",
    "train_accuracy = accuracy_score(testy, pred)*100\n",
    "print('Train accuracy is: '+str(train_accuracy)+'%')\n"
   ]
  }
 ],
 "metadata": {
  "kernelspec": {
   "display_name": "Python 3 (ipykernel)",
   "language": "python",
   "name": "python3"
  },
  "language_info": {
   "codemirror_mode": {
    "name": "ipython",
    "version": 3
   },
   "file_extension": ".py",
   "mimetype": "text/x-python",
   "name": "python",
   "nbconvert_exporter": "python",
   "pygments_lexer": "ipython3",
   "version": "3.8.10"
  }
 },
 "nbformat": 4,
 "nbformat_minor": 5
}

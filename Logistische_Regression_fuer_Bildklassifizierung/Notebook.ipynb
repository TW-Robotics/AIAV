{
 "cells": [
  {
   "cell_type": "markdown",
   "metadata": {},
   "source": [
    "# Der simpelste Weg Kleidungsstücke zu klassifizieren: Implementierung einer Logistic Regression\n",
    "Das Notebook beschreibt die Implementierung einer logistischen Regression (LR) für das Klassifizieren von Bildern. Genauer gesagt, wollen wir herausfinden, ob sich in einem Bild ein Kleid oder ein Pullover befindet. \n",
    "\n",
    "\n",
    "## Aufbau:\n",
    "Der Beispielcode ist wie folgt aufgebaut: \n",
    "### Abschnitt 1: Datensatz vorbereiten\n",
    "In diesem Abschnitt werden die notwendigen [Bibliotheken](./requirements.txt) eingebunden sowie die Daten aufbereitet. Es wird ein sogenanntes [Dictonary](https://kapernikov.com/tutorial-image-classification-with-scikit-learn/) erstellt, welches die Bilder des Datensatzes verwaltet. Ebenso werden die Bilder in diesem Abschnitt von einer Matrix in einen Vektor umgewandelt. \n",
    "\n",
    "### Abschnitt 2: Erstellen des Modells\n",
    "In Abschnitt 2 wird die logistische Regression definiert.  \n",
    "\n",
    "Zum Einsatz kommt hier die [scikit-learn](https://scikit-learn.org/stable/modules/generated/sklearn.linear_model.LogisticRegression.html) Bibliothek, welche es ermöglicht, ein bereits existierendes Model einzubinden und nur die Parameter zu definieren. Dadurch sind Features wie Skalieren, PCA oder das Trainieren leicht umgesetzt. Was eine PCA ist und welche Parameter sich auf die LR auswirken sind ebenfalls im [Storyboard](11_Storyboard_logistic_regression.pdf) zu finden. \n",
    "\n",
    "### Abschnitt 3: Webcam Implementierung\n",
    "In diesem Abschnitt wird die logistische Regression getestet. Im Demo Ordner sind 24 Bilder abgelegt, welche nicht für das Trainieren oder Testen eingesetzt wurden. Das Modell soll diese Bilder klassifizieren.  \n",
    "\n",
    "\n",
    "## Ordnerstruktur: \n",
    "1. demo [Ordner]\n",
    "    - _demo images_\n",
    "2. data [Ordner]\n",
    "(Hier kann der Datensatz geändert werden)\n",
    "    - Dress _data images_\n",
    "    - Pullover _data images_\n",
    "3. eigenfaces [Ordner]\n",
    "    - Top 10 Eigenfaces der PCA\n",
    "\n",
    "4. `miniUsecases11_logistic_regression.ipynb` [Beispielcode]\n",
    "\n",
    "5. `Fashion_MNIST{width}x{height}px.pkl`\n",
    "\n",
    "6. `requirements.txt`\n",
    "(Notwendige Bibliotheken, kann zum Installieren verwednet werden)\n",
    "\n",
    "7. `11_Storyboard_logistic_regression.pdf`\n",
    "\n",
    "\n",
    "## Resultat: \n",
    "![Abbildung 1](demo.gif)\n",
    "\n",
    "\n"
   ]
  },
  {
   "cell_type": "markdown",
   "metadata": {},
   "source": [
    "# Abschnitt 1: Datensatz vorbereiten"
   ]
  },
  {
   "cell_type": "markdown",
   "metadata": {},
   "source": [
    "## Importieren der generellen notwendigen Bibliotheken\n",
    "Wir empfehlen Ihnen, die für die Applikation notwendigen Bibliotheken mittels der [requirements.txt](./requirements.txt) Datei zu installieren, um die automatische Installation der richtigen Bibliotheksversionen zu garantieren. Sollte eine Bibliothek nicht vorhanden sein, dann kann sie auch mit `pip3 <package-name\\>` nachinstalliert werden.\n",
    "\n",
    "Sind alle Bibliotheken vorhanden, entsteht kein Output bei der nächsten Zelle. Im laufe des Notebooks werden weitere Bibliotheken benötigt. Diese werden erst in späteren Zellen aufgerufen, um jeweils bei den entsprechenden Codesnippets zu garantieren, dass sie im Workspace geladen sind."
   ]
  },
  {
   "cell_type": "code",
   "execution_count": 1,
   "metadata": {},
   "outputs": [],
   "source": [
    "import matplotlib.pyplot as plt\n",
    "import numpy as np\n",
    "import os\n",
    "import cv2\n",
    "import pprint\n",
    "pp = pprint.PrettyPrinter(indent=4) \n",
    "from sklearn.manifold import Isomap\n",
    "import warnings\n",
    "from scipy.sparse import (spdiags, SparseEfficiencyWarning, csc_matrix,\n",
    "    csr_matrix, isspmatrix, dok_matrix, lil_matrix, bsr_matrix)\n",
    "warnings.simplefilter('ignore',SparseEfficiencyWarning) \n",
    "warnings.simplefilter('ignore',UserWarning)"
   ]
  },
  {
   "cell_type": "markdown",
   "metadata": {},
   "source": [
    "## Verschiedene Einstellungen um das Programm anzupassen\n",
    "\n",
    "data_path: Gibt den relativen Pfad zum Datensatz (Ordner mit Bildern) an. \n",
    "\n",
    "os.listdir(data_path): Zeigt die Ordner an, welche die Bilder für das Training enthalten sollen. \n",
    "\n",
    "SIZE: Gibt an, wie groß das Bild ist. In dem Fall vom MNIST Datensatz haben wir immer 28x28pxl Bilder, somit ist SIZE=28. Sollten größere Bilder verwendet werden, kann hier auch angegeben werden, um wie viel sich ein Bild verkleinern soll. Beispielsweise kann ein 416x416 Bild mit SIZE=416/4 angegeben werden. Daraufhin wird im Laufe des Notebooks das Bild auf 104x104pxl reduziert. "
   ]
  },
  {
   "cell_type": "code",
   "execution_count": 2,
   "metadata": {},
   "outputs": [],
   "source": [
    "# Hier den Pfad und Bildgröße ändern\n",
    "\n",
    "data_path = os.getcwd() + \"/data\"\n",
    "os.listdir(data_path)\n",
    "SIZE = 28"
   ]
  },
  {
   "cell_type": "markdown",
   "metadata": {},
   "source": [
    "## Zusatzfunktion für das Präparieren der Daten \n",
    "Diese Funktion lädt alle Bilder in den Workspace (aus dem definierten Pfad) und führt die beiden folgenden Aktionen aus:\n",
    "- Resize: Skaliert die Bilder entsprechend der Vorgabe\n",
    "- Dictionary: Erstellt ein Dictionary mit Labels und Metadata (Datensatz für das Trainieren). Der Output wird als _pickle file_ im Workspace abgespeichert.\n",
    "\n",
    "Parameter: \n",
    "- src: Gibt den Pfad zu den Daten an\n",
    "- pklname: Erstellt den Namen für die Pickle Datei\n",
    "- include: Inkludiert als String List die beiden Klassen (Dress, Pullover)\n",
    "- width: Gibt die Größe der Bilder/Resize an\n",
    "\n",
    "[Tutorial zum Implementieren von Dictionaries](https://kapernikov.com/tutorial-image-classification-with-scikit-learn/)\n"
   ]
  },
  {
   "cell_type": "code",
   "execution_count": 3,
   "metadata": {},
   "outputs": [],
   "source": [
    "# Libraries \n",
    "import joblib\n",
    "from skimage.io import imread\n",
    "from skimage.transform import resize\n",
    "\n",
    "\n",
    "# Funktionsdefinition \n",
    "def resize_all(src, pklname, include, width = 150, height=None):\n",
    "    height = height if height is not None else width #ERRORHANDLING\n",
    "    \n",
    "# definiert den Datansatz als Dictionary \n",
    "    data = dict()\n",
    "    data['description'] = 'resized ({0}x{1}) images in rgb'.format(int(width), int(height))\n",
    "    data['label'] = []\n",
    "    data['filename'] = []\n",
    "    data['data'] = []   \n",
    "\n",
    "    pklname = f\"{pklname}_{width}x{height}px.pkl\"\n",
    "\n",
    "    for subdir in os.listdir(src):\n",
    "        if subdir in include:\n",
    "            print(subdir)\n",
    "            current_path = os.path.join(src, subdir)\n",
    " \n",
    " # itteriert über alle Bilder im Datensatz \n",
    "            for file in os.listdir(current_path):\n",
    "                if file[-3:] in {'jpg', 'png'}:\n",
    "                    im = imread(os.path.join(current_path, file))\n",
    "                    im = resize(im, (width, height)) #[:,:,::-1]\n",
    "                    data['label'].append(subdir[:-4])\n",
    "                    data['filename'].append(file)\n",
    "                    data['data'].append(im)\n",
    " \n",
    "# erstellt die Pickle file\n",
    "        joblib.dump(data, pklname)"
   ]
  },
  {
   "cell_type": "markdown",
   "metadata": {},
   "source": [
    "## Formatieren des Datensatzes\n",
    "Hier wird die Hilfsfunktion aufgerufen, die für das Erstellen des Datensatzes notwendig ist. Ebenso werden hier die Parameter übergeben. Zu beachten ist, dass hier nur _.jpg_ und _.png_ Bilder verarbeitet werden können. "
   ]
  },
  {
   "cell_type": "code",
   "execution_count": 4,
   "metadata": {},
   "outputs": [
    {
     "name": "stdout",
     "output_type": "stream",
     "text": [
      "Pullover\n",
      "Dress\n"
     ]
    }
   ],
   "source": [
    "base_name = 'Fashion-MNIST'   # Name für die Beschreibung des Datensatzes\n",
    "width = SIZE                        # Definierte Bildgröße übergeben (Zelle 2)\n",
    "height = SIZE\n",
    "include = {'Dress', 'Pullover'}   # Ordner angeben\n",
    " \n",
    "#FUNCTION CALL\n",
    "resize_all(src=data_path, pklname=base_name, width=width, include=include) # Funktionsaufruf für das erstellen der pkl-Datei "
   ]
  },
  {
   "cell_type": "markdown",
   "metadata": {},
   "source": [
    "## Informationen vom Datensatz\n",
    "Anbei werden bei korrektem Erstellen des Dictionarys die Informationen dazu angezeigt. Diese werden über die Pickle Datei ausgelesen."
   ]
  },
  {
   "cell_type": "code",
   "execution_count": 5,
   "metadata": {},
   "outputs": [
    {
     "name": "stdout",
     "output_type": "stream",
     "text": [
      "Anzahl der gefundenen Daten:  11976\n",
      "keys:  ['description', 'label', 'filename', 'data']\n",
      "Beschreibung:  resized (28x28) images in rgb\n",
      "Bild Form  (28, 28)\n",
      "Labels: ['D' 'Pull']\n"
     ]
    },
    {
     "data": {
      "text/plain": [
       "Counter({'Pull': 5991, 'D': 5985})"
      ]
     },
     "execution_count": 5,
     "metadata": {},
     "output_type": "execute_result"
    }
   ],
   "source": [
    "from collections import Counter\n",
    " \n",
    "data = joblib.load(f'{base_name}_{width}x{width}px.pkl')    # Laden der Datei\n",
    "print('Anzahl der gefundenen Daten: ', len(data['data']))   \n",
    "print('keys: ', list(data.keys()))                          # Zeigt die einzelnen Komponenten  \n",
    "print('Beschreibung: ', data['description'])                \n",
    "print('Bild Form ', data['data'][0].shape)                  # Format anzeigen. Nützlich für das Reshapen nachher\n",
    "print('Labels:', np.unique(data['label']))                  # Labels für die Klassifizierung\n",
    "Counter(data['label'])                                      # Aufteilung anzeigen"
   ]
  },
  {
   "cell_type": "markdown",
   "metadata": {},
   "source": [
    "## Datensatz Beispiel der beiden Klassen\n",
    "Folgende Zelle lädt jeweils ein Bild/Klasse. Sollten hier nicht erwartete Bilder erscheinen, muss der Datensatz überprüft werden."
   ]
  },
  {
   "cell_type": "code",
   "execution_count": 6,
   "metadata": {},
   "outputs": [
    {
     "data": {
      "image/png": "[encoded data removed]",
      "text/plain": [
       "<Figure size 1080x288 with 2 Axes>"
      ]
     },
     "metadata": {
      "needs_background": "light"
     },
     "output_type": "display_data"
    }
   ],
   "source": [
    "labels = np.unique(data['label'])           # Labels auslesen\n",
    "\n",
    "\n",
    "# Matplot handling um Achsen zu erstellen\n",
    "fig, axes = plt.subplots(1, len(labels))    # Plot definieren\n",
    "fig.set_size_inches(15,4)                   # Größe\n",
    "fig.tight_layout() \n",
    "\n",
    "\n",
    "\n",
    "\n",
    "# Generiert einen Plot mit einem Bild aus jeder Klasse\n",
    "for ax, label in zip(axes, labels):\n",
    "    idx = data['label'].index(label)\n",
    "    ax.imshow( data['data'][idx] )\n",
    "    ax.axis('off')\n",
    "    ax.set_title(label)\n"
   ]
  },
  {
   "cell_type": "markdown",
   "metadata": {},
   "source": [
    "## Datensatz umformen\n",
    "\n",
    "Die derzeitige Form eines eingelesenen Bildes ist _<index, breite, höhe, schichten>_, mit _index_ für die Anzahl der Elemente, _breite_/_höhe_ gibt die Bildgröße in Pixel an und _schichten_ beschreibt die Art des Bildes (3 = RGB Bild). In unserem Fall haben wir nur Graustufenbilder, weshalb die Form auf <index, breite, höhe> reduziert wird.\n",
    "\n",
    "Um eine Klassifikation durchzuführen, benötigt das System einen Vektor mit maximal 2 Dimensionen. Wir wollen einen Vektor mit _<index, pixel_vektor>_ erstellen, wobei _index_ gleich bleibt, um mit den Labels übereinzustimmen. Der _pixel_vektor_ wird aus den restlichen Ebenen gebildet, um einen 1*n Vektor zu erhalten.  "
   ]
  },
  {
   "cell_type": "code",
   "execution_count": 7,
   "metadata": {},
   "outputs": [
    {
     "name": "stdout",
     "output_type": "stream",
     "text": [
      "Original Form: (11976, 28, 28)\n",
      "Umgeformter Datensatz der Form: (11976, 784)\n",
      "Der Index muss mit der Labels größe Übereinstimmen. \n",
      "Labels größe: (11976,)\n"
     ]
    }
   ],
   "source": [
    "X = np.array(data['data'])                                      # Einlesen der Bilder\n",
    "print(\"Original Form: {}\".format(X.shape))                      \n",
    "x = X.reshape(X.shape[0], X.shape[1]* X.shape[2])   # Umformen auf die beschriebene Größe\n",
    "print(\"Umgeformter Datensatz der Form: {}\".format(x.shape))\n",
    "\n",
    "y = np.array(data['label'])                                     # Einlesen der Labels\n",
    "print(\"Der Index muss mit der Labels größe Übereinstimmen. \\nLabels größe: {}\".format(y.shape)) #Abgleichen ob die Form übereinstimmt "
   ]
  },
  {
   "cell_type": "markdown",
   "metadata": {},
   "source": [
    "# Abschnitt 2: Erstellen des Modells"
   ]
  },
  {
   "cell_type": "markdown",
   "metadata": {},
   "source": [
    "## Modell\n",
    "\n",
    "Im folgenden Abschnitt wird das Logistic Regression Model erstellt \n",
    "Hier wird der Ablauf wie folgt durchgeführt:\n",
    "- (1) Datensatz aufteilen: Hier wird der Datensatz in einen Trainingsanteil und in einen Testanteil aufgeteilt, um zu überprüfen, ob das Modell in die richtige Richtung trainiert\n",
    "- (2) Skalieren: Standardisierung von Merkmalen durch Entfernen des Mittelwerts und Skalierung auf Einheitsvarianz\n",
    "- (3) PCA: Principal component analysis für eine lineare Dimensionalitätsreduktion des Eingangsvektors. (\"Pixelreduktion\" unserer Trainingsdaten)\n",
    "- (4) Model definieren \n",
    "- (5) trainieren\n",
    "- (6) Test Prediction\n",
    "- (7) Auswertung \n",
    "\n",
    "\n",
    "\n",
    "Zum Einsatz kommt hier die sklearn Bibliothek welche ermöglicht ein bereits existierendes Model einzubinden und nur die Parameter zu definieren. Dadurch sind features wie Skalieren, PCA oder das Trainieren leicht umgesetzt. \n",
    "\n",
    "Weitere [Dokumentation](https://scikit-learn.org/0.16/modules/generated/sklearn.linear_model.LogisticRegression.html#sklearn.linear_model.LogisticRegression)"
   ]
  },
  {
   "cell_type": "code",
   "execution_count": 8,
   "metadata": {},
   "outputs": [
    {
     "name": "stdout",
     "output_type": "stream",
     "text": [
      "PCA Components: \n",
      "10\n",
      "classes: ['D' 'Pull']\n",
      "Score training Data: 0.971804695942627\n",
      "Score test Data: 0.9777406789092933\n"
     ]
    }
   ],
   "source": [
    "\n",
    "\n",
    "# Libraries\n",
    "from cv2 import data\n",
    "import cv2\n",
    "import matplotlib.pyplot as plt\n",
    "import numpy as np\n",
    "from sklearn.datasets import load_digits\n",
    "from sklearn.datasets import load_svmlight_files\n",
    "from sklearn.linear_model import LogisticRegression\n",
    "from sklearn.metrics import classification_report, confusion_matrix\n",
    "from sklearn.model_selection import train_test_split\n",
    "from sklearn.preprocessing import StandardScaler\n",
    "from sklearn.metrics import plot_roc_curve\n",
    "import os\n",
    "from sklearn.decomposition import PCA\n",
    "\n",
    "\n",
    "########\n",
    "# Data #\n",
    "\n",
    "# (1)Aufteilen des Datensatzes\n",
    "x_train, x_test, y_train, y_test =\\\n",
    "    train_test_split(x, y, test_size=0.15, random_state=0)\n",
    "\n",
    "# (2) Skalieren\n",
    "scaler = StandardScaler()\n",
    "x_train = scaler.fit_transform(x_train)\n",
    "x_test = scaler.transform(x_test)\n",
    "\n",
    "# (3) PCA\n",
    "#pca = PCA(.95) # verwendet 95% der Komponenten\n",
    "pca = PCA(10) # verwendet 95% der Komponenten\n",
    "pca.fit(x_train)\n",
    "pca.n_components_\n",
    "print(\"PCA Components: \")\n",
    "print(pca.n_components_) #ausgabe der Komponenten an der Konsole\n",
    "x_train = pca.transform(x_train)\n",
    "x_test = pca.transform(x_test)\n",
    "\n",
    "#######################\n",
    "# (4) Model erstellen #\n",
    "model = LogisticRegression(solver='saga', C=0.5, multi_class='ovr',random_state=0, max_iter=10000) \n",
    "    # solver: {‘newton-cg’, ‘lbfgs’, ‘liblinear’, ‘sag’, ‘saga’}, default=’lbfgs’\n",
    "    # C: Kehrwert der Regularisierungsstärke; optional; default = 1.0; kleiner Wert entspricht stärkkerer Regularisierung\n",
    "    # random_state: (int) seed für das \"zufällige\" mischen der Daten\n",
    "    # multi_class: \"ovr\" oder \"multinomial\"; ovr=binary Problem; multinomial=multinomial loss fit (funktioniert nur mit \"lbfgs\" solver)\n",
    "    # \n",
    "    # more info: https://scikit-learn.org/0.16/modules/generated/sklearn.linear_model.LogisticRegression.html#sklearn.linear_model.LogisticRegression\n",
    "    #\n",
    "\n",
    "# (5) Trainieren des Models \n",
    "model.fit(x_train, y_train)\n",
    "\n",
    "\n",
    "##############\n",
    "# (6-7)Evaluation #\n",
    "# get corresponding prediction \n",
    "y_pred = model.predict(x_test) # (6) Test Prediction\n",
    "# (7)\n",
    "#print(\"Model Parameter: {}\\n\".format(model.get_params(True)))\n",
    "print(\"classes: {}\".format(model.classes_))\n",
    "print(\"Score training Data: {}\".format(model.score(x_train, y_train)))\n",
    "print(\"Score test Data: {}\".format(model.score(x_test, y_test)))\n",
    "\n",
    "\n",
    "\n",
    "\n"
   ]
  },
  {
   "cell_type": "markdown",
   "metadata": {},
   "source": [
    "Wie schon im Storyboard angesprochen, können wir uns die wichtigsten PCA Merkmale ausgeben lassen. Die folgende Zelle macht genau das. Es werden aus der PCA die 10 wichtigsten Merkmale herausgenommen und als Bild dargestellt. Das Ergebnis ist im Ordner \"eigenfaces\" zu finden."
   ]
  },
  {
   "cell_type": "code",
   "execution_count": 9,
   "metadata": {},
   "outputs": [],
   "source": [
    "# TOP 10 eigenfaces \n",
    "\n",
    "nbr_eigenfaces = 10\n",
    "\n",
    "eigenfaces = pca.components_[:nbr_eigenfaces]\n",
    "eigenfaces = eigenfaces.reshape((nbr_eigenfaces, int(SIZE), int(SIZE)))\n",
    "\n",
    "for i in range(nbr_eigenfaces):\n",
    "\n",
    "    min_ = np.amin(eigenfaces[i])\n",
    "    max_ = np.amax(eigenfaces[i])\n",
    "\n",
    "    tmp = ((eigenfaces[i] - min_) / (max_-min_)) * 255\n",
    "\n",
    "    filename = \"eigenfaces/eigenface\" + str(i) + \".png\"  \n",
    "    cv2.imwrite(filename, tmp)"
   ]
  },
  {
   "cell_type": "markdown",
   "metadata": {},
   "source": [
    "### Auflistung der PCA Komponenten"
   ]
  },
  {
   "cell_type": "code",
   "execution_count": 10,
   "metadata": {},
   "outputs": [
    {
     "name": "stdout",
     "output_type": "stream",
     "text": [
      "Es werden 10 PCA Punkte verwendet\n"
     ]
    }
   ],
   "source": [
    "print(\"Es werden {} PCA Punkte verwendet\".format(pca.n_components_)) #anzahl an features"
   ]
  },
  {
   "cell_type": "markdown",
   "metadata": {},
   "source": [
    "# Abschnitt 3: Testen des Models"
   ]
  },
  {
   "cell_type": "code",
   "execution_count": 11,
   "metadata": {},
   "outputs": [
    {
     "name": "stdout",
     "output_type": "stream",
     "text": [
      "***************\n",
      "Example Image: 24\n",
      "Dress\n",
      "100.00%\n"
     ]
    }
   ],
   "source": [
    "\n",
    "#libraries\n",
    "from skimage.transform import resize\n",
    "from sklearn.decomposition import PCA\n",
    "import cv2\n",
    "from IPython.display import clear_output\n",
    "\n",
    "\n",
    "cv2.namedWindow('Prediction | press q to exit', 0)\n",
    "i = 0\n",
    "for filename in os.listdir(\"demo\"):\n",
    "    img = cv2.imread(os.path.join(\"demo/\",filename), 0)\n",
    "    #img = resize(img, (width, height))\n",
    "    \n",
    "    if img is None:\n",
    "        print(os.path.join(\"demo/\",filename))\n",
    "        break\n",
    "    else: \n",
    "        # Bild aus einer Matrix in einen Vektor umformen \n",
    "        image = img.reshape(1 ,-1)\n",
    "\n",
    "        # Bild an das Modell anpassen (Skalieren und PCA anwenden)\n",
    "        image = scaler.transform(image)\n",
    "        image = pca.transform(image)\n",
    "\n",
    "        #Predict \n",
    "        y_new_prob  = model.predict_proba(image)\n",
    "        y_new  = model.predict(image)\n",
    "\n",
    "        # Wahrscheinlichkeit des Bildes (bei einer Klassifizierung) in Prozent umrechnen\n",
    "        prob = y_new_prob[0]*100\n",
    "\n",
    "\n",
    "        clear_output(wait=True)\n",
    "        print(\"***************\")\n",
    "        i = i+1\n",
    "        print(\"Example Image: {}\".format(i))\n",
    "        #Auswertung für die \"live\" Darstellung\n",
    "        if (y_new == \"D\"):\n",
    "            print(\"Dress\")\n",
    "            print(\"{:.2f}%\".format(prob[0]))\n",
    "        elif (y_new == \"Pull\"): \n",
    "\n",
    "            print(\"Pullover\")\n",
    "            print(\"{:.2f}%\".format(prob[1]))\n",
    "        else:\n",
    "            print(\"Unknown Class: ({})\".format(y_new))\n",
    "\n",
    "        \n",
    "        #Ausgabe \n",
    "        cv2.imshow('Prediction | press q to exit', img)\n",
    "        #User Input für das beenden des Darstellen  \n",
    "        if cv2.waitKey(0) & 0xFF == ord('q'):    \n",
    "            break\n",
    "\n",
    "\n",
    "# Stream schließen und Window Handling\n",
    "\n",
    "cv2.destroyAllWindows()"
   ]
  }
 ],
 "metadata": {
  "interpreter": {
   "hash": "916dbcbb3f70747c44a77c7bcd40155683ae19c65e1c03b4aa3499c5328201f1"
  },
  "kernelspec": {
   "display_name": "Python 3 (ipykernel)",
   "language": "python",
   "name": "python3"
  },
  "language_info": {
   "codemirror_mode": {
    "name": "ipython",
    "version": 3
   },
   "file_extension": ".py",
   "mimetype": "text/x-python",
   "name": "python",
   "nbconvert_exporter": "python",
   "pygments_lexer": "ipython3",
   "version": "3.8.10"
  }
 },
 "nbformat": 4,
 "nbformat_minor": 4
}

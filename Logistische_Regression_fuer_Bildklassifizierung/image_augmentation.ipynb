{
 "metadata": {
  "language_info": {
   "codemirror_mode": {
    "name": "ipython",
    "version": 3
   },
   "file_extension": ".py",
   "mimetype": "text/x-python",
   "name": "python",
   "nbconvert_exporter": "python",
   "pygments_lexer": "ipython3",
   "version": "3.8.10"
  },
  "orig_nbformat": 2,
  "kernelspec": {
   "name": "python3",
   "display_name": "Python 3.8.10 64-bit"
  },
  "metadata": {
   "interpreter": {
    "hash": "31f2aee4e71d21fbe5cf8b01ff0e069b9275f58929596ceb00d14d90e3e16cd6"
   }
  },
  "interpreter": {
   "hash": "31f2aee4e71d21fbe5cf8b01ff0e069b9275f58929596ceb00d14d90e3e16cd6"
  }
 },
 "nbformat": 4,
 "nbformat_minor": 2,
 "cells": [
  {
   "cell_type": "markdown",
   "source": [
    "# Image Augmentation\n",
    "\n",
    "\n",
    "\n",
    "https://www.kaggle.com/tomahim/image-manipulation-augmentation-with-skimage"
   ],
   "metadata": {}
  },
  {
   "cell_type": "code",
   "execution_count": 1,
   "source": [
    "import matplotlib.pyplot as plt\n",
    "from skimage import data\n",
    "from skimage.transform import rescale"
   ],
   "outputs": [],
   "metadata": {}
  },
  {
   "cell_type": "code",
   "execution_count": 2,
   "source": [
    "#Parameter\n",
    "\n",
    "image_folder_hammer = \"Tool_Data/Hammer\"\n",
    "image_folder_workspace = \"Tool_Data/Workspace\"\n"
   ],
   "outputs": [],
   "metadata": {}
  },
  {
   "cell_type": "code",
   "execution_count": 3,
   "source": [
    "# Load images \n",
    "#https://stackoverflow.com/questions/30230592/loading-all-images-using-imread-from-a-given-folder\n",
    "\n",
    "\n",
    "import cv2\n",
    "import os\n",
    "\n",
    "def load_images_from_folder(folder):\n",
    "    images = []\n",
    "    for filename in os.listdir(folder):\n",
    "        img = cv2.imread(os.path.join(folder,filename))\n",
    "        if img is not None:\n",
    "            images.append(img)\n",
    "    return images\n"
   ],
   "outputs": [],
   "metadata": {}
  },
  {
   "cell_type": "code",
   "execution_count": 4,
   "source": [
    "def show_images(before, after, op):\n",
    "    fig, axes = plt.subplots(nrows=1, ncols=2)\n",
    "    ax = axes.ravel()\n",
    "    ax[0].imshow(before, cmap='gray')\n",
    "    ax[0].set_title(\"Original image\")\n",
    "\n",
    "    ax[1].imshow(after, cmap='gray')\n",
    "    ax[1].set_title(op + \" image\")\n",
    "    if op == \"Rescaled\":\n",
    "        ax[0].set_xlim(0, 400)\n",
    "        ax[0].set_ylim(300, 0)\n",
    "    else:        \n",
    "        ax[0].axis('off')\n",
    "        ax[1].axis('off')\n",
    "    plt.tight_layout()"
   ],
   "outputs": [],
   "metadata": {}
  },
  {
   "cell_type": "code",
   "execution_count": 5,
   "source": [
    "# get data\n",
    "array_hammer = load_images_from_folder(image_folder_hammer)\n",
    "array_workspace = load_images_from_folder(image_folder_workspace)\n"
   ],
   "outputs": [],
   "metadata": {}
  },
  {
   "cell_type": "code",
   "execution_count": 6,
   "source": [
    "from skimage.util import random_noise #Random Noise\n",
    "from skimage.color import rgb2gray # Grayscale\n",
    "from skimage.transform import rotate #rotate\n",
    "import numpy as np #contrast 1\n",
    "from skimage import exposure #contrast 1\n",
    "\n",
    "#to save the image\n",
    "from PIL import Image, ImageOps\n",
    "import numpy as np\n",
    "import cv2\n",
    "\n",
    "def rotate_pic(my_image, angle, count,path):\n",
    "        image_with_rotation = rotate(my_image, angle)\n",
    "        im = Image.fromarray((image_with_rotation*255).astype(np.uint8))\n",
    "        b, g, r = im.split()\n",
    "        im = Image.merge(\"RGB\", (r, g, b))\n",
    "        im.save(path + '{}.jpg'.format(count))\n",
    "\n",
    "\n",
    "def augment_image_array(image_input, start_value, class_name):\n",
    "\n",
    "    count = start_value\n",
    "    path = \"augmented/\"+class_name+\"/\"\n",
    "    #path = \"Tool_Data/\"+class_name+\"/\"\n",
    "    for i in range(len(image_input)):\n",
    "        \n",
    "        #1\n",
    "        image_with_random_noise = random_noise(image_input[i])\n",
    "        im = Image.fromarray((image_with_random_noise*255).astype(np.uint8))\n",
    "        b, g, r = im.split()\n",
    "        im = Image.merge(\"RGB\", (r, g, b))\n",
    "        im.save(path + '{}.jpg'.format(count))\n",
    "        count = count +1\n",
    "\n",
    "        #2\n",
    "        # perform a 45 degree rotation -> change to random \n",
    "        #rotate_pic(image_input[i], 45, count, path)\n",
    "        #count = count +1\n",
    "\n",
    "        # perform a 90 degree rotation -> change to random  \n",
    "        #rotate_pic(image_input[i], 90, count, path)\n",
    "        #count = count +1\n",
    "\n",
    "        # perform a 135 degree rotation -> change to random  \n",
    "        #rotate_pic(image_input[i], 135, count, path)\n",
    "        #count = count +1\n",
    "\n",
    "        # perform a 180 degree rotation -> change to random  \n",
    "        #rotate_pic(image_input[i], 180, count, path)\n",
    "        #count = count +1\n",
    "\n",
    "        # perform a 225 degree rotation -> change to random  \n",
    "        #rotate_pic(image_input[i], 225, count, path)\n",
    "        #count = count +1\n",
    "\n",
    "        # perform a 270 degree rotation -> change to random  \n",
    "        #rotate_pic(image_input[i], 270, count, path)\n",
    "        #count = count +1\n",
    "\n",
    "        # perform a 315 degree rotation -> change to random  \n",
    "        #rotate_pic(image_input[i], 315, count, path)\n",
    "        #count = count +1\n",
    "\n",
    "\n",
    "        #4\n",
    "        # flip\n",
    "        horizontal_flip = cv2.flip(image_input[i],1)\n",
    "        im = Image.fromarray(cv2.cvtColor(horizontal_flip, cv2.COLOR_BGR2RGB))\n",
    "        im.save(path + '{}.jpg'.format(count))\n",
    "        count = count +1\n",
    "\n",
    "        #5\n",
    "        horizontal_flip = cv2.flip(image_input[i],0)\n",
    "        im = Image.fromarray(cv2.cvtColor(horizontal_flip, cv2.COLOR_BGR2RGB))\n",
    "        im.save(path + '{}.jpg'.format(count))\n",
    "        count = count +1\n",
    "\n",
    "    return count\n",
    "        \n",
    "\n"
   ],
   "outputs": [],
   "metadata": {}
  },
  {
   "cell_type": "code",
   "execution_count": 7,
   "source": [
    "new_images_cnt = augment_image_array(array_hammer, 0, \"Hammer\")\n",
    "print(\"{} Images augmented\".format(new_images_cnt))\n",
    "\n",
    "#new_images_cnt = augment_image_array(array_workspace, 0, \"Workspace\")\n",
    "#print(\"{} Images augmented\".format(new_images_cnt))"
   ],
   "outputs": [
    {
     "output_type": "stream",
     "name": "stdout",
     "text": [
      "588 Images augmented\n"
     ]
    }
   ],
   "metadata": {}
  },
  {
   "cell_type": "code",
   "execution_count": null,
   "source": [],
   "outputs": [],
   "metadata": {}
  }
 ]
}
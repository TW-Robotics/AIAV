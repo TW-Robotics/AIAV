{
  "cells": [
    {
      "cell_type": "markdown",
      "metadata": {
        "id": "5lbC4AmyNVxg"
      },
      "source": [
        "# Convolutional Neural Network für Bildklassifizierung\n",
        "\n",
        "In diesem Use-Case werden wird ein CNN Implementiert. Die Theorie dazu wird ausführlich im [hier](https://www.aiav.technikum-wien.at/ai-anwenden) im Storyboard ausführlich beschrieben. Hier befindet sich nun der entsprechende Code dazu.  \n",
        "\n",
        "### How to use:\n",
        "Dies ist Part 2 des Notebooks. Der erste Teil hat sich mit dem Trainieren des Modells in Google Colab befasst. \n",
        "\n",
        "\n",
        "\n",
        "Usefull links: <br>\n",
        "[CNN Model](https://www.tensorflow.org/tutorials/images/classification) </br>\n",
        "[Konvertieren von OpenCV zu Tensorflow Mat](https://stackoverflow.com/questions/40273109/convert-python-opencv-mat-image-to-tensorflow-image-data/40273815)"
      ]
    },
    {
      "cell_type": "markdown",
      "metadata": {},
      "source": [
        "## Bibliotheken "
      ]
    },
    {
      "cell_type": "code",
      "execution_count": 18,
      "metadata": {
        "id": "nR4XfOlGC7zE"
      },
      "outputs": [],
      "source": [
        "import matplotlib.pyplot as plt\n",
        "import matplotlib.image as mpimg\n",
        "import numpy as np\n",
        "import os\n",
        "import PIL\n",
        "import tensorflow as tf\n",
        "from tensorflow import keras\n",
        "from tensorflow.keras import layers\n",
        "from tensorflow.keras.models import Sequential\n",
        "import pathlib"
      ]
    },
    {
      "cell_type": "markdown",
      "metadata": {},
      "source": [
        "## Setup und laden der notwendigen Parameter"
      ]
    },
    {
      "cell_type": "code",
      "execution_count": 19,
      "metadata": {},
      "outputs": [
        {
          "name": "stdout",
          "output_type": "stream",
          "text": [
            "Model: \"sequential_1\"\n",
            "_________________________________________________________________\n",
            "Layer (type)                 Output Shape              Param #   \n",
            "=================================================================\n",
            "sequential (Sequential)      (None, 1024, 1024, 3)     0         \n",
            "_________________________________________________________________\n",
            "rescaling (Rescaling)        (None, 1024, 1024, 3)     0         \n",
            "_________________________________________________________________\n",
            "conv2d (Conv2D)              (None, 1024, 1024, 16)    448       \n",
            "_________________________________________________________________\n",
            "max_pooling2d (MaxPooling2D) (None, 512, 512, 16)      0         \n",
            "_________________________________________________________________\n",
            "conv2d_1 (Conv2D)            (None, 512, 512, 32)      4640      \n",
            "_________________________________________________________________\n",
            "max_pooling2d_1 (MaxPooling2 (None, 256, 256, 32)      0         \n",
            "_________________________________________________________________\n",
            "conv2d_2 (Conv2D)            (None, 256, 256, 64)      18496     \n",
            "_________________________________________________________________\n",
            "max_pooling2d_2 (MaxPooling2 (None, 128, 128, 64)      0         \n",
            "_________________________________________________________________\n",
            "dropout (Dropout)            (None, 128, 128, 64)      0         \n",
            "_________________________________________________________________\n",
            "flatten (Flatten)            (None, 1048576)           0         \n",
            "_________________________________________________________________\n",
            "dense (Dense)                (None, 128)               134217856 \n",
            "_________________________________________________________________\n",
            "dense_1 (Dense)              (None, 2)                 258       \n",
            "=================================================================\n",
            "Total params: 134,241,698\n",
            "Trainable params: 134,241,698\n",
            "Non-trainable params: 0\n",
            "_________________________________________________________________\n"
          ]
        }
      ],
      "source": [
        "# Parameter zum Einstellen \n",
        "\n",
        "    # Bild Inputgröße\n",
        "img_height = 1024 \n",
        "img_width = 1024\n",
        "\n",
        "    # Model Name: \n",
        "    # Muss mit Ordnernamen übereinstimmen \n",
        "model_name = \"model_1\"\n",
        "\n",
        "    #Webcam ID: \n",
        "    # -1, 0, 1\n",
        "devide_number = -1\n",
        "\n",
        "    # Namen der Klassen die unterschien werden sollen\n",
        "class_names = ['class_1', 'class_2']\n",
        "\n",
        "    # Falls die Kamer 180° gedreht ist, kann hier das Bild gedreht werden\n",
        "    #( True / False)\n",
        "rotate_frame = True\n",
        "\n",
        "# Variablen hier nicht ändern\n",
        "model = tf.keras.models.load_model(model_name)\n",
        "dim = (img_width, img_height)\n",
        "model.summary() "
      ]
    },
    {
      "cell_type": "markdown",
      "metadata": {},
      "source": [
        "# Webcam Detection"
      ]
    },
    {
      "cell_type": "code",
      "execution_count": 20,
      "metadata": {},
      "outputs": [
        {
          "name": "stdout",
          "output_type": "stream",
          "text": [
            "[[ 4.750349  -6.5672073]]\n",
            "[[ 4.1386456 -5.90611  ]]\n",
            "[[ 6.308546 -8.996501]]\n",
            "[[ 4.8524895 -6.6940513]]\n",
            "[[ 4.4139876 -6.275033 ]]\n",
            "[[ 4.5065513 -6.398544 ]]\n",
            "[[ 6.342474 -9.10401 ]]\n",
            "[[ 4.756975 -6.599392]]\n",
            "[[ 4.8450456 -6.692633 ]]\n",
            "[[ 4.897549  -6.6767416]]\n",
            "[[ 4.7165046 -6.5246763]]\n",
            "[[ 6.2152667 -8.886266 ]]\n",
            "[[ 6.511359 -9.273692]]\n",
            "[[ 6.336288  -9.0334425]]\n",
            "[[ 6.3568296 -9.080799 ]]\n",
            "[[ 4.601861  -6.5048537]]\n",
            "[[ 6.292511 -9.013783]]\n",
            "[[ 5.4216337 -7.3283014]]\n",
            "[[ 5.078273  -6.8964105]]\n",
            "[[ 4.9107227 -6.761825 ]]\n",
            "[[ 4.8490753 -6.686786 ]]\n",
            "[[ 4.2869296 -6.1027093]]\n",
            "[[ 6.3401175 -9.07447  ]]\n",
            "[[ 6.448904 -9.177918]]\n",
            "[[ 4.4989305 -6.344106 ]]\n",
            "[[ 4.9056726 -6.68176  ]]\n",
            "[[ 4.511158 -6.401949]]\n",
            "[[ 6.3664536 -9.064309 ]]\n",
            "[[ 4.6070256 -6.43586  ]]\n",
            "[[ 6.5841413 -9.380666 ]]\n",
            "[[ 4.6070256 -6.43586  ]]\n",
            "[[ 5.33311  -7.153649]]\n",
            "[[ 5.331518  -7.1686163]]\n",
            "[[ 6.270142 -8.942829]]\n"
          ]
        }
      ],
      "source": [
        "import tensorflow as tf\n",
        "from tensorflow import keras\n",
        "from tensorflow.keras import layers\n",
        "from tensorflow.keras.models import Sequential\n",
        "import numpy as np\n",
        "import cv2\n",
        "\n",
        "\n",
        "i = 0\n",
        "for filename in os.listdir(\"demo\"):\n",
        "    img = cv2.imread(os.path.join(\"demo/\",filename))\n",
        "    #img = resize(img, (width, height))\n",
        "    if img is None:\n",
        "        print(os.path.join(\"demo/\",filename))\n",
        "        break\n",
        "    else:\n",
        "        \n",
        "        #image = cv2.resize(img,dsize=(img_height,img_width), interpolation = cv2.INTER_CUBIC)\n",
        "        image = img\n",
        "        np_image_data = np.asarray(image)\n",
        "        image = np.expand_dims(image, axis=0)\n",
        "\n",
        "        predictions = model.predict(image)\n",
        "        score = tf.nn.softmax(predictions[0])\n",
        "        print(predictions)\n",
        "        cv2.putText(img, str(score), (10, 40), 1, 1, (0,255,0), 2)\n",
        "        \n",
        "    #    if class_names[np.argmax(score)] == \"class_1\":\n",
        "    #        cv2.putText(img, \"class_1: ({:.2f})\".format(100 * np.max(score)), (10, 40), 1, 1, (0,255,0), 2) \n",
        "    #\n",
        "    #    else:\n",
        "    #        cv2.putText(img, \"class_2: ({:.2f})\".format(100 * np.max(score)), (10, 40), 1, 1, (0,0,255), 2)\n",
        "\n",
        "\n",
        "\n",
        "\n",
        "        cv2.imshow(\"TEST\", img)\n",
        "        if cv2.waitKey(0) & 0xFF == ord('q'):    \n",
        "            break\n",
        "\n",
        "\n",
        "cv2.destroyAllWindows()"
      ]
    }
  ],
  "metadata": {
    "accelerator": "GPU",
    "colab": {
      "collapsed_sections": [],
      "name": "Lagerbock_Image_Classifier",
      "provenance": [],
      "toc_visible": true
    },
    "kernelspec": {
      "display_name": "Python 3",
      "language": "python",
      "name": "python3"
    },
    "language_info": {
      "codemirror_mode": {
        "name": "ipython",
        "version": 3
      },
      "file_extension": ".py",
      "mimetype": "text/x-python",
      "name": "python",
      "nbconvert_exporter": "python",
      "pygments_lexer": "ipython3",
      "version": "3.8.10"
    }
  },
  "nbformat": 4,
  "nbformat_minor": 0
}

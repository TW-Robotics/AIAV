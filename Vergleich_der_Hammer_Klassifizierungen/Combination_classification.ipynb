{
 "cells": [
  {
   "cell_type": "markdown",
   "metadata": {},
   "source": [
    "# Vergleich der verschiedenen Modelle\n",
    "\n",
    "\n",
    "\n",
    "\n",
    "## Aufbau:\n",
    "Der Beispielcode ist wie folgt aufgebaut: \n",
    "### Abschnitt 1: Datensatz vorbereiten\n",
    "In diesem Abschnitt werden, wie auch bei den einzelnen Notebooks dieser Art, die notwendigen [Bibliotheken](./requirements.txt) eingebunden sowie die Daten aufbereitet. Es wird ein sogenanntes [Dictonary](https://kapernikov.com/tutorial-image-classification-with-scikit-learn/) erstellt welches die Bilder des Datensatzes verwaltet. Ebenso werden die Bilder in diesem Abschnitt von einer Matrix in einen Vektor umgewandelt. Die Theorie dazu ist in dem logistische Regression [Use-Case](https://github.com/TW-Robotics/AIAV/tree/devel_abdank/Logistische_Regression_fuer_Bildklassifizierung) beschrieben.  \n",
    "\n",
    "### Abschnitt 2: Erstellen der Modelle\n",
    "In Abschnitt 2 werden die vier Modelle definiert welche eingesetzt werden.\n",
    "Der unterschied zu den bisherigen Use-Cases ist, das ein Dictonary erstellt wird in dem die Modelle definiert werden. Das ermöglicht es anschließend mit einem \"Datentyp\" vier verschiedene Klassifizierungen durchzuführen. \n",
    "\n",
    "Zum Einsatz kommt hier die [scikit-learn](https://scikit-learn.org/stable/index.html) Bibliothek welche es ermöglicht die bereits existierendes Modelle einzubinden und nur die Parameter zu definieren. Dadurch sind features wie Skalieren, PCA oder das Trainieren leicht umgesetzt. Was eine PCA ist und welche Parameter sich auf die LR auswirken sind ebenfalls im [Storyboard](11_Storyboard_logistic_regression.pdf) zu finden. \n",
    "\n",
    "### Abschnitt 3: Webcam Implementierung\n",
    "In diesem Abschnitt wird die Webcam eingebunden mittels [OpenCV](https://opencv.org/). Da ein Video-Stream nur aus vielen hintereinader ablaufenden Bildern besteht, wird einfach jeder Frame (jedes Bild) angeschaut und vier Mal Klassifiziert. Das Ergebnis wird direkt in die Bilder hinein geschrieben und angezeigt. \n",
    "\n",
    "\n",
    "## Ordnerstruktur: \n",
    "1. demo\n",
    "\n",
    "    - webcam_demo.gif\n",
    "    - _demo images_\n",
    "    \n",
    "2. Tool_Data\n",
    "\n",
    "    - Hammer _data images_\n",
    "    - Workspace _data images_\n",
    "    \n",
    "3. `miniUsecases13_DeepkNN.ipynb`\n",
    "4. `workspace_detection_{width}x{height}px.pkl`\n",
    "5. `ReadMe.md`\n",
    "6. `requirements.txt`\n",
    "\n",
    "\n",
    "## Resultat: \n",
    "Als Resultat wird ein Kamera-Stream ausgegeben mit vier gleichen Bildern. In jedem Bild wird das Ergebnis des jeweiligen Models eingeblendet. "
   ]
  },
  {
   "cell_type": "markdown",
   "metadata": {},
   "source": [
    "## Importieren der generellen notwendigen Bibliotheken\n",
    "Wir empfehlen die notwendigen Bibliotheken über die [requirements.txt](requirements.txt) Datei zu installieren. Das ermöglicht es, dass automatisch die richtigen Versionen installiert werden. Sollte eine Library nicht vorhanden sein, dann kann die häufig auch mit `pip3 <package-name\\>` nachinstalliert werden. Sind alle libraries vorhanden, entsteht kein Output bei der nächsten Zelle. \n",
    "Im laufe des Notebooks werden weitere Bibliotheken benötigt. Diese werden erst in späteren Zellen aufgerufen um jeweils bei den entsprechenden Codesnipped zu garantieren, dass sie im Workspace geladen sind.\n"
   ]
  },
  {
   "cell_type": "code",
   "execution_count": 1,
   "metadata": {},
   "outputs": [],
   "source": [
    "# data von miniUsecase11 logistic regression \n",
    "import os\n",
    "import matplotlib as mpl\n",
    "import matplotlib.pyplot as plt\n",
    "from IPython.display import display\n",
    "%matplotlib inline\n",
    "import pandas as pd\n",
    "import numpy as np\n",
    "from PIL import Image\n",
    "from skimage.feature import hog\n",
    "from skimage.color import rgb2grey\n",
    "from sklearn.model_selection import train_test_split\n",
    "from sklearn.metrics import accuracy_score\n",
    "from sklearn.preprocessing import StandardScaler\n",
    "from sklearn.decomposition import PCA\n",
    "from sklearn.metrics import roc_curve, auc\n",
    "\n",
    "import warnings\n",
    "from scipy.sparse import (spdiags, SparseEfficiencyWarning, csc_matrix,\n",
    "    csr_matrix, isspmatrix, dok_matrix, lil_matrix, bsr_matrix)\n",
    "warnings.simplefilter('ignore',SparseEfficiencyWarning) \n",
    "warnings.simplefilter('ignore',UserWarning)\n",
    "\n"
   ]
  },
  {
   "cell_type": "markdown",
   "metadata": {},
   "source": [
    "## Verschiedene Einstellungen um das Programm anzupassen\n",
    "\n",
    "data_path: gibt den relativen Pfad zu dem Datensatz (Ordner mit Bildern) an. \n",
    "\n",
    "os.listdir(data_path): Zeigt die Ordner an, welche die Bilder für das Trainieren enthalten sollen. \n",
    "\n",
    "SIZE: definiert die größe des Bildes. Hier kann eingestellt werden wie sehr das Bild \"verkleinert\" werden soll. Ein guter Startpunkt ist meist _<original_image_size/rescaling\\>_ wobei rescaling einfach als Skalar gewählt werden kann. In dem Beispiel verwenden wir ein viertel der Pixellänge. Sprich ein 416x416 Pixelbild ist dann nur mehr 104x104px groß "
   ]
  },
  {
   "cell_type": "code",
   "execution_count": 2,
   "metadata": {},
   "outputs": [],
   "source": [
    "# Hier den Pfad und Bildgröße ändern\n",
    "data_path = os.getcwd() + \"/Tool_Data\"\n",
    "os.listdir(data_path) #im falle von dem Hammer-Beispiel werden hier Hammer und Workspace angezeigt\n",
    "SIZE = 416/4 "
   ]
  },
  {
   "cell_type": "markdown",
   "metadata": {},
   "source": [
    "## Zusatzfunktion für das preperieren der Daten \n",
    "Diese funktion lädt alle Bilder in den Workspace (aus dem definierten Pfad) und macht foglende 2 Aktionen:\n",
    "- Resize: Skaliert die Bilder entsprechend der Vorgabe\n",
    "- Dictionary: Erstellt ein Dictionary mit Labels und Metadata (Datensatz für das Trainieren). Der output wird als _pickle file_ im Workspace abgespeichert.\n",
    "\n",
    "Parameter: \n",
    "- src: gibt den Pfad zu den Daten an\n",
    "- pklname: erstellt den Namen für die Pickle Datei\n",
    "- include: Includiert als String List die beiden Klassen (Hammer, Workspace)\n",
    "- width: gibt die größe der Bilder/Resize an\n",
    "\n",
    "[Tutorial zu Dictionary](https://kapernikov.com/tutorial-image-classification-with-scikit-learn/)"
   ]
  },
  {
   "cell_type": "code",
   "execution_count": 3,
   "metadata": {},
   "outputs": [],
   "source": [
    "# Libraries \n",
    "import joblib\n",
    "from skimage.io import imread\n",
    "from skimage.transform import resize\n",
    "\n",
    "\n",
    "# Funktionsdefinition \n",
    "def resize_all(src, pklname, include, width = 150, height=None):\n",
    "    height = height if height is not None else width #ERRORHANDLING\n",
    "    \n",
    "# definiert den Datansatz als Dictionary \n",
    "    data = dict()\n",
    "    data['description'] = 'resized ({0}x{1}) images in rgb'.format(int(width), int(height))\n",
    "    data['label'] = []\n",
    "    data['filename'] = []\n",
    "    data['data'] = []   \n",
    "\n",
    "    pklname = f\"{pklname}_{width}x{height}px.pkl\"\n",
    "\n",
    "    for subdir in os.listdir(src):\n",
    "        if subdir in include:\n",
    "            print(subdir)\n",
    "            current_path = os.path.join(src, subdir)\n",
    " \n",
    " # itteriert über alle Bilder im Datensatz \n",
    "            for file in os.listdir(current_path):\n",
    "                if file[-3:] in {'jpg', 'png'}:\n",
    "                    im = imread(os.path.join(current_path, file))\n",
    "                    im = resize(im, (width, height)) #[:,:,::-1]\n",
    "                    data['label'].append(subdir[:-4])\n",
    "                    data['filename'].append(file)\n",
    "                    data['data'].append(im)\n",
    " \n",
    "# erstellt die Pickle file\n",
    "        joblib.dump(data, pklname)"
   ]
  },
  {
   "cell_type": "markdown",
   "metadata": {},
   "source": [
    "## Formatieren des Datensatzes\n",
    "Hier wird die Hilfsfunktion aufgerufen, die für das erstellen des Datensatzes notwendig ist. Ebenso werden hier die Parameter übergeben. Zu beachten ist, dass hier nur _.jpg_ und _.png_ Bilder verarbeitet werden können. "
   ]
  },
  {
   "cell_type": "code",
   "execution_count": 4,
   "metadata": {},
   "outputs": [
    {
     "name": "stdout",
     "output_type": "stream",
     "text": [
      "Workspace\n",
      "Hammer\n"
     ]
    }
   ],
   "source": [
    "base_name = 'workspace_detection'   # Name für die Beschreibung des Datensatzes\n",
    "width = SIZE                        # Definierte Bildgröße übergeben (Zelle 2)\n",
    "include = {'Workspace', 'Hammer'}   # Ordner angeben\n",
    " \n",
    "#FUNCTION CALL\n",
    "resize_all(src=data_path, pklname=base_name, width=width, include=include) # Funktionsaufruf für das erstellen der pkl-Datei "
   ]
  },
  {
   "cell_type": "markdown",
   "metadata": {},
   "source": [
    "## Informationen vom Datensatz\n",
    "anbei werden bei korrektem erstellen des Dictionarys die Informationen dazu angezeigt. Diese werden über die Pickle Datei ausgelesen"
   ]
  },
  {
   "cell_type": "code",
   "execution_count": 5,
   "metadata": {},
   "outputs": [
    {
     "name": "stdout",
     "output_type": "stream",
     "text": [
      "Anzahl der gefundenen Daten:  954\n",
      "keys:  ['description', 'label', 'filename', 'data']\n",
      "Beschreibung:  resized (104x104) images in rgb\n",
      "Bild Form  (104, 104, 3)\n",
      "Labels: ['Ha' 'Works']\n"
     ]
    },
    {
     "data": {
      "text/plain": [
       "Counter({'Works': 322, 'Ha': 632})"
      ]
     },
     "execution_count": 5,
     "metadata": {},
     "output_type": "execute_result"
    }
   ],
   "source": [
    "from collections import Counter\n",
    " \n",
    "data = joblib.load(f'{base_name}_{width}x{width}px.pkl')    # Laden der Datei\n",
    "print('Anzahl der gefundenen Daten: ', len(data['data']))   \n",
    "print('keys: ', list(data.keys()))                          # Zeigt die einzelnen Komponenten  \n",
    "print('Beschreibung: ', data['description'])                \n",
    "print('Bild Form ', data['data'][0].shape)                  # Format anzeigen. Nützlich für das Reshapen nachher\n",
    "print('Labels:', np.unique(data['label']))                  # Labels für die Klassifizierung\n",
    "Counter(data['label'])                                      # Aufteilung anzeigen"
   ]
  },
  {
   "cell_type": "markdown",
   "metadata": {},
   "source": [
    "## Datensatz Beispiel der beiden Klassen\n",
    "Folgende Zelle lädt jeweils ein Bild/Klasse. Sollten hier nicht erwartete Bilder erscheinen muss der Datensatz überprüft werden."
   ]
  },
  {
   "cell_type": "code",
   "execution_count": 6,
   "metadata": {},
   "outputs": [
    {
     "data": {
      "image/png": "[encoded data removed]",
      "text/plain": [
       "<Figure size 1080x288 with 2 Axes>"
      ]
     },
     "metadata": {
      "needs_background": "light"
     },
     "output_type": "display_data"
    }
   ],
   "source": [
    "labels = np.unique(data['label'])           # Labels auslesen\n",
    "\n",
    "\n",
    "# Matplot handling um Achsen zu erstellen\n",
    "fig, axes = plt.subplots(1, len(labels))    # Plot definieren\n",
    "fig.set_size_inches(15,4)                   # Größe\n",
    "fig.tight_layout() \n",
    "\n",
    "# Generiert einen Plot mit einem Bild aus jeder Klasse\n",
    "for ax, label in zip(axes, labels):\n",
    "    idx = data['label'].index(label)\n",
    "    ax.imshow(data['data'][idx])\n",
    "    ax.axis('off')\n",
    "    ax.set_title(label)"
   ]
  },
  {
   "cell_type": "markdown",
   "metadata": {},
   "source": [
    "## Datensatz umformen\n",
    "Die derzeitige Form eines eingelesenen Bildes ist <index, breite, höhe, schichten> mit index für die Anzahl der Elemente, Breite/Höhe gibt die Bildgröße in Pixel an und Schichten beschreibt die Art des Bildes (3 = RGB)\n",
    "\n",
    "Um eine Klassifikation durchzuführen benötigt das System einen Vektor mit maximal 2 Dimensionen. Wir wollen einen Vektor mit <index, pixel_vektor>, wobei index gleich bleibt um mit den Labels (y-Vektor) übereinzustimmen. Der pixel_vektor (\"Daten\" entsprechend zum Index im X-Vektor) wird aus den restlichen Ebenen gebildet, um einen 1*n Vektor zu erhalten.  \n",
    "\n"
   ]
  },
  {
   "cell_type": "code",
   "execution_count": 7,
   "metadata": {},
   "outputs": [
    {
     "name": "stdout",
     "output_type": "stream",
     "text": [
      "Original Form: (954, 104, 104, 3)\n",
      "Umgeformter Datensatz der Form: (954, 32448)\n",
      "Der Index muss mit der Labels größe Übereinstimmen. \n",
      "Labels größe: (954,)\n"
     ]
    }
   ],
   "source": [
    "X = np.array(data['data'])                                      # Einlesen der Bilder\n",
    "print(\"Original Form: {}\".format(X.shape))                      \n",
    "x = X.reshape(X.shape[0], X.shape[1]* X.shape[2]* X.shape[3])   # Umformen auf die beschriebene Größe\n",
    "print(\"Umgeformter Datensatz der Form: {}\".format(x.shape))\n",
    "\n",
    "y = np.array(data['label'])                                     # Einlesen der Labels\n",
    "print(\"Der Index muss mit der Labels größe Übereinstimmen. \\nLabels größe: {}\".format(y.shape)) #Abgleichen ob die Form übereinstimmt "
   ]
  },
  {
   "cell_type": "markdown",
   "metadata": {},
   "source": [
    "# Abschnitt 2: Erstellen der Modelle"
   ]
  },
  {
   "cell_type": "markdown",
   "metadata": {},
   "source": [
    "## Grundaufbau\n",
    "(1)Datensatz aufteilen: Hier wird der Datensatz in einen Trainingsanteil und in einen Testanteil Aufgeteilt um zu überprüfen ob das Model in die richtige Richtung trainiert\n",
    "(2)Skalieren: Standardisierung von Merkmalen durch Entfernen des Mittelwerts und Skalierung auf Einheitsvarianz\n",
    "(3)PCA: Principal component analysis für eine lineare Dimensionalitätsreduktion des Eingangsvektors. (\"Pixelreduktion\" unserer Trainingsdaten)\n",
    "(4)Model definieren\n",
    "\n",
    "\n",
    "## Modelle\n",
    "| Model | Storyboard link | GitHub link | sklearn Dokumentation | \n",
    "|---|---|---|---|\n",
    "| logistische Regression | [Storyboard](http://www.aiav.technikum-wien.at/) | [GitHub](https://github.com/TW-Robotics/AIAV/tree/devel_abdank/Logistische_Regression_fuer_Bildklassifizierung) | [Dokumentation](https://scikit-learn.org/stable/modules/generated/sklearn.linear_model.LogisticRegression.html) |  \n",
    "| Support Vector Machine | [Storyboard](http://www.aiav.technikum-wien.at/) | [GitHub](https://github.com/TW-Robotics/AIAV/tree/devel_abdank/Support_Vector_Machine_fuer_Bildklassifizierung) | [Dokumentation](https://scikit-learn.org/stable/modules/svm.html) |\n",
    "| k-Neares Neighbour | [Storyboard](http://www.aiav.technikum-wien.at/) | [GitHub](https://github.com/TW-Robotics/AIAV/tree/devel_abdank/kNearest_Neighbor_fuer_Bildklassifizierung) | [Dokumentation](https://scikit-learn.org/stable/modules/generated/sklearn.neighbors.KNeighborsClassifier.html) |\n",
    "| Random Forest | [Storyboard](http://www.aiav.technikum-wien.at/) | [GitHub](https://github.com/TW-Robotics/AIAV/tree/devel_abdank/Random_Forest_fuer_Bildklassifizierung) | [Dokumentation](https://scikit-learn.org/stable/modules/generated/sklearn.ensemble.RandomForestClassifier.html) | \n",
    "\n",
    "\n",
    "\n",
    "\n",
    "Zum Einsatz kommt hier die sklearn Bibliothek welche ermöglicht ein bereits existierendes Model einzubinden und nur die Parameter zu definieren. Dadurch sind features wie Skalieren, PCA oder das Trainieren leicht umgesetzt. \n"
   ]
  },
  {
   "cell_type": "markdown",
   "metadata": {},
   "source": [
    "### Aufteilen und Transformieren (PCA)\n",
    "#### (1) Datensatz Teilen\n",
    "Im ersten Abschnitt der folgenden Zelle wird der Datensatz in Trainings und Test Daten aufgeteilt. Das ermöglicht das trainieren und das anschließende testen des Models \n",
    "\n",
    "#### (2)&(3) Principal Component Analysis (PCA)\n",
    "Im zweiten Teil wird eine PCA auf den Datensatz angewandt. Dies ermöglicht, dass nicht alle Pixel als Trainingsdaten herangezogen werden sonder nur herausstechende Features. \n"
   ]
  },
  {
   "cell_type": "code",
   "execution_count": 8,
   "metadata": {},
   "outputs": [
    {
     "data": {
      "text/plain": [
       "Ha       475\n",
       "Works    240\n",
       "dtype: int64"
      ]
     },
     "execution_count": 8,
     "metadata": {},
     "output_type": "execute_result"
    }
   ],
   "source": [
    "# Aufteilen des Datensatzes (1)\n",
    "X_train, X_test, y_train, y_test = train_test_split(x,\n",
    "                                                    y,\n",
    "                                                    test_size=.25,\n",
    "                                                    random_state=1234123)\n",
    "\n",
    "\n",
    "# (2) Skalieren\n",
    "scaler = StandardScaler()\n",
    "X_train = scaler.fit_transform(X_train)\n",
    "X_test = scaler.transform(X_test)\n",
    "\n",
    "#  PCA (3)\n",
    "pca = PCA(.95)                                  # verwendet 95% der Komponenten und erstellen der \"PCA-Instanz\"\n",
    "pca.fit(X_train)                                # PCA aufgrund von Datensatz auslegen\n",
    "pca.n_components_                               \n",
    "X_train = pca.transform(X_train)                # PCA auf Datensatz anwenden\n",
    "X_test = pca.transform(X_test)                  # PCA auf Test Daten anwenden\n",
    "pd.Series(y_train).value_counts()               # Evaluieren der Verteilung der Daten"
   ]
  },
  {
   "cell_type": "markdown",
   "metadata": {},
   "source": [
    "#### (4) Modell definieren\n",
    "In der folgenden Zelle werden die vier angesprochenen Modelle definiert. Es wird ein Dictionary angelegt um anschlißend über den definierten Classifier das gewünschte Modell auszuwählen. \n",
    "Hier können auch alle Parameter getuned werden, welche für die einzelnen Modelle verwednet werden. \n",
    "\n",
    "Genaue Informationen zu den einzelnen Modellen sind in den entsprechenden Use-Cases zu finden. Die Parameter sind ebenfalls auch in der sklearn Dolumentation beschrieben: \n",
    "| Model                  | Informationen |\n",
    "|---                     |---|\n",
    "| logistische Regression | [Parameter](https://scikit-learn.org/stable/modules/generated/sklearn.linear_model.LogisticRegression.html) | \n",
    "| SVM                    | [Parameter](https://scikit-learn.org/stable/modules/svm.html) |\n",
    "| k-NN                   | [Parameter](https://scikit-learn.org/stable/modules/generated/sklearn.neighbors.KNeighborsClassifier.html) |\n",
    "| Random Forest          | [Parameter](https://scikit-learn.org/stable/modules/generated/sklearn.ensemble.RandomForestClassifier.html) |"
   ]
  },
  {
   "cell_type": "code",
   "execution_count": 9,
   "metadata": {},
   "outputs": [],
   "source": [
    "from sklearn.neighbors import KNeighborsClassifier\n",
    "from sklearn.linear_model import LogisticRegression\n",
    "from sklearn.svm import SVC\n",
    "from sklearn.ensemble import RandomForestClassifier\n",
    "\n",
    "# Define all Classifiers\n",
    "CLASSIFIERS = {\n",
    "    \"Logistic Regression\": LogisticRegression(solver='saga', C=0.5, multi_class='ovr',random_state=0, max_iter=10000),\n",
    "    \"SVM\" : SVC(kernel='linear', probability=True, random_state=42),\n",
    "    \"k-NN\": KNeighborsClassifier(n_neighbors=3),\n",
    "    \"Random Forest\" : RandomForestClassifier(max_depth=5, random_state=0, n_estimators = 10),\n",
    "}"
   ]
  },
  {
   "cell_type": "code",
   "execution_count": 10,
   "metadata": {},
   "outputs": [
    {
     "name": "stdout",
     "output_type": "stream",
     "text": [
      "+----------------------------------------+\n",
      "           Model accuracy\n",
      "  Logistic Regression: 91.631799%\n",
      "  SVM: 94.142259%\n",
      "  k-NN: 90.376569%\n",
      "  Random Forest: 91.213389%\n",
      "\n",
      "+----------------------------------------+\n"
     ]
    }
   ],
   "source": [
    "print(\"+----------------------------------------+\")\n",
    "print(\"           Model accuracy\")\n",
    "\n",
    "\n",
    "for name, classifier in CLASSIFIERS.items():\n",
    "    classifier.fit(X_train, y_train)\n",
    "\n",
    "    y_pred = classifier.predict(X_test)\n",
    "    accuracy = accuracy_score(y_test, y_pred)               # Auswertung\n",
    "    print('  {}: {:%}'.format(name,accuracy))               # Ausgabe der Genauigkeit\n",
    "\n",
    "\n",
    "print(\"\\n+----------------------------------------+\")\n"
   ]
  },
  {
   "cell_type": "markdown",
   "metadata": {},
   "source": [
    "# Abschnitt 3: Webcam Implementierung\n",
    "## Ausführung der Live erkennung\n",
    "In der folgenden Zelle wird ein Kamerastream geöffnet und Frame für Frame eine Prediction durchgeführt. so wie es in dem Demo example auch passiert ist. Der unterschied hier ist lediglich, dass die Bilder nicht eingelesen werden über vorhandene Daten sondern dynamisch über die Kamera \"generiert\" werden.  \n"
   ]
  },
  {
   "cell_type": "markdown",
   "metadata": {},
   "source": [
    "## Demo Zelle für das Ausführen der Prediction für 2 Bilder\n",
    "Die folgende Zelle nimmt nun das trainierte Modell her und führt eine Prediction anhand zwei demo Bilder durch. Diese sind in dem Demo Ordner hinterlegt. Ziel ist es einmal einen Workspace und einmal einen Hammer zu erkennen. Ist dies nicht der Fall, ist es wahrscheinlich keine gute Vorraussetzung für die Webcam-Implementation und die Modell-Parameter sollten überarbeitet werden. "
   ]
  },
  {
   "cell_type": "code",
   "execution_count": 11,
   "metadata": {},
   "outputs": [
    {
     "name": "stdout",
     "output_type": "stream",
     "text": [
      "Hammer Example with Logistic Regression:\n",
      "Class: Ha\t with Probability of: \t[9.99823653e-01 1.76346911e-04] \n",
      "Workspace Example with Logistic Regression:\n",
      "Class: Works\t with Probability of: \t[1.27720651e-08 9.99999987e-01] \n",
      "\n",
      "Hammer Example with SVM:\n",
      "Class: Ha\t with Probability of: \t[0.99545796 0.00454204] \n",
      "Workspace Example with SVM:\n",
      "Class: Ha\t with Probability of: \t[0.9869431 0.0130569] \n",
      "\n",
      "Hammer Example with k-NN:\n",
      "Class: Ha\t with Probability of: \t[1. 0.] \n",
      "Workspace Example with k-NN:\n",
      "Class: Ha\t with Probability of: \t[1. 0.] \n",
      "\n",
      "Hammer Example with Random Forest:\n",
      "Class: Ha\t with Probability of: \t[0.65188551 0.34811449] \n",
      "Workspace Example with Random Forest:\n",
      "Class: Ha\t with Probability of: \t[0.64339375 0.35660625] \n",
      "\n"
     ]
    }
   ],
   "source": [
    "\n",
    "# Einlesen und definieren der Bilder\n",
    "demo1 = \"demo/Demo_001.jpeg\" #Hammer\n",
    "demo2 = \"demo/Demo_002.jpeg\" #Workspace\n",
    "width = SIZE\n",
    "height = SIZE\n",
    "\n",
    "# Vorbereiten der Bilder\n",
    "im1 = imread(demo1)\n",
    "im1 = resize(im1, (width, height))\n",
    "im1 = im1.reshape(1 ,-1)\n",
    "im1 = scaler.transform(im1)\n",
    "im1 = pca.transform(im1)\n",
    "\n",
    "# Vorbereiten der Bilder\n",
    "im2 = imread(demo2)\n",
    "im2 = resize(im2, (width, height))\n",
    "im2 = im2.reshape(1 ,-1)\n",
    "im2 = scaler.transform(im2)\n",
    "im2 = pca.transform(im2)\n",
    "\n",
    "\n",
    "\n",
    "\n",
    "for name, classifier in CLASSIFIERS.items():\n",
    "    # Prediction und Ausgabe für das erste Bild\n",
    "    y_new_prob  = classifier.predict_proba(im1)\n",
    "    y_new  = classifier.predict(im1)\n",
    "    print(\"Hammer Example with {}:\".format(name))\n",
    "    print(\"Class: {}\\t with Probability of: \\t{} \".format(y_new[0], y_new_prob[0]))\n",
    "\n",
    "    # Prediction und Ausgabe für das erste Bild\n",
    "    y_new_prob  = classifier.predict_proba(im2)\n",
    "    y_new  = classifier.predict(im2)\n",
    "    print(\"Workspace Example with {}:\".format(name))\n",
    "    print(\"Class: {}\\t with Probability of: \\t{} \\n\".format(y_new[0], y_new_prob[0]))\n",
    "    \n"
   ]
  },
  {
   "cell_type": "markdown",
   "metadata": {},
   "source": [
    "Hilfsfuntkion: Setzt mit den Ankerpunkten die jeweilige Beschriftung in das fertige Bild. Beschriftet wird das angewendete Model und das Ergebnis der Klassifizierung"
   ]
  },
  {
   "cell_type": "code",
   "execution_count": 12,
   "metadata": {},
   "outputs": [],
   "source": [
    "def add_label(image, name, y_new, prob, itterator):\n",
    "    #Text Einstellungen\n",
    "    #links oben\n",
    "    loc_1_0 = (10, 40)  \n",
    "    loc_1_1 = (10, 80)  \n",
    "    loc_1_2 = (10, 120) \n",
    "    #rechts oben\n",
    "    loc_2_0 = (426, 40) \n",
    "    loc_2_1 = (426, 80) \n",
    "    loc_2_2 = (426, 120)\n",
    "    #links unten\n",
    "    loc_3_0 = (10, 456) \n",
    "    loc_3_1 = (10, 496) \n",
    "    loc_3_2 = (10, 536) \n",
    "    #rechts unten \n",
    "    loc_4_0 = (426, 456) \n",
    "    loc_4_1 = (426, 496) \n",
    "    loc_4_2 = (426, 536) \n",
    "    #Font Einstellungen\n",
    "    font_size = 2\n",
    "    thickness = 2\n",
    "    font_color = (50,50,50)\n",
    "    font_color1 = (0,0,202)\n",
    "    font_color2 = (124,252,0)\n",
    "    \n",
    "    #Beschriftung entsprechend Itterator setzen (Itterator = Model)\n",
    "    if(itterator == 1):\n",
    "        loc_0 = loc_1_0\n",
    "        loc_1 = loc_1_1\n",
    "        loc_2 = loc_1_2\n",
    "    elif(itterator == 2):\n",
    "        loc_0 = loc_2_0\n",
    "        loc_1 = loc_2_1\n",
    "        loc_2 = loc_2_2\n",
    "    elif(itterator == 3):\n",
    "        loc_0 = loc_3_0\n",
    "        loc_1 = loc_3_1\n",
    "        loc_2 = loc_3_2\n",
    "    else:\n",
    "        loc_0 = loc_4_0\n",
    "        loc_1 = loc_4_1\n",
    "        loc_2 = loc_4_2\n",
    "    \n",
    "\n",
    "    #Text wird an korrekte Stelle notiert\n",
    "    cv2.putText(image, name,      loc_0, 1, font_size, font_color, thickness)\n",
    "    #Auswertung für die Darstellung\n",
    "    if (y_new == \"Ha\"):\n",
    "        cv2.putText(image, \"Hammer in Worspace\",      loc_1, 1, font_size, font_color1, thickness)\n",
    "        cv2.putText(image, \"{:.2f}%\".format(prob[0]), loc_2, 1, font_size, font_color1, thickness)\n",
    "    elif (y_new == \"Works\"): \n",
    "        cv2.putText(image, \"No Tool in Workspace\",    loc_1, 1, font_size, font_color2, thickness)    \n",
    "        cv2.putText(image, \"{:.2f}%\".format(prob[1]), loc_2, 1, font_size, font_color2, thickness)\n",
    "    else:\n",
    "        cv2.putText(image, \"Unknown Class: ({})\".format(y_new), (10, 40), 1, 3, (0,0,255), 2)\n",
    "\n",
    "    # Fertiges Bild zurück geben \n",
    "    return image\n",
    "\n",
    "\n",
    "    "
   ]
  },
  {
   "cell_type": "markdown",
   "metadata": {},
   "source": [
    "### Webcam Klassifizerung\n",
    "In der nachfolgenden Zelle wird die Webcam Klassifizerung durchgeführt. Solange ein Kamerastream erkannt wird oder der User nicht \"q\" (für Quit) drückt wird ein Frame aus dem Videostream genommen, umgeformt, skaliert, die PCA wird durchgeführt und anschließend vier mal Klassifiziert. Das Ergebnis ist dann im Output-Window zu sehen "
   ]
  },
  {
   "cell_type": "code",
   "execution_count": 15,
   "metadata": {},
   "outputs": [],
   "source": [
    "#libraries\n",
    "from skimage.transform import resize\n",
    "from sklearn.decomposition import PCA\n",
    "import cv2\n",
    "import numpy as np\n",
    "\n",
    "\n",
    "#übernahme von parametern\n",
    "device_number = -1\n",
    "width = SIZE\n",
    "height = SIZE\n",
    "\n",
    "# öffnen des Video Streams\n",
    "cap = cv2.VideoCapture(device_number)\n",
    "\n",
    "while(True):\n",
    "    if not (cap.isOpened()):\n",
    "        print(\"Webcam/Kamera konnte nicht gefunden und geöffnet werden. Überprüfen Sie die Verbindung sowie die device_number\")\n",
    "        break\n",
    "    else:\n",
    "            \n",
    "        # frame-by-frame Bild über dem Kamera Stream einlesen    \n",
    "        ret, frame = cap.read()    \n",
    "        # Beschränkungen des Streams (416x416 Bild erstellen)\n",
    "        y = 50\n",
    "        x = 100\n",
    "        h = 416\n",
    "        w = 416\n",
    "        frame = frame[y:y+h, x:x+w]\n",
    "        image = resize(frame, (width, height))\n",
    "        image = cv2.flip(image, 0)\n",
    "\n",
    "        # Bild aus einer Matrix in einen Vektor umformen \n",
    "        image = image.reshape(1 ,-1)\n",
    "        image = scaler.transform(image)\n",
    "        image = pca.transform(image)\n",
    "\n",
    "\n",
    "        comb_1 = cv2.vconcat([frame, frame])\n",
    "        comb_2 = cv2.vconcat([frame, frame])\n",
    "        final = cv2.hconcat([comb_1, comb_2]) \n",
    "        \n",
    "        # Klassifizierung mittels Logistischer Regression\n",
    "        y_new_prob  = CLASSIFIERS[\"Logistic Regression\"].predict_proba(image)\n",
    "        y_new  = CLASSIFIERS[\"Logistic Regression\"].predict(image)\n",
    "        prob = y_new_prob[0]*100\n",
    "        final = add_label(final, \"Logistic Regression\", y_new, prob, 1)\n",
    "        \n",
    "        # Klassifizierung mittels SVM\n",
    "        y_new_prob  = CLASSIFIERS[\"SVM\"].predict_proba(image)\n",
    "        y_new  = CLASSIFIERS[\"SVM\"].predict(image)\n",
    "        prob = y_new_prob[0]*100\n",
    "        final = add_label(final, \"SVM\", y_new, prob, 2)\n",
    "\n",
    "        # Klassifizierung mittels k-NN\n",
    "        y_new_prob  = CLASSIFIERS[\"k-NN\"].predict_proba(image)\n",
    "        y_new  = CLASSIFIERS[\"k-NN\"].predict(image)\n",
    "        prob = y_new_prob[0]*100\n",
    "        final = add_label(final, \"k-NN\", y_new, prob, 3)\n",
    "\n",
    "        # Klassifizierung mittels Random Forest\n",
    "        y_new_prob  = CLASSIFIERS[\"Random Forest\"].predict_proba(image)\n",
    "        y_new  = CLASSIFIERS[\"Random Forest\"].predict(image)\n",
    "        prob = y_new_prob[0]*100\n",
    "        final = add_label(final, \"Random Forest\", y_new, prob, 4)\n",
    "\n",
    "        #Ausgabe \n",
    "        \n",
    "        cv2.imshow('Prediction 2| press q to exit', final)\n",
    "        #User Input für das beenden des Darstellen  \n",
    "        if cv2.waitKey(1) & 0xFF == ord('q'):    \n",
    "            break\n",
    "\n",
    "\n",
    "# Stream schließen und Window Handling\n",
    "cap.release()\n",
    "cv2.destroyAllWindows()"
   ]
  }
 ],
 "metadata": {
  "interpreter": {
   "hash": "916dbcbb3f70747c44a77c7bcd40155683ae19c65e1c03b4aa3499c5328201f1"
  },
  "kernelspec": {
   "display_name": "Python 3.8.10 64-bit",
   "name": "python3"
  },
  "language_info": {
   "codemirror_mode": {
    "name": "ipython",
    "version": 3
   },
   "file_extension": ".py",
   "mimetype": "text/x-python",
   "name": "python",
   "nbconvert_exporter": "python",
   "pygments_lexer": "ipython3",
   "version": "3.8.10"
  },
  "orig_nbformat": 4
 },
 "nbformat": 4,
 "nbformat_minor": 2
}

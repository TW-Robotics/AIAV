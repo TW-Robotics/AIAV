{
 "cells": [
  {
   "cell_type": "markdown",
   "id": "18fcba18",
   "metadata": {},
   "source": [
    "# Einleitung\n",
    "\n",
    "Jede Person mit einem Emailaccount wird bereits Erfahrungen mit Spam gemacht haben. Entweder man soll einen hilfslosen Prinzen aus der finanziellen Krise helfen oder ist nur einen Klick davon entfernt ein neues IPhone zu gewinnen.\n",
    "Die Ideen hinter Spamnachrichten sind endlos und können nach und nach richtig nervig werden, wenn sie öfters erscheinen.\n",
    "\n",
    "Eine Abhilfe ist dabei der Spamfilter, welcher hinterlistigen Nachrichten entdeckt und diese anschließend in den Spamordner verbannt. Doch wie genau entscheidet der Filter eigentlich welche Nachrichten Spam sind und welche nicht?\n",
    "Genau diese Antwort soll dieses Notebook liefern, in der ein Klassifierungsalgorithmus, genauer gesagt ein multinominal Naive Bayes Klassifizierer, eingesetzt wird, um Spam emails zu detektierten.\n",
    "\n",
    "Der Naive Bayes beruht auf dem Bayes Theorem, welcher Wahrscheinlichkeiten bezogen auf Ereignisse berechnet.\n",
    "Für unsere konkretes Beispiel des Filters, wird für jede Email die Anzahl an Wörtern gezählt, um anschließend bestimmen zu können, ob es sich tatsächlich um Spam handelt, oder doch nur um eine ganz normale Email. Dabei geht der Klassifizier davon aus, dass die einzelnen Variablen unabhängig sind.\n",
    "\n",
    "Für die Berechnung der Wahrscheinlichkeiten werden durch folgende Gleichung berechnet:\n",
    "\n",
    "$P(Spam|Suchwort) = \\frac{P(Suchwort|Spam) \\cdot P(Spam)}{P(Suchwort)} = \\frac{P(Suchwort|Spam) \\cdot P(Spam)}{P(Suchwort|Spam) \\cdot P(Spam) + P(Suchwort|kein Spam) \\cdot P(kein Spam)}$\n",
    "\n",
    "\n",
    "Die Wahrscheinlichkeit, dass eine Email Spam ist unter der Bedingung des Wortes P(Spam|Suchwort) ist gesucht. Über das Bayes Theorem kann dies wie auf der rechten Seite der Gleichung dargestellt berechnet werden und zwar über die Wahrscheinlichkeit, dass ein Wort in einer Spamemail vorkommt P(Suchwort|Spam), multipliziert mit der Wahrscheinlichkeit dass es sich um eine Spamemail handelt P(Spam). Diese Wahrscheinlichkeit muss noch durch die Wahrscheinlichkeit P(Suchwort) dividiert werden, welche eine Addition der Wahrscheinlichkeit des Wortes in Spamemails und normalen Emails sind.\n",
    "\n",
    "Eine mögliche Implementierung des Klassifizieres kann wie folgt umgesetzt werden. Dabei wurde der Datensatz \"spam_ham_dataset\" verwendet, welcher eine große Anzahl an englischen Emails und Spamemails beinhaltet. Von den ingesamt 5170 Email sind 1500 mit Spam klassifiziert.\n"
   ]
  },
  {
   "cell_type": "code",
   "execution_count": 1,
   "id": "9856018a",
   "metadata": {},
   "outputs": [],
   "source": [
    "import sys\n",
    "from sklearn.feature_extraction.text import CountVectorizer\n",
    "from sklearn.feature_extraction.text import TfidfTransformer\n",
    "from sklearn.naive_bayes import MultinomialNB\n",
    "from sklearn.model_selection import train_test_split\n",
    "\n",
    "from sklearn.metrics import classification_report\n",
    "from sklearn.metrics import confusion_matrix\n",
    "from sklearn.metrics import accuracy_score\n",
    "\n",
    "from CSV_Converter import csvReader\n",
    "from NB_Classifier import NB_Class"
   ]
  },
  {
   "cell_type": "code",
   "execution_count": 10,
   "id": "f87c7237",
   "metadata": {},
   "outputs": [
    {
     "name": "stdout",
     "output_type": "stream",
     "text": [
      "Klassifikation Ergebnis:\n",
      "               precision    recall  f1-score   support\n",
      "\n",
      "           0       1.00      0.86      0.92       418\n",
      "           1       0.62      1.00      0.77       100\n",
      "\n",
      "    accuracy                           0.88       518\n",
      "   macro avg       0.81      0.93      0.85       518\n",
      "weighted avg       0.93      0.88      0.89       518\n",
      "\n",
      "Confusion matrix:\n",
      " [[358  60]\n",
      " [  0 100]]\n",
      "Genauigkeit: 88.41698841698842 %\n"
     ]
    }
   ],
   "source": [
    "inputData = \"spam_ham_dataset.csv\"\n",
    "\n",
    "count_vector = CountVectorizer()      \n",
    "tfidf_transformer = TfidfTransformer()\n",
    "\n",
    "#Einlesen des Datensatzes\n",
    "reader = csvReader(inputData)\n",
    "X, y = reader.readCSV()\n",
    "\n",
    "#Verarbeitung der Texte\n",
    "X_train_counts = count_vector.fit_transform(X)\n",
    "X_train_tfidf = tfidf_transformer.fit_transform(X_train_counts)\n",
    "\n",
    "#Aufsplitten des Datensatzes in Test und Training\n",
    "x_train, x_test , y_train, y_test = train_test_split(X_train_tfidf,y, test_size = 0.1, shuffle = True)\n",
    "\n",
    "#Bestimmung des Klassifizieres\n",
    "clf = MultinomialNB().fit(x_train, y_train)\n",
    "\n",
    "#Vorhersage\n",
    "predicted = clf.predict(x_test)\n",
    "\n",
    "print(\"Klassifikation Ergebnis:\\n\",classification_report(predicted, y_test))\n",
    "print(\"Confusion matrix:\\n\",confusion_matrix(predicted, y_test))\n",
    "print(\"Genauigkeit:\",accuracy_score(predicted, y_test)*100,\"%\")\n"
   ]
  },
  {
   "cell_type": "markdown",
   "id": "12900c76",
   "metadata": {},
   "source": [
    "Die Ergebnisse zeigen, dass mit einem Naive Bayes einfach ein Spamfilter für den Emailverkehr generiert werden kann. Die Genauigkeit, welche damit ereicht werden konnte ist für einen solchen Fall durchaus verwendbar. Jedoch sollte jeder seinen Spamordner immer wieder kontrollieren, ob der Filter sich nicht doch geirrt haben könnte. "
   ]
  }
 ],
 "metadata": {
  "kernelspec": {
   "display_name": "Python 3 (ipykernel)",
   "language": "python",
   "name": "python3"
  },
  "language_info": {
   "codemirror_mode": {
    "name": "ipython",
    "version": 3
   },
   "file_extension": ".py",
   "mimetype": "text/x-python",
   "name": "python",
   "nbconvert_exporter": "python",
   "pygments_lexer": "ipython3",
   "version": "3.8.10"
  }
 },
 "nbformat": 4,
 "nbformat_minor": 5
}

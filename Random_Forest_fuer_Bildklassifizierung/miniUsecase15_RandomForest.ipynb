{
 "cells": [
  {
   "cell_type": "markdown",
   "metadata": {},
   "source": [
    "# Implementierung eines Random Forest zur Klassifizierung zweier Schuharten \n",
    "Das Notebook beschreibt die Implementierung einer logistischen Regression für das klassifizieren von Bildern. Genauer gesagt, wollen wir Bilder zwischen Stiefeletten und Sneakers unterscheiden.\n",
    "\n",
    "## Aufbau:\n",
    "Der Aufbau des Notebooks ist in drei grobe Teile geteilt. Zuerst wird der Datensatz eingelesen und vorbereitet. Anschlißend wird das Modell definiert und trainiert. Abschließend wird der trainierte Random Forest dazu eingesetzt neue Bilder zu klassifizieren.\n",
    "\n",
    "### Abschnitt 1: Datensatz vorbereiten\n",
    "Im ersten Teil des Notebooks wird der Datensatz vorbereitet. Hierzu wird ein [Dictonary](https://kapernikov.com/tutorial-image-classification-with-scikit-learn/) angelegt. Anschließend kann mit dem Dictonary eine reshape Funktion aufgerufen werden um die Bildmatrizen in einen Vektor umzuwandeln wie auch schon in der Theorie im Use-Case [Klassifizieren mittels logistischer Regression](https://github.com/TW-Robotics/AIAV/tree/devel_abdank/Logistische_Regression_fuer_Bildklassifizierung) besprochen wurde.  \n",
    "### Abschnitt 2: Erstellen des Modells\n",
    "In diesem Abschnitt wird das Modell mittels der [sklearn-Bibliothek](https://scikit-learn.org/stable/modules/generated/sklearn.ensemble.RandomForestClassifier.html) definiert. Dies ist auch der Abschnitt bei dem Parameter getuned werden können. Abschließend wird das Modell trainiert und getestet.\n",
    "### Abschnitt 3: Modell Testen\n",
    "Im letzten Abschnitt wird das trainierte Modell eingesetzt. Der Random Forest predicted (klassifiziert) für jedes neue Bild im demo-Ordner ob auf dem Bild ein Sneaker oder eine Stiefelette abgebildet ist. \n",
    "\n",
    "\n",
    "## Ordnerstruktur: \n",
    "Anbei ist noch die Ordnerstruktur aufgelistet. Der Demo Ordner beinhaltet die \"neuen\" Bilder, welche dem Modell gezeigt werden nachdem es fertig trainiert ist um das Model \"in action\" sehen zu können. Der data Ordner hingegen gibt die Klassen und den Datensatz vor. Es befinden sich darin 2 Ordner mit der jeweiligen Beschriftung der Klassen (\"Sneaker\" = Klasse 1 und \"Stiefeletten\" = Klasse 2). In den Ordnern sind rund 12000 Bilder aus dem [MNIST Fashion Datensatz](https://github.com/zalandoresearch/fashion-mnist) welche Bilder von Stiefeletten und Sneakers abbilden. Wenn eigene Daten verwendet werden wollen, können einfach Bilder und Ordnernamen geändert werden. \n",
    "\n",
    "Die Datei Fashion-MNIST_{width}x{height}px.pkl ist eine Datei die im Laufe des Notebooks generiert wird und den Datensatz als [Dictonary](https://kapernikov.com/tutorial-image-classification-with-scikit-learn/) abspeichert. Die Datei *.ipynb ist das Storyboard selbst. Die dritte Datei in für den Use-Case ist die requirements Datei. Diese kann eingesetzt werden um die benötigten Bibliotheken und Systemvorraussetzungen zu installieren. Eine (externe) Tutorial dazu findet man [hier](https://note.nkmk.me/en/python-pip-install-requirements/). \n",
    "\n",
    "1. `demo`\n",
    "    - _demo images_\n",
    "    \n",
    "2. `data`\n",
    "    - Ordner 'Stiefeletten'\n",
    "    - Ordner 'Sneaker'\n",
    "3. `eigenfaces`\n",
    "    - _eigenfaces Bilder_ \n",
    "\n",
    "4. `miniUsecases15_RandomForest.ipynb`\n",
    "5. `Fashion-MNIST_{width}x{height}px.pkl`\n",
    "6. `requirements.txt`\n",
    "7. `demo.gif`\n",
    "\n",
    "\n",
    "\n",
    "## Resultat:\n",
    "Das unten angeführte GIF zeigt ein Beispielverhalten des Use-Cases. Die neuen Bilder werden aus dem demo Ordner eingelesen und mit dem trainierten Modell klassifiziert.\n",
    "![alt text](demo.gif)\n",
    "\n"
   ]
  },
  {
   "cell_type": "markdown",
   "metadata": {},
   "source": [
    "## Abschnitt 1: Importieren der generellen notwendigen Bibliotheken\n",
    "Wir empfehlen die notwendigen Bibliotheken über die [requirements.txt](requirements.txt) Datei zu installieren. Das ermöglicht es, dass automatisch die richtigen Versionen installiert werden. Sollte eine Library nicht vorhanden sein, dann kann die häufig auch mit `pip3 <package-name\\>` nachinstalliert werden. Sind alle libraries vorhanden, entsteht kein Output bei der nächsten Zelle. Im laufe des Notebooks werden weitere Bibliotheken benötigt. Diese werden erst in späteren Zellen aufgerufen um jeweils bei den entsprechenden Codesnipped zu garantieren, dass sie im Workspace geladen sind."
   ]
  },
  {
   "cell_type": "code",
   "execution_count": 10,
   "metadata": {},
   "outputs": [],
   "source": [
    "# data von miniUsecase11 logistic regression \n",
    "import os\n",
    "import matplotlib as mpl\n",
    "import matplotlib.pyplot as plt\n",
    "from IPython.display import display\n",
    "%matplotlib inline\n",
    "import pandas as pd\n",
    "import numpy as np\n",
    "import cv2\n",
    "from PIL import Image\n",
    "from skimage.feature import hog\n",
    "from skimage.color import rgb2grey\n",
    "from sklearn.model_selection import train_test_split\n",
    "from sklearn.metrics import accuracy_score\n",
    "from sklearn.preprocessing import StandardScaler\n",
    "from sklearn.decomposition import PCA\n",
    "from sklearn.metrics import roc_curve, auc\n",
    "import warnings\n",
    "from scipy.sparse import (spdiags, SparseEfficiencyWarning, csc_matrix,\n",
    "    csr_matrix, isspmatrix, dok_matrix, lil_matrix, bsr_matrix)\n",
    "warnings.simplefilter('ignore',SparseEfficiencyWarning) \n",
    "warnings.simplefilter('ignore',UserWarning)"
   ]
  },
  {
   "cell_type": "markdown",
   "metadata": {},
   "source": [
    "## Verschiedene Einstellungen um das Programm anzupassen\n",
    "\n",
    "data_path: Muss zum Datensatz für das Trainieren des Modells geändert werden. z.B.: \"/home/user/workspace/src/miniUsecase_15_Random_Forest/Tool_Data\"\n",
    "\n",
    "os.listdir(data_path): Zeigt die Ordner an, welche die Bilder für das Trainieren enthalten sollen. \n",
    "\n",
    "SIZE: definiert die größe des Bildes. Hier kann eingestellt werden wie sehr das Bild \"verkleinert\" werden soll. Ein guter Startpunkt ist meist _<original_image_size/rescaling\\>_ wobei rescaling einfach als Skalar gewählt werden kann"
   ]
  },
  {
   "cell_type": "code",
   "execution_count": 11,
   "metadata": {},
   "outputs": [],
   "source": [
    "# Hier kann der Pfad zum Datensatz und die Bildgröße geändert werden\n",
    "\n",
    "data_path = os.getcwd() + \"/data\"\n",
    "os.listdir(data_path) \n",
    "SIZE = 28"
   ]
  },
  {
   "cell_type": "markdown",
   "metadata": {},
   "source": [
    "## Zusatzfunktion für das preperieren der Daten \n",
    "Diese funktion lädt alle Bilder in den Workspace (aus dem definierten Pfad) und macht foglende 2 Aktionen:\n",
    "- Resize: Skaliert die Bilder entsprechend der Vorgabe\n",
    "- Dictionary: Erstellt ein Dictionary mit Labels und Metadata (Datensatz für das Trainieren). Der output wird als _pickle file_ im Workspace abgespeichert.\n",
    "\n",
    "Parameter: \n",
    "- src: gibt den Pfad zu den Daten an\n",
    "- pklname: erstellt den Namen für die Pickle Datei\n",
    "- include: Includiert als String List die beiden Klassen (Stiefeletten und Sneakers)\n",
    "- width: gibt die größe der Bilder/Resize an\n",
    "\n",
    "[Tutorial zum Implementieren von Dictionaries](https://kapernikov.com/tutorial-image-classification-with-scikit-learn/)"
   ]
  },
  {
   "cell_type": "code",
   "execution_count": 12,
   "metadata": {},
   "outputs": [],
   "source": [
    "# Libraries \n",
    "import joblib\n",
    "from skimage.io import imread\n",
    "from skimage.transform import resize\n",
    "\n",
    "\n",
    "# Funktionsdefinition \n",
    "def resize_all(src, pklname, include, width = 150, height=None):\n",
    "    height = height if height is not None else width #ERRORHANDLING\n",
    "    \n",
    "# definiert den Datansatz als Dictionary \n",
    "    data = dict()\n",
    "    data['description'] = 'resized ({0}x{1}) images in rgb'.format(int(width), int(height))\n",
    "    data['label'] = []\n",
    "    data['filename'] = []\n",
    "    data['data'] = []   \n",
    "\n",
    "    pklname = f\"{pklname}_{width}x{height}px.pkl\"\n",
    "\n",
    "    for subdir in os.listdir(src):\n",
    "        if subdir in include:\n",
    "            print(subdir)\n",
    "            current_path = os.path.join(src, subdir)\n",
    " \n",
    " # itteriert über alle Bilder im Datensatz \n",
    "            for file in os.listdir(current_path):\n",
    "                if file[-3:] in {'jpg', 'png'}:\n",
    "                    im = imread(os.path.join(current_path, file))\n",
    "                    im = resize(im, (width, height)) #[:,:,::-1]\n",
    "                    data['label'].append(subdir)\n",
    "                    data['filename'].append(file)\n",
    "                    data['data'].append(im)\n",
    " \n",
    "# erstellt die Pickle file\n",
    "        joblib.dump(data, pklname)"
   ]
  },
  {
   "cell_type": "markdown",
   "metadata": {},
   "source": [
    "## Formatieren des Datensatzes\n",
    "Hier wird die Hilfsfunktion aufgerufen, die für das erstellen des Datensatzes notwendig ist. Ebenso werden hier die Parameter übergeben. Zu beachten ist, dass hier nur _.jpg_ und _.png_ Bilder verarbeitet werden können. "
   ]
  },
  {
   "cell_type": "code",
   "execution_count": 13,
   "metadata": {},
   "outputs": [
    {
     "name": "stdout",
     "output_type": "stream",
     "text": [
      "Sneaker\n",
      "Stiefeletten\n"
     ]
    }
   ],
   "source": [
    "base_name = 'Fashion-MNIST'   # Name für die Beschreibung des Datensatzes\n",
    "width = SIZE                        # Definierte Bildgröße übergeben (Zelle 2)\n",
    "include = {'Stiefeletten', 'Sneaker'}   # Ordner angeben\n",
    " \n",
    "#FUNCTION CALL\n",
    "resize_all(src=data_path, pklname=base_name, width=width, include=include) # Funktionsaufruf für das erstellen der pkl-Datei "
   ]
  },
  {
   "cell_type": "markdown",
   "metadata": {},
   "source": [
    "## Informationen vom Datensatz\n",
    "anbei werden bei korrektem erstellen des Dictionarys die Informationen dazu angezeigt. Diese werden über die Pickle Datei ausgelesen"
   ]
  },
  {
   "cell_type": "code",
   "execution_count": 14,
   "metadata": {},
   "outputs": [
    {
     "name": "stdout",
     "output_type": "stream",
     "text": [
      "Anzahl der gefundenen Daten:  12000\n",
      "keys:  ['description', 'label', 'filename', 'data']\n",
      "Beschreibung:  resized (28x28) images in rgb\n",
      "Bild Form  (28, 28)\n",
      "Labels: ['Sneaker' 'Stiefeletten']\n"
     ]
    },
    {
     "data": {
      "text/plain": [
       "Counter({'Sneaker': 6000, 'Stiefeletten': 6000})"
      ]
     },
     "execution_count": 14,
     "metadata": {},
     "output_type": "execute_result"
    }
   ],
   "source": [
    "from collections import Counter\n",
    " \n",
    "data = joblib.load(f'{base_name}_{width}x{width}px.pkl')    # Laden der Datei\n",
    "print('Anzahl der gefundenen Daten: ', len(data['data']))   \n",
    "print('keys: ', list(data.keys()))                          # Zeigt die einzelnen Komponenten  \n",
    "print('Beschreibung: ', data['description'])                \n",
    "print('Bild Form ', data['data'][0].shape)                  # Format anzeigen. Nützlich für das Reshapen nachher\n",
    "print('Labels:', np.unique(data['label']))                  # Labels für die Klassifizierung\n",
    "Counter(data['label'])                                      # Aufteilung anzeigen"
   ]
  },
  {
   "cell_type": "markdown",
   "metadata": {},
   "source": [
    "## Datensatz Beispiel der beiden Klassen\n",
    "Folgende Zelle lädt jeweils ein Bild/Klasse. Sollten hier nicht erwartete Bilder erscheinen muss der Datensatz überprüft werden."
   ]
  },
  {
   "cell_type": "code",
   "execution_count": 15,
   "metadata": {},
   "outputs": [
    {
     "data": {
      "image/png": "[encoded data removed]",
      "text/plain": [
       "<Figure size 1080x288 with 2 Axes>"
      ]
     },
     "metadata": {
      "needs_background": "light"
     },
     "output_type": "display_data"
    }
   ],
   "source": [
    "labels = np.unique(data['label'])           # Labels auslesen\n",
    "\n",
    "\n",
    "# Matplot handling um Achsen zu erstellen\n",
    "fig, axes = plt.subplots(1, len(labels))    # Plot definieren\n",
    "fig.set_size_inches(15,4)                   # Größe\n",
    "fig.tight_layout() \n",
    "\n",
    "# Generiert einen Plot mit einem Bild aus jeder Klasse\n",
    "for ax, label in zip(axes, labels):\n",
    "    idx = data['label'].index(label)\n",
    "    ax.imshow(data['data'][idx])\n",
    "    ax.axis('off')\n",
    "    ax.set_title(label)"
   ]
  },
  {
   "cell_type": "markdown",
   "metadata": {},
   "source": [
    "## Datensatz umformen\n",
    "Die derzeitige Form eines eingelesenen Bildes ist <index, breite, höhe, schichten> mit index für die Anzahl der Elemente, Breite/Höhe gibt die Bildgröße in Pixel an und Schichten beschreibt die Art des Bildes (3 = RGB)\n",
    "\n",
    "Um eine Klassifikation durchzuführen benötigt das System einen Vektor mit maximal 2 Dimensionen. Wir wollen einen Vektor mit <index, pixel_vektor>, wobei index gleich bleibt um mit den Labels (y-Vektor) übereinzustimmen. Der pixel_vektor (\"Daten\" entsprechend zum Index im X-Vektor) wird aus den restlichen Ebenen gebildet, um einen 1*n Vektor zu erhalten.  \n",
    "\n"
   ]
  },
  {
   "cell_type": "code",
   "execution_count": 16,
   "metadata": {},
   "outputs": [
    {
     "name": "stdout",
     "output_type": "stream",
     "text": [
      "Original Form: (12000, 28, 28)\n",
      "Umgeformter Datensatz der Form: (12000, 784)\n",
      "Der Index muss mit der Labels größe Übereinstimmen. \n",
      "Labels größe: (12000,)\n"
     ]
    }
   ],
   "source": [
    "X = np.array(data['data'])                                      # Einlesen der Bilder\n",
    "print(\"Original Form: {}\".format(X.shape))                      \n",
    "x = X.reshape(X.shape[0], X.shape[1]* X.shape[2])   # Umformen auf die beschriebene Größe\n",
    "print(\"Umgeformter Datensatz der Form: {}\".format(x.shape))\n",
    "\n",
    "y = np.array(data['label'])                                     # Einlesen der Labels\n",
    "print(\"Der Index muss mit der Labels größe Übereinstimmen. \\nLabels größe: {}\".format(y.shape)) #Abgleichen ob die Form übereinstimmt "
   ]
  },
  {
   "cell_type": "markdown",
   "metadata": {},
   "source": [
    "# Abschnitt 2: Erstellen des Modells"
   ]
  },
  {
   "cell_type": "markdown",
   "metadata": {},
   "source": [
    "## Random Forest - Model\n",
    "(1) Datensatz in Trainings/Test Daten aufteilen <br>\n",
    "(2) principal component analysis (PCA) definieren <br>\n",
    "(3) Modell definieren <br>\n",
    "(4) Genauigkeit auswerten <br>\n",
    "\n",
    "\n",
    "Zum Einsatz kommt hier die sklearn Bibliothek welche ermöglicht ein bereits existierendes Model einzubinden und nur die Parameter zu definieren. Dadurch sind features wie Skalieren, PCA oder das Trainieren leicht umgesetzt. \n",
    "\n",
    "Weitere Dokumentation: </br>\n",
    "[Guide zur Implementierung eines ML-Models](https://rpubs.com/Sharon_1684/454441)<br>\n",
    "[Random Forest Parameter und Dokumentation](https://scikit-learn.org/stable/modules/generated/sklearn.ensemble.RandomForestClassifier.html)"
   ]
  },
  {
   "cell_type": "markdown",
   "metadata": {},
   "source": [
    "### Aufteilen und Transformieren (PCA)\n",
    "#### (1) Datensatz Teilen\n",
    "Im ersten Abschnitt der folgenden Zelle wird der Datensatz in Trainings und Test Daten aufgeteilt. Das ermöglicht das trainieren und das anschließende testen des Models \n",
    "\n",
    "#### (2) Principal Component Analysis (PCA)\n",
    "Im zweiten Teil wird eine PCA auf den Datensatz angewandt. Dies ermöglicht, dass nicht alle Pixel als Trainingsdaten herangezogen werden sonder nur herausstechende Features. \n"
   ]
  },
  {
   "cell_type": "code",
   "execution_count": 17,
   "metadata": {},
   "outputs": [
    {
     "name": "stdout",
     "output_type": "stream",
     "text": [
      "151\n"
     ]
    },
    {
     "data": {
      "text/plain": [
       "Sneaker         4203\n",
       "Stiefeletten    4197\n",
       "dtype: int64"
      ]
     },
     "execution_count": 17,
     "metadata": {},
     "output_type": "execute_result"
    }
   ],
   "source": [
    "# Aufteilen des Datensatzes (1)\n",
    "X_train, X_test, y_train, y_test = train_test_split(x,\n",
    "                                                    y,\n",
    "                                                    test_size=.3,\n",
    "                                                    random_state=1234123)\n",
    "\n",
    "\n",
    "# (2) Skalieren\n",
    "scaler = StandardScaler()\n",
    "x_train = scaler.fit_transform(X_train)\n",
    "x_test = scaler.transform(X_test)\n",
    "\n",
    "\n",
    "\n",
    "#  PCA (2)\n",
    "pca = PCA(.95)                                  # verwendet 95% der Komponenten und erstellen der \"PCA-Instanz\"\n",
    "pca.fit(X_train)                                # PCA aufgrund von Datensatz auslegen\n",
    "pca.n_components_                               \n",
    "print(pca.n_components_)\n",
    "X_train = pca.transform(X_train)                # PCA auf Datensatz anwenden\n",
    "X_test = pca.transform(X_test)                  # PCA auf Test Daten anwenden\n",
    "pd.Series(y_train).value_counts()               # Evaluieren der Verteilung der Daten"
   ]
  },
  {
   "cell_type": "code",
   "execution_count": 18,
   "metadata": {},
   "outputs": [],
   "source": [
    "# TOP 10 eigenfaces \n",
    "\n",
    "nbr_eigenfaces = 10\n",
    "eigenfaces = pca.components_[:nbr_eigenfaces]\n",
    "eigenfaces = eigenfaces.reshape((nbr_eigenfaces, int(SIZE), int(SIZE)))\n",
    "\n",
    "for i in range(nbr_eigenfaces):\n",
    "\n",
    "    min_ = np.amin(eigenfaces[i])\n",
    "    max_ = np.amax(eigenfaces[i])\n",
    "    tmp = ((eigenfaces[i] - min_) / (max_-min_)) * 255\n",
    "    filename = \"eigenfaces/eigenface\" + str(i) + \".png\"  \n",
    "    cv2.imwrite(filename, tmp)"
   ]
  },
  {
   "cell_type": "markdown",
   "metadata": {},
   "source": [
    "#### (3) Modell definieren\n",
    "In der folgenden Zelle wird der Random Forest Classifier definiert. Hierzu wird die RandomForestClassifier Library von der sklearn-Bibliothek eingefügt. \n",
    "\n",
    "##### Parameter:\n",
    "max_depth: Die maximale Tiefe des Baums. \n",
    "\n",
    "random_state: Steuert sowohl die Zufälligkeit des Bootstrappings der Stichproben, die beim Erstellen von Bäumen verwendet werden (wenn bootstrap=True), als auch die Stichprobe der Merkmale, die bei der Suche nach der besten Aufteilung an jedem Knoten berücksichtigt werden (wenn max_features < n_features). Standardmäßig ist 0/None Eingestellt. \n",
    "\n",
    "\n",
    "n_estimators: \"The number of trees in the forest.\" Standardmäßig sind 100 Eingestellt\n",
    "\n",
    "Weitere Parameter: \n",
    "- criterion\n",
    "- min_samples_splitint\n",
    "- min_samples_leafint\n",
    "- min_weight_fraction_leaffloat\n",
    "- max_features\n",
    "- max_leaf_nodesint\n",
    "- n_jobsint\n",
    "\n",
    "\n",
    "Mehr Infos zu weiteren [Parametern](https://scikit-learn.org/stable/modules/generated/sklearn.ensemble.RandomForestClassifier.html)"
   ]
  },
  {
   "cell_type": "code",
   "execution_count": 19,
   "metadata": {},
   "outputs": [
    {
     "data": {
      "text/plain": [
       "RandomForestClassifier(max_depth=5, n_estimators=10, random_state=0)"
      ]
     },
     "execution_count": 19,
     "metadata": {},
     "output_type": "execute_result"
    }
   ],
   "source": [
    "from sklearn.ensemble import RandomForestClassifier                          # Library\n",
    "\n",
    "rfc = RandomForestClassifier(max_depth=5, random_state=0, n_estimators = 10) # (3) Random Forest Modell definieren\n",
    "\n",
    "rfc.fit(X_train, y_train)                                                    # Modell Trainieren"
   ]
  },
  {
   "cell_type": "markdown",
   "metadata": {},
   "source": [
    "### (4) Genauigkeit auswerten"
   ]
  },
  {
   "cell_type": "code",
   "execution_count": 20,
   "metadata": {},
   "outputs": [
    {
     "name": "stdout",
     "output_type": "stream",
     "text": [
      "Model accuracy:  0.9072222222222223\n"
     ]
    }
   ],
   "source": [
    "y_pred = rfc.predict(X_test)                     # Prediction für den Test Datensatz\n",
    "accuracy = accuracy_score(y_test, y_pred)        # Auswertung\n",
    "print('Model accuracy: ', accuracy)              # Ausgabe der Genauigkeit"
   ]
  },
  {
   "cell_type": "markdown",
   "metadata": {},
   "source": [
    "# Abschnitt 3: Anwenden des Models\n",
    "In der folgenden Zelle werden die Testbilder eingelesen eine Prediction durchgeführt. \n"
   ]
  },
  {
   "cell_type": "code",
   "execution_count": 21,
   "metadata": {},
   "outputs": [
    {
     "name": "stdout",
     "output_type": "stream",
     "text": [
      "***************\n",
      "Example Image: 1\n",
      "Predicted: Sneaker\n",
      "Accuracy: 54.51%\n"
     ]
    }
   ],
   "source": [
    "#libraries\n",
    "from skimage.transform import resize\n",
    "from sklearn.decomposition import PCA\n",
    "import cv2\n",
    "import os\n",
    "from IPython.display import clear_output\n",
    "\n",
    "\n",
    "cv2.namedWindow('Prediction | press q to exit', 0)\n",
    "i = 0\n",
    "for filename in os.listdir(\"demo\"):\n",
    "    img = cv2.imread(os.path.join(\"demo/\",filename), 0)\n",
    "    height = width\n",
    "    img = resize(img, (width, height))\n",
    "    if img is None:\n",
    "        print(os.path.join(\"demo/\",filename))\n",
    "        break\n",
    "    else: \n",
    "        # Bild aus einer Matrix in einen Vektor umformen \n",
    "        image = img.reshape(1 ,-1)\n",
    "\n",
    "        # Bild an das Modell anpassen (Skalieren und PCA anwenden)\n",
    "        image = scaler.transform(image)\n",
    "        image = pca.transform(image)\n",
    "\n",
    "        #Predict \n",
    "        y_new_prob  = rfc.predict_proba(image)\n",
    "        y_new  = rfc.predict(image)\n",
    "\n",
    "        # Wahrscheinlichkeit des Bildes (bei einer Klassifizierung) in Prozent umrechnen\n",
    "        prob = y_new_prob[0]*100\n",
    "\n",
    "\n",
    "        clear_output(wait=True)\n",
    "        print(\"***************\")\n",
    "        i = i+1\n",
    "        print(\"Example Image: {}\".format(i))\n",
    "        #Auswertung für die \"live\" Darstellung\n",
    "        print(\"Predicted: {}\".format(y_new[0]))\n",
    "        if(prob[0]>prob[1]):\n",
    "            print(\"Accuracy: {:.2f}%\".format(prob[0]))\n",
    "        else:\n",
    "            print(\"Accuracy: {:.2f}%\".format(prob[1]))\n",
    "\n",
    "\n",
    "\n",
    "\n",
    "        #Ausgabe \n",
    "        cv2.imshow('Prediction | press q to exit', img)\n",
    "        #User Input für das beenden des Darstellen  \n",
    "        if cv2.waitKey(0) & 0xFF == ord('q'):    \n",
    "            break\n",
    "\n",
    "\n",
    "cv2.destroyAllWindows()"
   ]
  }
 ],
 "metadata": {
  "interpreter": {
   "hash": "916dbcbb3f70747c44a77c7bcd40155683ae19c65e1c03b4aa3499c5328201f1"
  },
  "kernelspec": {
   "display_name": "Python 3 (ipykernel)",
   "language": "python",
   "name": "python3"
  },
  "language_info": {
   "codemirror_mode": {
    "name": "ipython",
    "version": 3
   },
   "file_extension": ".py",
   "mimetype": "text/x-python",
   "name": "python",
   "nbconvert_exporter": "python",
   "pygments_lexer": "ipython3",
   "version": "3.8.10"
  }
 },
 "nbformat": 4,
 "nbformat_minor": 2
}

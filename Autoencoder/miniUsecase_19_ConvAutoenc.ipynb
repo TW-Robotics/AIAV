{
 "cells": [
  {
   "cell_type": "markdown",
   "metadata": {},
   "source": [
    "# Autoencoder"
   ]
  },
  {
   "cell_type": "code",
   "execution_count": 14,
   "metadata": {},
   "outputs": [],
   "source": [
    "import numpy \n",
    "import matplotlib.pyplot as plt\n",
    "from tensorflow import keras \n",
    "import numpy as np\n",
    "import tensorflow as tf\n",
    "from tensorflow.keras.models import Model\n",
    "from tensorflow.keras import layers, losses"
   ]
  },
  {
   "cell_type": "markdown",
   "metadata": {},
   "source": [
    "## Daten Einlesen"
   ]
  },
  {
   "cell_type": "code",
   "execution_count": 15,
   "metadata": {},
   "outputs": [],
   "source": [
    "# Insgesamt 10000\n",
    "X_test_AE = numpy.loadtxt(open(\"mnist_test.csv\", \"rb\"), delimiter=\",\", usecols=range(1,785), max_rows=5000)\n",
    "Y_test_AE = numpy.loadtxt(open(\"mnist_test.csv\", \"rb\"), delimiter=\",\", usecols=range(0,1), max_rows=5000)\n",
    "X_test_SVM = numpy.loadtxt(open(\"mnist_test.csv\", \"rb\"), delimiter=\",\", usecols=range(1,785), skiprows=5000)\n",
    "Y_test_SVM = numpy.loadtxt(open(\"mnist_test.csv\", \"rb\"), delimiter=\",\", usecols=range(0,1), skiprows=5000)\n",
    "X_test_AE = X_test_AE.reshape(-1, 28, 28)\n",
    "X_test_SVM = X_test_SVM.reshape(-1, 28, 28)\n",
    "\n",
    "# Insgesamt 60000\n",
    "X_train_AE = numpy.loadtxt(open(\"mnist_train.csv\", \"rb\"), delimiter=\",\", usecols=range(1,785), max_rows=30000)\n",
    "Y_train_AE = numpy.loadtxt(open(\"mnist_train.csv\", \"rb\"), delimiter=\",\", usecols=range(0,1),max_rows=30000)\n",
    "X_train_SVM = numpy.loadtxt(open(\"mnist_train.csv\", \"rb\"), delimiter=\",\", usecols=range(1,785), skiprows=30000)\n",
    "Y_train_SVM = numpy.loadtxt(open(\"mnist_train.csv\", \"rb\"), delimiter=\",\", usecols=range(0,1), skiprows=30000)\n",
    "X_train_AE = X_train_AE.reshape(-1, 28, 28)\n",
    "X_train_SVM = X_train_SVM.reshape(-1, 28, 28)"
   ]
  },
  {
   "cell_type": "code",
   "execution_count": 16,
   "metadata": {},
   "outputs": [],
   "source": [
    "# anpassen für Tensorflow\n",
    "# AE\n",
    "X_train_AE = X_train_AE.astype('float32') / 255.\n",
    "X_test_AE=  X_test_AE.astype('float32') / 255.\n",
    "\n",
    "# SVM\n",
    "X_train_SVM = X_train_SVM.astype('float32') / 255.\n",
    "X_test_SVM =  X_test_SVM.astype('float32') / 255.\n"
   ]
  },
  {
   "cell_type": "markdown",
   "metadata": {},
   "source": [
    "## Autoencoder"
   ]
  },
  {
   "cell_type": "code",
   "execution_count": 17,
   "metadata": {},
   "outputs": [],
   "source": [
    "latent_dim = 49 #64 \n",
    "\n",
    "class Autoencoder(Model):\n",
    "  def __init__(self, latent_dim):\n",
    "    super(Autoencoder, self).__init__()\n",
    "    self.latent_dim = latent_dim   \n",
    "    self.encoder = tf.keras.Sequential([\n",
    "      layers.Flatten(),\n",
    "      layers.Dense(latent_dim, activation='relu'),\n",
    "    ])\n",
    "    self.decoder = tf.keras.Sequential([\n",
    "      layers.Dense(784, activation='sigmoid'),\n",
    "      layers.Reshape((28, 28))\n",
    "    ])\n",
    "\n",
    "  def call(self, x):\n",
    "    encoded = self.encoder(x)\n",
    "    decoded = self.decoder(encoded)\n",
    "    return decoded\n",
    "\n",
    "autoencoder = Autoencoder(latent_dim)\n"
   ]
  },
  {
   "cell_type": "code",
   "execution_count": 18,
   "metadata": {},
   "outputs": [],
   "source": [
    "autoencoder.compile(optimizer='adam', loss=losses.MeanSquaredError())"
   ]
  },
  {
   "cell_type": "code",
   "execution_count": 19,
   "metadata": {},
   "outputs": [
    {
     "name": "stdout",
     "output_type": "stream",
     "text": [
      "Epoch 1/10\n",
      "938/938 [==============================] - 1s 1ms/step - loss: 0.0380 - val_loss: 0.0206\n",
      "Epoch 2/10\n",
      "938/938 [==============================] - 1s 1ms/step - loss: 0.0155 - val_loss: 0.0122\n",
      "Epoch 3/10\n",
      "938/938 [==============================] - 1s 1ms/step - loss: 0.0099 - val_loss: 0.0088\n",
      "Epoch 4/10\n",
      "938/938 [==============================] - 1s 1ms/step - loss: 0.0077 - val_loss: 0.0074\n",
      "Epoch 5/10\n",
      "938/938 [==============================] - 1s 2ms/step - loss: 0.0068 - val_loss: 0.0068\n",
      "Epoch 6/10\n",
      "938/938 [==============================] - 1s 2ms/step - loss: 0.0064 - val_loss: 0.0066\n",
      "Epoch 7/10\n",
      "938/938 [==============================] - 1s 1ms/step - loss: 0.0062 - val_loss: 0.0064\n",
      "Epoch 8/10\n",
      "938/938 [==============================] - 1s 1ms/step - loss: 0.0061 - val_loss: 0.0063\n",
      "Epoch 9/10\n",
      "938/938 [==============================] - 2s 2ms/step - loss: 0.0060 - val_loss: 0.0063\n",
      "Epoch 10/10\n",
      "938/938 [==============================] - 1s 1ms/step - loss: 0.0059 - val_loss: 0.0062\n"
     ]
    },
    {
     "data": {
      "text/plain": [
       "<tensorflow.python.keras.callbacks.History at 0x7fc11572e1f0>"
      ]
     },
     "execution_count": 19,
     "metadata": {},
     "output_type": "execute_result"
    }
   ],
   "source": [
    "autoencoder.fit(X_train_AE, X_train_AE,\n",
    "                epochs=10,\n",
    "                shuffle=True,\n",
    "                validation_data=(X_test_AE, X_test_AE))\n"
   ]
  },
  {
   "cell_type": "code",
   "execution_count": 20,
   "metadata": {},
   "outputs": [
    {
     "name": "stdout",
     "output_type": "stream",
     "text": [
      "Model: \"autoencoder_1\"\n",
      "_________________________________________________________________\n",
      "Layer (type)                 Output Shape              Param #   \n",
      "=================================================================\n",
      "sequential_2 (Sequential)    multiple                  38465     \n",
      "_________________________________________________________________\n",
      "sequential_3 (Sequential)    multiple                  39200     \n",
      "=================================================================\n",
      "Total params: 77,665\n",
      "Trainable params: 77,665\n",
      "Non-trainable params: 0\n",
      "_________________________________________________________________\n"
     ]
    }
   ],
   "source": [
    "autoencoder.summary()"
   ]
  },
  {
   "cell_type": "code",
   "execution_count": 21,
   "metadata": {},
   "outputs": [],
   "source": [
    "encoded_imgs = autoencoder.encoder(X_test_AE).numpy()\n",
    "decoded_imgs = autoencoder.decoder(encoded_imgs).numpy()\n"
   ]
  },
  {
   "cell_type": "code",
   "execution_count": 22,
   "metadata": {},
   "outputs": [
    {
     "data": {
      "image/png": "[encoded data removed]",
      "text/plain": [
       "<Figure size 1440x288 with 20 Axes>"
      ]
     },
     "metadata": {
      "needs_background": "light"
     },
     "output_type": "display_data"
    }
   ],
   "source": [
    "n = 10\n",
    "plt.figure(figsize=(20, 4))\n",
    "for i in range(n):\n",
    "  # display original\n",
    "  ax = plt.subplot(2, n, i + 1)\n",
    "  plt.imshow(X_test_AE[i])\n",
    "  plt.title(\"original\")\n",
    "  plt.gray()\n",
    "  ax.get_xaxis().set_visible(False)\n",
    "  ax.get_yaxis().set_visible(False)\n",
    "\n",
    "  # display reconstruction\n",
    "  ax = plt.subplot(2, n, i + 1 + n)\n",
    "  plt.imshow(decoded_imgs[i])\n",
    "  plt.title(\"reconstructed\")\n",
    "  plt.gray()\n",
    "  ax.get_xaxis().set_visible(False)\n",
    "  ax.get_yaxis().set_visible(False)\n",
    "plt.show()\n"
   ]
  },
  {
   "cell_type": "markdown",
   "metadata": {},
   "source": [
    "## SVM"
   ]
  },
  {
   "cell_type": "code",
   "execution_count": 23,
   "metadata": {},
   "outputs": [],
   "source": [
    "from sklearn.svm import SVC\n",
    "from sklearn.metrics import accuracy_score"
   ]
  },
  {
   "cell_type": "code",
   "execution_count": 24,
   "metadata": {},
   "outputs": [
    {
     "name": "stdout",
     "output_type": "stream",
     "text": [
      "(30000, 49)\n",
      "(5000, 49)\n",
      "(30000,)\n",
      "(5000,)\n"
     ]
    }
   ],
   "source": [
    "# Encoder für das reduzieren der Dimensionen.\n",
    "\n",
    "X_train = autoencoder.encoder(X_train_SVM).numpy()\n",
    "X_test = autoencoder.encoder(X_test_SVM).numpy()\n",
    "y_train = Y_train_SVM\n",
    "y_test = Y_test_SVM\n",
    "\n",
    "print(X_train.shape)\n",
    "print(X_test.shape)\n",
    "\n",
    "print(y_train.shape)\n",
    "print(y_test.shape)\n"
   ]
  },
  {
   "cell_type": "code",
   "execution_count": 25,
   "metadata": {},
   "outputs": [
    {
     "data": {
      "text/plain": [
       "SVC(kernel='linear', probability=True, random_state=42)"
      ]
     },
     "execution_count": 25,
     "metadata": {},
     "output_type": "execute_result"
    }
   ],
   "source": [
    "svm = SVC(kernel='linear', probability=True, random_state=42)       # SVM Definition\n",
    "svm.fit(X_train, y_train)                                           # Modell Trainieren"
   ]
  },
  {
   "cell_type": "code",
   "execution_count": 26,
   "metadata": {},
   "outputs": [
    {
     "name": "stdout",
     "output_type": "stream",
     "text": [
      "Model accuracy:  0.9564\n"
     ]
    }
   ],
   "source": [
    "y_pred = svm.predict(X_test)                     # Prediction für den Test Datensatz\n",
    "accuracy = accuracy_score(y_test, y_pred)        # Auswertung\n",
    "print('Model accuracy: ', accuracy)              # Ausgabe der Genauigkeit"
   ]
  }
 ],
 "metadata": {
  "interpreter": {
   "hash": "916dbcbb3f70747c44a77c7bcd40155683ae19c65e1c03b4aa3499c5328201f1"
  },
  "kernelspec": {
   "display_name": "Python 3.8.10 64-bit",
   "language": "python",
   "name": "python3"
  },
  "language_info": {
   "codemirror_mode": {
    "name": "ipython",
    "version": 3
   },
   "file_extension": ".py",
   "mimetype": "text/x-python",
   "name": "python",
   "nbconvert_exporter": "python",
   "pygments_lexer": "ipython3",
   "version": "3.8.10"
  },
  "orig_nbformat": 4
 },
 "nbformat": 4,
 "nbformat_minor": 2
}

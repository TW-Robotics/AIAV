{
 "cells": [
  {
   "cell_type": "markdown",
   "metadata": {},
   "source": [
    "# Mini Use Case Autoencoder \n",
    "\n",
    "Hier befindet sich der [Beispielcode](./miniUsecase_19_ConvAutoenc_.ipynb) für das Implementieren eines Autoencoders um ein ML-Modell zu trainieren. Dieser Code ist ähnlich aufgebaut wieder Use-Case der Support Vector Machine [(SVM)](https://github.com/TW-Robotics/AIAV/tree/devel_abdank/Support_Vector_Machine_fuer_Bildklassifizierung). Wir wollen Bildern klassifizieren. Genauer gesagt, wollen wir herausfinden welche Zahl auf einem Bild ist. \n",
    "\n",
    "In dem Use-Case der SVM haben wir uns auf das Modell konzentriert allerdings und besprochen wie mittels der Hauptkomponentenanalyse (PCA) dieses trainiert werden kann. Diesmal beschäftigen wir uns mit einem bisschen komplexeren Modell und werden anstatt der PCA den Autoencoder einsetzen. "
   ]
  },
  {
   "cell_type": "code",
   "execution_count": 1,
   "metadata": {},
   "outputs": [
    {
     "name": "stderr",
     "output_type": "stream",
     "text": [
      "2022-03-29 11:27:27.536553: W tensorflow/stream_executor/platform/default/dso_loader.cc:64] Could not load dynamic library 'libcudart.so.11.0'; dlerror: libcudart.so.11.0: cannot open shared object file: No such file or directory; LD_LIBRARY_PATH: /usr/lib/x86_64-linux-gnu/gazebo-11/plugins:/opt/ros/foxy/opt/yaml_cpp_vendor/lib:/opt/ros/foxy/opt/rviz_ogre_vendor/lib:/opt/ros/foxy/lib/x86_64-linux-gnu:/opt/ros/foxy/lib\n",
      "2022-03-29 11:27:27.536577: I tensorflow/stream_executor/cuda/cudart_stub.cc:29] Ignore above cudart dlerror if you do not have a GPU set up on your machine.\n"
     ]
    }
   ],
   "source": [
    "# Importieren der notwendigen Bibliotheken \n",
    "import numpy \n",
    "import numpy as np\n",
    "import matplotlib.pyplot as plt\n",
    "from tensorflow import keras \n",
    "import tensorflow as tf\n",
    "from tensorflow.keras.models import Model\n",
    "from tensorflow.keras import layers, losses"
   ]
  },
  {
   "cell_type": "markdown",
   "metadata": {},
   "source": [
    "## Daten Einlesen\n",
    "Der notwendige Datensatz wird hier als CSV-Datei eingelesen. Hierzu werden 2 Datensätze benötigt, welche heruntergeladen werden müssen: </br>\n",
    "Teil 1: [Trainingsset](https://pjreddie.com/media/files/mnist_train.csv)\n",
    "</br>\n",
    "Teil 2: [Testset](https://pjreddie.com/media/files/mnist_test.csv) \n",
    "\n",
    "Die Datensätze müssen anschließend in dem Ordner abgelegt werden, aus dem dieses Notebook ausgeführt wird.\n",
    "\n",
    "In der folgenden Zelle wird der Datensatz jeweils eingelesen. Diese Teilen wir auf 5 verschiedene Variablen auf. Die Bilder sind immer die X_Variable. Dazu entsprechend ist immer ein Labels Vektor mit einem Y_ Vorgestellt. "
   ]
  },
  {
   "cell_type": "code",
   "execution_count": 2,
   "metadata": {},
   "outputs": [],
   "source": [
    "# Testbilder werden eingelesen\n",
    "# Im MNIST Datensatz sind hier 10000 Bilder verfügbar \n",
    "X_test_AE  = numpy.loadtxt(open(\"mnist_test.csv\", \"rb\"), delimiter=\",\", usecols=range(1,785), max_rows=5000)\n",
    "X_test_SVM = numpy.loadtxt(open(\"mnist_test.csv\", \"rb\"), delimiter=\",\", usecols=range(1,785), skiprows=5000)\n",
    "Y_test_AE  = numpy.loadtxt(open(\"mnist_test.csv\", \"rb\"), delimiter=\",\", usecols=range(0,1), max_rows=5000)\n",
    "Y_test_SVM = numpy.loadtxt(open(\"mnist_test.csv\", \"rb\"), delimiter=\",\", usecols=range(0,1), skiprows=5000)\n",
    "\n",
    "# Trainingsdatenbilder werden eingelesen.\n",
    "# Im MNIST Datensatz sind hier 60000 Bilder verfügbar \n",
    "# Da hier viele Fotos existieren, können wir 5 Bilder für die Evaluierung ganz am ende des Notebooks einsetzen. \n",
    "X_train_AE   = numpy.loadtxt(open(\"mnist_train.csv\", \"rb\"), delimiter=\",\", usecols=range(1,785), max_rows=30000)\n",
    "X_train_SVM  = numpy.loadtxt(open(\"mnist_train.csv\", \"rb\"), delimiter=\",\", usecols=range(1,785), skiprows=30000, max_rows=29995)\n",
    "X_evaluation = numpy.loadtxt(open(\"mnist_train.csv\", \"rb\"), delimiter=\",\", usecols=range(1,785), skiprows=(30000+29995))\n",
    "Y_train_AE   = numpy.loadtxt(open(\"mnist_train.csv\", \"rb\"), delimiter=\",\", usecols=range(0,1),max_rows=30000)\n",
    "Y_train_SVM  = numpy.loadtxt(open(\"mnist_train.csv\", \"rb\"), delimiter=\",\", usecols=range(0,1), skiprows=30000, max_rows=29995)\n",
    "Y_evaluation = numpy.loadtxt(open(\"mnist_train.csv\", \"rb\"), delimiter=\",\", usecols=range(1,785), skiprows=(30000+29995))"
   ]
  },
  {
   "cell_type": "code",
   "execution_count": 3,
   "metadata": {},
   "outputs": [],
   "source": [
    "# Die Daten werden als Zeilen-Vektor eingelesen (jede Zeile in der csv-Datei entspricht einem Bild) \n",
    "# Der Autoencoder benötigt allerdings wirkliche \"Bilder\"\n",
    "# Daher müssen wir die 784 langen Zeilenvektoren in 28x28 Pixel große Bilder umwandeln: \n",
    "\n",
    "X_test_AE    = X_test_AE.reshape(-1, 28, 28)\n",
    "X_test_SVM   = X_test_SVM.reshape(-1, 28, 28)\n",
    "X_train_AE   = X_train_AE.reshape(-1, 28, 28)\n",
    "X_train_SVM  = X_train_SVM.reshape(-1, 28, 28)\n",
    "X_evaluation = X_evaluation.reshape(-1, 28, 28)\n",
    "vsion_test = X_evaluation"
   ]
  },
  {
   "cell_type": "code",
   "execution_count": 4,
   "metadata": {},
   "outputs": [
    {
     "name": "stdout",
     "output_type": "stream",
     "text": [
      "********** Dataset overview *************\n",
      "Test Data Autoencoder:        (5000, 28, 28)\n",
      "Test Labels Autoencoder:     (5000,)\n",
      "Train Data Autoencoder:       (30000, 28, 28)\n",
      "Train Labels Autoencoder:    (30000,)\n",
      "*****************************************\n",
      "Test Data SVM:        (5000, 28, 28)\n",
      "Test Labels SVM:     (5000,)\n",
      "Train Data SVM:       (29995, 28, 28)\n",
      "Train Labels SVM:    (29995,)\n",
      "*****************************************\n",
      "Evaluation Set:      (5, 28, 28)\n",
      "*****************************************\n"
     ]
    }
   ],
   "source": [
    "\n",
    "# Ausgabe des Datensatzes undwie dieser aufgebaut ist: \n",
    "\n",
    "print(\"********** Dataset overview *************\")\n",
    "# Autoencoder Dataset \n",
    "print(\"Test Data Autoencoder:        {}\".format( X_test_AE.shape))\n",
    "print(\"Test Labels Autoencoder:     {}\".format(  Y_test_AE.shape))\n",
    "print(\"Train Data Autoencoder:       {}\".format(X_train_AE.shape))\n",
    "print(\"Train Labels Autoencoder:    {}\".format( Y_train_AE.shape))\n",
    "print(\"*****************************************\")\n",
    "# SVM Dataset \n",
    "print(\"Test Data SVM:        {}\".format( X_test_SVM.shape))\n",
    "print(\"Test Labels SVM:     {}\".format(  Y_test_SVM.shape))\n",
    "print(\"Train Data SVM:       {}\".format(X_train_SVM.shape))\n",
    "print(\"Train Labels SVM:    {}\".format( Y_train_SVM.shape))\n",
    "print(\"*****************************************\")\n",
    "#Evaluation (5 Bilder)\n",
    "print(\"Evaluation Set:      {}\".format(X_evaluation.shape))\n",
    "print(\"*****************************************\")"
   ]
  },
  {
   "cell_type": "code",
   "execution_count": 5,
   "metadata": {},
   "outputs": [],
   "source": [
    "# Bevor wir die Modelle jetzt noch trainieren können, müssen wir den Datensatz Normieren. \n",
    "# Unser Eingangsbild hat Pixelwerte von 0 bis 255. Wir wollen allerdings diese Werte zwischen 0.0 und 1.0 datstellen. \n",
    "\n",
    "# AE\n",
    "X_train_AE = X_train_AE.astype('float32') / 255.\n",
    "X_test_AE=  X_test_AE.astype('float32') / 255.\n",
    "# SVM\n",
    "X_train_SVM = X_train_SVM.astype('float32') / 255.\n",
    "X_test_SVM =  X_test_SVM.astype('float32') / 255.\n"
   ]
  },
  {
   "cell_type": "markdown",
   "metadata": {},
   "source": [
    "## Autoencoder\n",
    "\n",
    "\n",
    "Im folgenden Abschnitt wird der Autoencoder definiert. Da wir uns hier nicht mit einem zu schwierigen Use-Case befassen haben wir uns an den \"standard\" Autoencoder der TensorFlow-Library gehalten. Hier können wir auch über eine Variable definieren wie viele Features (bzw. wie groß der latente Raum) erhalten bleiben sollen. \n",
    "Anbei ist der Sourcecode der Implementierung von Tesorflot: [Autoencoder Source](https://www.tensorflow.org/tutorials/generative/autoencoder)\n",
    "\n",
    "Ebenso haben wir den Aufbau in der folgenden Grafik kurz Dargestellt. Mehr Informationen dazu sind im Sotryboard enthalten.  </br>\n",
    "![Aufbau](aufbau.png)"
   ]
  },
  {
   "cell_type": "code",
   "execution_count": 6,
   "metadata": {},
   "outputs": [],
   "source": [
    "# Autoencoder Classe Definieren: \n",
    "\n",
    "class Autoencoder(Model):\n",
    "  def __init__(self, latent_dim):\n",
    "    super(Autoencoder, self).__init__()\n",
    "    self.latent_dim = latent_dim   \n",
    "    self.encoder = tf.keras.Sequential([\n",
    "      layers.Flatten(),\n",
    "      layers.Dense(latent_dim, activation='relu'),\n",
    "    ])\n",
    "    self.decoder = tf.keras.Sequential([\n",
    "      layers.Dense(784, activation='sigmoid'),\n",
    "      layers.Reshape((28, 28))\n",
    "    ])\n",
    "\n",
    "  def call(self, x):\n",
    "    encoded = self.encoder(x)\n",
    "    decoded = self.decoder(encoded)\n",
    "    return decoded"
   ]
  },
  {
   "cell_type": "code",
   "execution_count": 7,
   "metadata": {},
   "outputs": [
    {
     "name": "stderr",
     "output_type": "stream",
     "text": [
      "2022-03-29 11:27:41.842461: I tensorflow/stream_executor/cuda/cuda_gpu_executor.cc:936] successful NUMA node read from SysFS had negative value (-1), but there must be at least one NUMA node, so returning NUMA node zero\n",
      "2022-03-29 11:27:41.842936: W tensorflow/stream_executor/platform/default/dso_loader.cc:64] Could not load dynamic library 'libcudart.so.11.0'; dlerror: libcudart.so.11.0: cannot open shared object file: No such file or directory; LD_LIBRARY_PATH: /usr/lib/x86_64-linux-gnu/gazebo-11/plugins:/opt/ros/foxy/opt/yaml_cpp_vendor/lib:/opt/ros/foxy/opt/rviz_ogre_vendor/lib:/opt/ros/foxy/lib/x86_64-linux-gnu:/opt/ros/foxy/lib\n",
      "2022-03-29 11:27:41.843033: W tensorflow/stream_executor/platform/default/dso_loader.cc:64] Could not load dynamic library 'libcublas.so.11'; dlerror: libcublas.so.11: cannot open shared object file: No such file or directory; LD_LIBRARY_PATH: /usr/lib/x86_64-linux-gnu/gazebo-11/plugins:/opt/ros/foxy/opt/yaml_cpp_vendor/lib:/opt/ros/foxy/opt/rviz_ogre_vendor/lib:/opt/ros/foxy/lib/x86_64-linux-gnu:/opt/ros/foxy/lib\n",
      "2022-03-29 11:27:41.843112: W tensorflow/stream_executor/platform/default/dso_loader.cc:64] Could not load dynamic library 'libcublasLt.so.11'; dlerror: libcublasLt.so.11: cannot open shared object file: No such file or directory; LD_LIBRARY_PATH: /usr/lib/x86_64-linux-gnu/gazebo-11/plugins:/opt/ros/foxy/opt/yaml_cpp_vendor/lib:/opt/ros/foxy/opt/rviz_ogre_vendor/lib:/opt/ros/foxy/lib/x86_64-linux-gnu:/opt/ros/foxy/lib\n",
      "2022-03-29 11:27:41.843193: W tensorflow/stream_executor/platform/default/dso_loader.cc:64] Could not load dynamic library 'libcufft.so.10'; dlerror: libcufft.so.10: cannot open shared object file: No such file or directory; LD_LIBRARY_PATH: /usr/lib/x86_64-linux-gnu/gazebo-11/plugins:/opt/ros/foxy/opt/yaml_cpp_vendor/lib:/opt/ros/foxy/opt/rviz_ogre_vendor/lib:/opt/ros/foxy/lib/x86_64-linux-gnu:/opt/ros/foxy/lib\n",
      "2022-03-29 11:27:41.843272: W tensorflow/stream_executor/platform/default/dso_loader.cc:64] Could not load dynamic library 'libcurand.so.10'; dlerror: libcurand.so.10: cannot open shared object file: No such file or directory; LD_LIBRARY_PATH: /usr/lib/x86_64-linux-gnu/gazebo-11/plugins:/opt/ros/foxy/opt/yaml_cpp_vendor/lib:/opt/ros/foxy/opt/rviz_ogre_vendor/lib:/opt/ros/foxy/lib/x86_64-linux-gnu:/opt/ros/foxy/lib\n",
      "2022-03-29 11:27:41.843351: W tensorflow/stream_executor/platform/default/dso_loader.cc:64] Could not load dynamic library 'libcusolver.so.11'; dlerror: libcusolver.so.11: cannot open shared object file: No such file or directory; LD_LIBRARY_PATH: /usr/lib/x86_64-linux-gnu/gazebo-11/plugins:/opt/ros/foxy/opt/yaml_cpp_vendor/lib:/opt/ros/foxy/opt/rviz_ogre_vendor/lib:/opt/ros/foxy/lib/x86_64-linux-gnu:/opt/ros/foxy/lib\n",
      "2022-03-29 11:27:41.843427: W tensorflow/stream_executor/platform/default/dso_loader.cc:64] Could not load dynamic library 'libcusparse.so.11'; dlerror: libcusparse.so.11: cannot open shared object file: No such file or directory; LD_LIBRARY_PATH: /usr/lib/x86_64-linux-gnu/gazebo-11/plugins:/opt/ros/foxy/opt/yaml_cpp_vendor/lib:/opt/ros/foxy/opt/rviz_ogre_vendor/lib:/opt/ros/foxy/lib/x86_64-linux-gnu:/opt/ros/foxy/lib\n",
      "2022-03-29 11:27:41.843499: W tensorflow/stream_executor/platform/default/dso_loader.cc:64] Could not load dynamic library 'libcudnn.so.8'; dlerror: libcudnn.so.8: cannot open shared object file: No such file or directory; LD_LIBRARY_PATH: /usr/lib/x86_64-linux-gnu/gazebo-11/plugins:/opt/ros/foxy/opt/yaml_cpp_vendor/lib:/opt/ros/foxy/opt/rviz_ogre_vendor/lib:/opt/ros/foxy/lib/x86_64-linux-gnu:/opt/ros/foxy/lib\n",
      "2022-03-29 11:27:41.843510: W tensorflow/core/common_runtime/gpu/gpu_device.cc:1850] Cannot dlopen some GPU libraries. Please make sure the missing libraries mentioned above are installed properly if you would like to use GPU. Follow the guide at https://www.tensorflow.org/install/gpu for how to download and setup the required libraries for your platform.\n",
      "Skipping registering GPU devices...\n",
      "2022-03-29 11:27:41.844267: I tensorflow/core/platform/cpu_feature_guard.cc:151] This TensorFlow binary is optimized with oneAPI Deep Neural Network Library (oneDNN) to use the following CPU instructions in performance-critical operations:  AVX2 FMA\n",
      "To enable them in other operations, rebuild TensorFlow with the appropriate compiler flags.\n"
     ]
    }
   ],
   "source": [
    "# Wir können nun die Dimensionen definieren, welche in der letzen Schicht erreicht werden soll. \n",
    "# In unserem Fall wollen wir hier nur mehr eine 7*7 große layer haben -> sprich latent_dim wird auf 49 gesetzt. \n",
    "# Mit dieser Variable können wir allerdings bestimmen wie stark die Bilder kompremiert werden sollen, bzw. wie viele Features erhalten bleiben sollen\n",
    "\n",
    "latent_dim = 49\n",
    "autoencoder = Autoencoder(latent_dim)\n",
    "autoencoder.compile(optimizer='adam', loss=losses.MeanSquaredError())"
   ]
  },
  {
   "cell_type": "code",
   "execution_count": 8,
   "metadata": {},
   "outputs": [
    {
     "name": "stdout",
     "output_type": "stream",
     "text": [
      "Epoch 1/10\n",
      "938/938 [==============================] - 2s 2ms/step - loss: 0.0381 - val_loss: 0.0204\n",
      "Epoch 2/10\n",
      "938/938 [==============================] - 1s 2ms/step - loss: 0.0152 - val_loss: 0.0118\n",
      "Epoch 3/10\n",
      "938/938 [==============================] - 1s 2ms/step - loss: 0.0097 - val_loss: 0.0086\n",
      "Epoch 4/10\n",
      "938/938 [==============================] - 1s 2ms/step - loss: 0.0076 - val_loss: 0.0073\n",
      "Epoch 5/10\n",
      "938/938 [==============================] - 2s 2ms/step - loss: 0.0068 - val_loss: 0.0068\n",
      "Epoch 6/10\n",
      "938/938 [==============================] - 2s 2ms/step - loss: 0.0065 - val_loss: 0.0066\n",
      "Epoch 7/10\n",
      "938/938 [==============================] - 2s 2ms/step - loss: 0.0063 - val_loss: 0.0064\n",
      "Epoch 8/10\n",
      "938/938 [==============================] - 2s 2ms/step - loss: 0.0062 - val_loss: 0.0064\n",
      "Epoch 9/10\n",
      "938/938 [==============================] - 2s 2ms/step - loss: 0.0061 - val_loss: 0.0063\n",
      "Epoch 10/10\n",
      "938/938 [==============================] - 1s 2ms/step - loss: 0.0060 - val_loss: 0.0063\n"
     ]
    },
    {
     "data": {
      "text/plain": [
       "<keras.callbacks.History at 0x7fb40845cc70>"
      ]
     },
     "execution_count": 8,
     "metadata": {},
     "output_type": "execute_result"
    }
   ],
   "source": [
    "# Ist der Autoencoder definiert (Zelle darüber) kann dieser mit unserem Autoencoder Datensatz trainiert werden. \n",
    "# Es werden 10 Epochen Trainiert  \n",
    "\n",
    "autoencoder.fit(X_train_AE, X_train_AE,\n",
    "                epochs=10,\n",
    "                shuffle=True,\n",
    "                validation_data=(X_test_AE, X_test_AE))\n"
   ]
  },
  {
   "cell_type": "code",
   "execution_count": 9,
   "metadata": {},
   "outputs": [],
   "source": [
    "# Mit dem fertig trainierten Autoencoder können wir nun die features Abspeichern. \n",
    "# Diese verwenden wir auch gleich um die Bilder nocheinmal zu rekonstruieren. Die schauen wir uns dann später nochmal an. \n",
    "encoded_imgs = autoencoder.encoder(X_test_AE).numpy()\n",
    "decoded_imgs = autoencoder.decoder(encoded_imgs).numpy()"
   ]
  },
  {
   "cell_type": "code",
   "execution_count": 10,
   "metadata": {},
   "outputs": [
    {
     "data": {
      "image/png": "[encoded data removed]",
      "text/plain": [
       "<Figure size 1440x288 with 20 Axes>"
      ]
     },
     "metadata": {
      "needs_background": "light"
     },
     "output_type": "display_data"
    }
   ],
   "source": [
    "# Hier geben wir das \"Ergebnis\" des Autoencoders aus. \n",
    "# Im unten angeführten Plot werden die Originalen Bilder gezeigt und anschließend noch die vom Autoencoder rekonstruierten\n",
    "# Wenn diese nicht dem Eingangsbild ähnlich schauen, dann ist etwas schief gegangen (zu kurz trainiert, zu kleiner Datensatz, zu kleine Dimensionen,...)\n",
    "\n",
    "n = 10\n",
    "plt.figure(figsize=(20, 4))\n",
    "for i in range(n):\n",
    "  # display original\n",
    "  ax = plt.subplot(2, n, i + 1)\n",
    "  plt.imshow(X_test_AE[i])\n",
    "  plt.title(\"original\")\n",
    "  plt.gray()\n",
    "  ax.get_xaxis().set_visible(False)\n",
    "  ax.get_yaxis().set_visible(False)\n",
    "\n",
    "  # display reconstruction\n",
    "  ax = plt.subplot(2, n, i + 1 + n)\n",
    "  plt.imshow(decoded_imgs[i])\n",
    "  plt.title(\"reconstructed\")\n",
    "  plt.gray()\n",
    "  ax.get_xaxis().set_visible(False)\n",
    "  ax.get_yaxis().set_visible(False)\n",
    "plt.show()"
   ]
  },
  {
   "cell_type": "markdown",
   "metadata": {},
   "source": [
    "## SVM\n",
    "Im anschließenden Teil wird die Support Vector Machine implementiert. \n",
    "Wir werden den neuen Datensatz hernehmen. Die Features mittels dem jetzt schon trainierten Autoencoder extrahieren und anschließend für das Trianieren verwenden. \n",
    "\n",
    "Für genauere Informationen wie die SVM funktioniert haben wir hierzu einen eigenen Use-Case auf der AIAV-Platform: \n",
    "\n",
    "[Storyboard](http://www.aiav.technikum-wien.at/) </br>\n",
    "[GitHub](https://github.com/TW-Robotics/AIAV/tree/devel_abdank/Support_Vector_Machine_fuer_Bildklassifizierung) </br>"
   ]
  },
  {
   "cell_type": "code",
   "execution_count": 11,
   "metadata": {},
   "outputs": [],
   "source": [
    "# Importieren der beiden notwendigen Libraries für die SVM \n",
    "from sklearn.svm import SVC\n",
    "from sklearn.metrics import accuracy_score"
   ]
  },
  {
   "cell_type": "code",
   "execution_count": 12,
   "metadata": {},
   "outputs": [
    {
     "name": "stdout",
     "output_type": "stream",
     "text": [
      "********** Dataset overview *************\n",
      "Train Data fuer SVM Encoded:   (29995, 49)\n",
      "Test  Data fuer SVM Encoded:   (5000, 49)\n",
      "Train Labels SVM:                           (29995,)\n",
      "Test  Labels SVM:                           (5000,)\n",
      "*****************************************\n"
     ]
    }
   ],
   "source": [
    "# Encoder für das reduzieren der Dimensionen.\n",
    "# Hier wird der Autoencoder eimgesetzt um wie angesprochen 49 Features zu extrahieren. \n",
    "\n",
    "X_train = autoencoder.encoder(X_train_SVM).numpy()\n",
    "X_test = autoencoder.encoder(X_test_SVM).numpy()\n",
    "y_train = Y_train_SVM\n",
    "y_test = Y_test_SVM\n",
    "\n",
    "\n",
    "print(\"********** Dataset overview *************\")\n",
    "# Autoencoder Dataset \n",
    "print(\"Train Data fuer SVM Encoded:   {}\".format(X_train.shape))\n",
    "print(\"Test  Data fuer SVM Encoded:   {}\".format( X_test.shape))\n",
    "print(\"Train Labels SVM:                           {}\".format( y_train.shape))\n",
    "print(\"Test  Labels SVM:                           {}\".format(  y_test.shape))\n",
    "print(\"*****************************************\")\n"
   ]
  },
  {
   "cell_type": "code",
   "execution_count": 13,
   "metadata": {},
   "outputs": [
    {
     "data": {
      "text/plain": [
       "SVC(kernel='linear', probability=True, random_state=42)"
      ]
     },
     "execution_count": 13,
     "metadata": {},
     "output_type": "execute_result"
    }
   ],
   "source": [
    "# Anschließend wird das SVM Model definiert und gleich trianiert. \n",
    "# Dieses Model ist ident zu dem angesprochenen Model des SVM Use-Cases (Genauere Details und wie dieses Funktioniert finden Sie dort)\n",
    "\n",
    "svm = SVC(kernel='linear', probability=True, random_state=42)       # SVM Definition\n",
    "svm.fit(X_train, y_train)                                           # Modell Trainieren"
   ]
  },
  {
   "cell_type": "markdown",
   "metadata": {},
   "source": [
    "# Evaluieren und Testen\n",
    "\n",
    "In diesem Abschnitt versuchen wir unsere beiden Modelle zu evaluieren. Wir wissen schon aufgrund der rekonstruierten Bilder, dass unser Autoencoder wahrscheinlich die richtigen Features gelernt hat. Als nächstes wollen wir aber noch die Accuracy (also die Genauigkeit) der SVM betrachten und ebenso die beiden Modelle mit ganz neuen Bildern testen. "
   ]
  },
  {
   "cell_type": "code",
   "execution_count": 14,
   "metadata": {},
   "outputs": [
    {
     "name": "stdout",
     "output_type": "stream",
     "text": [
      "Model accuracy:  0.9564\n"
     ]
    }
   ],
   "source": [
    "# In dieser Zelle verwenden wir den Testdatensatz um die Accuracy der SVM zu berechnen. Diese ist bei uns 95.6%\n",
    "\n",
    "y_pred = svm.predict(X_test)                     # Prediction für den Test Datensatz\n",
    "accuracy = accuracy_score(y_test, y_pred)        # Auswertung\n",
    "print('Model accuracy: ', accuracy)              # Ausgabe der Genauigkeit"
   ]
  },
  {
   "cell_type": "code",
   "execution_count": 15,
   "metadata": {},
   "outputs": [
    {
     "name": "stdout",
     "output_type": "stream",
     "text": [
      "Auf dem Bild ist eine 8.0 zu sehen\n",
      "Auf dem Bild ist eine 3.0 zu sehen\n",
      "Auf dem Bild ist eine 5.0 zu sehen\n",
      "Auf dem Bild ist eine 6.0 zu sehen\n",
      "Auf dem Bild ist eine 8.0 zu sehen\n"
     ]
    }
   ],
   "source": [
    "# In dieser Zelle Zeigen wir die 5 Bilder, welche wir am Anfang aus dem großen Datensatz getrennt haben, der SVM.\n",
    "# Bevor allerdings eine Prediciton gemacht werden kann, was auf dem Bild zu sehen ist, muss der Autoencoder die Features extrahieren. \n",
    "\n",
    "import cv2\n",
    "\n",
    "X_evaluation_AE  = X_evaluation.astype('float32') / 255.             # Normieren der Testbilder \n",
    "encodes_evaluation = autoencoder.encoder(X_evaluation_AE).numpy()    # Features Extrahieren mittels trainierten Autoencoder \n",
    "decoded_evaluation = autoencoder.decoder(encodes_evaluation).numpy() # Rekonstruieren der Bilder aufgrund der Features\n",
    "\n",
    "evaluation_pred = svm.predict(encodes_evaluation)                    # Prediction/Klassifizieren was den auf den Bildern zu sehen ist. \n",
    "cv2.namedWindow(\"Image for prediction\", 0)                           # Ausgabefenster 1 Definieren\n",
    "cv2.namedWindow(\"Reconstructed Image\", 0)                            # Ausgabefenster 1 Definieren\n",
    "\n",
    "# Alle 5 Bilder nacheinander durch gehen \n",
    "for i in range(X_evaluation.shape[0]):\n",
    "    print(\"Auf dem Bild ist eine {} zu sehen\".format(evaluation_pred[i]))  #  Ausgabe was die SVM denkt, dass auf dem Bild ist \n",
    "                                                                           # (sollte mit Originalbild und Rekonstruiertem Bild zusammenpassen)\n",
    "    cv2.imshow(\"Image for prediction\", vsion_test[i])                      # Bild anzeigen\n",
    "    cv2.imshow(\"Reconstructed Image\", decoded_evaluation[i])               # Bild anzeigen\n",
    "    cv2.waitKey(0)\n",
    "    \n",
    "cv2.destroyAllWindows()  #Alle geöfneten Fenster wieder Schließen\n"
   ]
  }
 ],
 "metadata": {
  "interpreter": {
   "hash": "916dbcbb3f70747c44a77c7bcd40155683ae19c65e1c03b4aa3499c5328201f1"
  },
  "kernelspec": {
   "display_name": "Python 3.8.10 64-bit",
   "language": "python",
   "name": "python3"
  },
  "language_info": {
   "codemirror_mode": {
    "name": "ipython",
    "version": 3
   },
   "file_extension": ".py",
   "mimetype": "text/x-python",
   "name": "python",
   "nbconvert_exporter": "python",
   "pygments_lexer": "ipython3",
   "version": "3.8.10"
  },
  "orig_nbformat": 4
 },
 "nbformat": 4,
 "nbformat_minor": 2
}

{
 "cells": [
  {
   "cell_type": "markdown",
   "metadata": {},
   "source": [
    "# Mini Use Case Autoencoder \n",
    "\n",
    "Hier befindet sich der [Beispielcode](./miniUsecase_19_ConvAutoenc_.ipynb) für das Implementieren eines Autoencoders um ein ML-Modell zu trainieren. Dieser Code ist ähnlich aufgebaut wieder Use-Case der Support Vector Machine [(SVM)](https://github.com/TW-Robotics/AIAV/tree/devel_abdank/Support_Vector_Machine_fuer_Bildklassifizierung). Wir wollen Bildern klassifizieren. Genauer gesagt, wollen wir herausfinden welche Zahl auf einem Bild ist. \n",
    "\n",
    "In dem Use-Case der SVM haben wir uns auf das Modell konzentriert allerdings und besprochen wie mittels der Hauptkomponentenanalyse (PCA) dieses trainiert werden kann. Diesmal beschäftigen wir uns mit einem bisschen komplexeren Modell und werden anstatt der PCA den Autoencoder einsetzen. "
   ]
  },
  {
   "cell_type": "code",
   "execution_count": 1,
   "metadata": {},
   "outputs": [],
   "source": [
    "# Importieren der notwendigen Bibliotheken \n",
    "import numpy \n",
    "import numpy as np\n",
    "import matplotlib.pyplot as plt\n",
    "from tensorflow import keras \n",
    "import tensorflow as tf\n",
    "from tensorflow.keras.models import Model\n",
    "from tensorflow.keras import layers, losses"
   ]
  },
  {
   "cell_type": "markdown",
   "metadata": {},
   "source": [
    "## Daten Einlesen\n",
    "Der notwendige Datensatz wird hier als CSV-Datei eingelesen. Hierzu werden 2 Datensätze benötigt, welche heruntergeladen werden müssen: </br>\n",
    "Teil 1: [Trainingsset](https://pjreddie.com/media/files/mnist_train.csv)\n",
    "</br>\n",
    "Teil 2: [Testset](https://pjreddie.com/media/files/mnist_test.csv) \n",
    "\n",
    "Die Datensätze müssen anschließend in dem Ordner abgelegt werden, aus dem dieses Notebook ausgeführt wird."
   ]
  },
  {
   "cell_type": "code",
   "execution_count": 2,
   "metadata": {},
   "outputs": [],
   "source": [
    "# Insgesamt 10000 \n",
    "X_test_AE  = numpy.loadtxt(open(\"mnist_test.csv\", \"rb\"), delimiter=\",\", usecols=range(1,785), max_rows=5000)\n",
    "X_test_SVM = numpy.loadtxt(open(\"mnist_test.csv\", \"rb\"), delimiter=\",\", usecols=range(1,785), skiprows=5000)\n",
    "Y_test_AE  = numpy.loadtxt(open(\"mnist_test.csv\", \"rb\"), delimiter=\",\", usecols=range(0,1), max_rows=5000)\n",
    "Y_test_SVM = numpy.loadtxt(open(\"mnist_test.csv\", \"rb\"), delimiter=\",\", usecols=range(0,1), skiprows=5000)\n",
    "\n",
    "# Insgesamt 60000 \n",
    "X_train_AE   = numpy.loadtxt(open(\"mnist_train.csv\", \"rb\"), delimiter=\",\", usecols=range(1,785), max_rows=30000)\n",
    "X_train_SVM  = numpy.loadtxt(open(\"mnist_train.csv\", \"rb\"), delimiter=\",\", usecols=range(1,785), skiprows=30000, max_rows=29995)\n",
    "X_evaluation = numpy.loadtxt(open(\"mnist_train.csv\", \"rb\"), delimiter=\",\", usecols=range(1,785), skiprows=(30000+29995))\n",
    "\n",
    "Y_train_AE   = numpy.loadtxt(open(\"mnist_train.csv\", \"rb\"), delimiter=\",\", usecols=range(0,1),max_rows=30000)\n",
    "Y_train_SVM  = numpy.loadtxt(open(\"mnist_train.csv\", \"rb\"), delimiter=\",\", usecols=range(0,1), skiprows=30000, max_rows=29995)\n",
    "Y_evaluation = numpy.loadtxt(open(\"mnist_train.csv\", \"rb\"), delimiter=\",\", usecols=range(1,785), skiprows=(30000+29995))\n"
   ]
  },
  {
   "cell_type": "code",
   "execution_count": 3,
   "metadata": {},
   "outputs": [],
   "source": [
    "# Convert for Training \n",
    "X_test_AE    = X_test_AE.reshape(-1, 28, 28)\n",
    "X_test_SVM   = X_test_SVM.reshape(-1, 28, 28)\n",
    "X_train_AE   = X_train_AE.reshape(-1, 28, 28)\n",
    "X_train_SVM  = X_train_SVM.reshape(-1, 28, 28)\n",
    "X_evaluation = X_evaluation.reshape(-1, 28, 28)"
   ]
  },
  {
   "cell_type": "code",
   "execution_count": 4,
   "metadata": {},
   "outputs": [
    {
     "name": "stdout",
     "output_type": "stream",
     "text": [
      "********** Dataset overview *************\n",
      "Test Data Autoencoder:        (5000, 28, 28)\n",
      "Test Labels Autoencoder:     (5000,)\n",
      "Train Data Autoencoder:       (30000, 28, 28)\n",
      "Train Labels Autoencoder:    (30000,)\n",
      "*****************************************\n",
      "Test Data SVM:        (5000, 28, 28)\n",
      "Test Labels SVM:     (5000,)\n",
      "Train Data SVM:       (29995, 28, 28)\n",
      "Train Labels SVM:    (29995,)\n",
      "*****************************************\n",
      "Evaluation Set:      (5, 28, 28)\n",
      "*****************************************\n"
     ]
    }
   ],
   "source": [
    "\n",
    "print(\"********** Dataset overview *************\")\n",
    "# Autoencoder Dataset \n",
    "print(\"Test Data Autoencoder:        {}\".format( X_test_AE.shape))\n",
    "print(\"Test Labels Autoencoder:     {}\".format(  Y_test_AE.shape))\n",
    "print(\"Train Data Autoencoder:       {}\".format(X_train_AE.shape))\n",
    "print(\"Train Labels Autoencoder:    {}\".format( Y_train_AE.shape))\n",
    "print(\"*****************************************\")\n",
    "# SVM Dataset \n",
    "print(\"Test Data SVM:        {}\".format( X_test_SVM.shape))\n",
    "print(\"Test Labels SVM:     {}\".format(  Y_test_SVM.shape))\n",
    "print(\"Train Data SVM:       {}\".format(X_train_SVM.shape))\n",
    "print(\"Train Labels SVM:    {}\".format( Y_train_SVM.shape))\n",
    "print(\"*****************************************\")\n",
    "#Evaluation (5 Bilder)\n",
    "print(\"Evaluation Set:      {}\".format(X_evaluation.shape))\n",
    "print(\"*****************************************\")"
   ]
  },
  {
   "cell_type": "code",
   "execution_count": 5,
   "metadata": {},
   "outputs": [],
   "source": [
    "# anpassen für Tensorflow\n",
    "# AE\n",
    "X_train_AE = X_train_AE.astype('float32') / 255.\n",
    "X_test_AE=  X_test_AE.astype('float32') / 255.\n",
    "\n",
    "# SVM\n",
    "X_train_SVM = X_train_SVM.astype('float32') / 255.\n",
    "X_test_SVM =  X_test_SVM.astype('float32') / 255.\n"
   ]
  },
  {
   "cell_type": "markdown",
   "metadata": {},
   "source": [
    "## Autoencoder\n",
    "\n",
    "[Autoencoder Source](https://www.tensorflow.org/tutorials/generative/autoencoder)\n",
    "\n",
    "\n",
    "\n",
    "![Aufbau](aufbau.png)"
   ]
  },
  {
   "cell_type": "code",
   "execution_count": 6,
   "metadata": {},
   "outputs": [],
   "source": [
    "latent_dim = 49 #64 \n",
    "\n",
    "class Autoencoder(Model):\n",
    "  def __init__(self, latent_dim):\n",
    "    super(Autoencoder, self).__init__()\n",
    "    self.latent_dim = latent_dim   \n",
    "    self.encoder = tf.keras.Sequential([\n",
    "      layers.Flatten(),\n",
    "      layers.Dense(latent_dim, activation='relu'),\n",
    "    ])\n",
    "    self.decoder = tf.keras.Sequential([\n",
    "      layers.Dense(784, activation='sigmoid'),\n",
    "      layers.Reshape((28, 28))\n",
    "    ])\n",
    "\n",
    "  def call(self, x):\n",
    "    encoded = self.encoder(x)\n",
    "    decoded = self.decoder(encoded)\n",
    "    return decoded\n",
    "\n",
    "autoencoder = Autoencoder(latent_dim)\n"
   ]
  },
  {
   "cell_type": "code",
   "execution_count": 7,
   "metadata": {},
   "outputs": [
    {
     "name": "stderr",
     "output_type": "stream",
     "text": [
      "2022-03-08 12:45:21.976376: I tensorflow/stream_executor/platform/default/dso_loader.cc:44] Successfully opened dynamic library libcuda.so.1\n",
      "2022-03-08 12:45:21.997551: I tensorflow/stream_executor/cuda/cuda_gpu_executor.cc:981] successful NUMA node read from SysFS had negative value (-1), but there must be at least one NUMA node, so returning NUMA node zero\n",
      "2022-03-08 12:45:21.997791: I tensorflow/core/common_runtime/gpu/gpu_device.cc:1561] Found device 0 with properties: \n",
      "pciBusID: 0000:01:00.0 name: NVIDIA GeForce GTX 1060 6GB computeCapability: 6.1\n",
      "coreClock: 1.7085GHz coreCount: 10 deviceMemorySize: 5.93GiB deviceMemoryBandwidth: 178.99GiB/s\n",
      "2022-03-08 12:45:21.997967: I tensorflow/stream_executor/platform/default/dso_loader.cc:44] Successfully opened dynamic library libcudart.so.10.1\n",
      "2022-03-08 12:45:21.998079: W tensorflow/stream_executor/platform/default/dso_loader.cc:55] Could not load dynamic library 'libcublas.so.10'; dlerror: libcublas.so.10: cannot open shared object file: No such file or directory; LD_LIBRARY_PATH: /usr/lib/x86_64-linux-gnu/gazebo-11/plugins:/opt/ros/foxy/opt/yaml_cpp_vendor/lib:/opt/ros/foxy/opt/rviz_ogre_vendor/lib:/opt/ros/foxy/lib/x86_64-linux-gnu:/opt/ros/foxy/lib\n",
      "2022-03-08 12:45:21.998142: W tensorflow/stream_executor/platform/default/dso_loader.cc:55] Could not load dynamic library 'libcufft.so.10'; dlerror: libcufft.so.10: cannot open shared object file: No such file or directory; LD_LIBRARY_PATH: /usr/lib/x86_64-linux-gnu/gazebo-11/plugins:/opt/ros/foxy/opt/yaml_cpp_vendor/lib:/opt/ros/foxy/opt/rviz_ogre_vendor/lib:/opt/ros/foxy/lib/x86_64-linux-gnu:/opt/ros/foxy/lib\n",
      "2022-03-08 12:45:21.998190: W tensorflow/stream_executor/platform/default/dso_loader.cc:55] Could not load dynamic library 'libcurand.so.10'; dlerror: libcurand.so.10: cannot open shared object file: No such file or directory; LD_LIBRARY_PATH: /usr/lib/x86_64-linux-gnu/gazebo-11/plugins:/opt/ros/foxy/opt/yaml_cpp_vendor/lib:/opt/ros/foxy/opt/rviz_ogre_vendor/lib:/opt/ros/foxy/lib/x86_64-linux-gnu:/opt/ros/foxy/lib\n",
      "2022-03-08 12:45:21.998244: W tensorflow/stream_executor/platform/default/dso_loader.cc:55] Could not load dynamic library 'libcusolver.so.10'; dlerror: libcusolver.so.10: cannot open shared object file: No such file or directory; LD_LIBRARY_PATH: /usr/lib/x86_64-linux-gnu/gazebo-11/plugins:/opt/ros/foxy/opt/yaml_cpp_vendor/lib:/opt/ros/foxy/opt/rviz_ogre_vendor/lib:/opt/ros/foxy/lib/x86_64-linux-gnu:/opt/ros/foxy/lib\n",
      "2022-03-08 12:45:21.998308: W tensorflow/stream_executor/platform/default/dso_loader.cc:55] Could not load dynamic library 'libcusparse.so.10'; dlerror: libcusparse.so.10: cannot open shared object file: No such file or directory; LD_LIBRARY_PATH: /usr/lib/x86_64-linux-gnu/gazebo-11/plugins:/opt/ros/foxy/opt/yaml_cpp_vendor/lib:/opt/ros/foxy/opt/rviz_ogre_vendor/lib:/opt/ros/foxy/lib/x86_64-linux-gnu:/opt/ros/foxy/lib\n",
      "2022-03-08 12:45:21.998362: W tensorflow/stream_executor/platform/default/dso_loader.cc:55] Could not load dynamic library 'libcudnn.so.7'; dlerror: libcudnn.so.7: cannot open shared object file: No such file or directory; LD_LIBRARY_PATH: /usr/lib/x86_64-linux-gnu/gazebo-11/plugins:/opt/ros/foxy/opt/yaml_cpp_vendor/lib:/opt/ros/foxy/opt/rviz_ogre_vendor/lib:/opt/ros/foxy/lib/x86_64-linux-gnu:/opt/ros/foxy/lib\n",
      "2022-03-08 12:45:21.998368: W tensorflow/core/common_runtime/gpu/gpu_device.cc:1598] Cannot dlopen some GPU libraries. Please make sure the missing libraries mentioned above are installed properly if you would like to use GPU. Follow the guide at https://www.tensorflow.org/install/gpu for how to download and setup the required libraries for your platform.\n",
      "Skipping registering GPU devices...\n",
      "2022-03-08 12:45:21.998870: I tensorflow/core/platform/cpu_feature_guard.cc:143] Your CPU supports instructions that this TensorFlow binary was not compiled to use: AVX2 FMA\n",
      "2022-03-08 12:45:22.003139: I tensorflow/core/platform/profile_utils/cpu_utils.cc:102] CPU Frequency: 3999980000 Hz\n",
      "2022-03-08 12:45:22.003391: I tensorflow/compiler/xla/service/service.cc:168] XLA service 0x7f67dc000b60 initialized for platform Host (this does not guarantee that XLA will be used). Devices:\n",
      "2022-03-08 12:45:22.003406: I tensorflow/compiler/xla/service/service.cc:176]   StreamExecutor device (0): Host, Default Version\n",
      "2022-03-08 12:45:22.004205: I tensorflow/core/common_runtime/gpu/gpu_device.cc:1102] Device interconnect StreamExecutor with strength 1 edge matrix:\n",
      "2022-03-08 12:45:22.004213: I tensorflow/core/common_runtime/gpu/gpu_device.cc:1108]      \n"
     ]
    }
   ],
   "source": [
    "autoencoder.compile(optimizer='adam', loss=losses.MeanSquaredError())"
   ]
  },
  {
   "cell_type": "code",
   "execution_count": 8,
   "metadata": {},
   "outputs": [
    {
     "name": "stdout",
     "output_type": "stream",
     "text": [
      "Epoch 1/10\n",
      "938/938 [==============================] - 1s 1ms/step - loss: 0.0386 - val_loss: 0.0211\n",
      "Epoch 2/10\n",
      "938/938 [==============================] - 1s 1ms/step - loss: 0.0156 - val_loss: 0.0123\n",
      "Epoch 3/10\n",
      "938/938 [==============================] - 1s 1ms/step - loss: 0.0100 - val_loss: 0.0088\n",
      "Epoch 4/10\n",
      "938/938 [==============================] - 1s 1ms/step - loss: 0.0078 - val_loss: 0.0075\n",
      "Epoch 5/10\n",
      "938/938 [==============================] - 1s 1ms/step - loss: 0.0069 - val_loss: 0.0070\n",
      "Epoch 6/10\n",
      "938/938 [==============================] - 1s 1ms/step - loss: 0.0066 - val_loss: 0.0066\n",
      "Epoch 7/10\n",
      "938/938 [==============================] - 1s 1ms/step - loss: 0.0063 - val_loss: 0.0065\n",
      "Epoch 8/10\n",
      "938/938 [==============================] - 1s 1ms/step - loss: 0.0062 - val_loss: 0.0064\n",
      "Epoch 9/10\n",
      "938/938 [==============================] - 1s 1ms/step - loss: 0.0061 - val_loss: 0.0064\n",
      "Epoch 10/10\n",
      "938/938 [==============================] - 1s 1ms/step - loss: 0.0060 - val_loss: 0.0063\n"
     ]
    },
    {
     "data": {
      "text/plain": [
       "<tensorflow.python.keras.callbacks.History at 0x7f6838208970>"
      ]
     },
     "execution_count": 8,
     "metadata": {},
     "output_type": "execute_result"
    }
   ],
   "source": [
    "autoencoder.fit(X_train_AE, X_train_AE,\n",
    "                epochs=10,\n",
    "                shuffle=True,\n",
    "                validation_data=(X_test_AE, X_test_AE))\n"
   ]
  },
  {
   "cell_type": "code",
   "execution_count": 9,
   "metadata": {},
   "outputs": [],
   "source": [
    "encoded_imgs = autoencoder.encoder(X_test_AE).numpy()\n",
    "decoded_imgs = autoencoder.decoder(encoded_imgs).numpy()"
   ]
  },
  {
   "cell_type": "code",
   "execution_count": 10,
   "metadata": {},
   "outputs": [
    {
     "data": {
      "image/png": "[encoded data removed]",
      "text/plain": [
       "<Figure size 1440x288 with 20 Axes>"
      ]
     },
     "metadata": {
      "needs_background": "light"
     },
     "output_type": "display_data"
    }
   ],
   "source": [
    "n = 10\n",
    "plt.figure(figsize=(20, 4))\n",
    "for i in range(n):\n",
    "  # display original\n",
    "  ax = plt.subplot(2, n, i + 1)\n",
    "  plt.imshow(X_test_AE[i])\n",
    "  plt.title(\"original\")\n",
    "  plt.gray()\n",
    "  ax.get_xaxis().set_visible(False)\n",
    "  ax.get_yaxis().set_visible(False)\n",
    "\n",
    "  # display reconstruction\n",
    "  ax = plt.subplot(2, n, i + 1 + n)\n",
    "  plt.imshow(decoded_imgs[i])\n",
    "  plt.title(\"reconstructed\")\n",
    "  plt.gray()\n",
    "  ax.get_xaxis().set_visible(False)\n",
    "  ax.get_yaxis().set_visible(False)\n",
    "plt.show()"
   ]
  },
  {
   "cell_type": "markdown",
   "metadata": {},
   "source": [
    "## SVM\n",
    "[Storyboard](http://www.aiav.technikum-wien.at/) </br>\n",
    "[GitHub](https://github.com/TW-Robotics/AIAV/tree/devel_abdank/Support_Vector_Machine_fuer_Bildklassifizierung) </br>"
   ]
  },
  {
   "cell_type": "code",
   "execution_count": 11,
   "metadata": {},
   "outputs": [],
   "source": [
    "from sklearn.svm import SVC\n",
    "from sklearn.metrics import accuracy_score"
   ]
  },
  {
   "cell_type": "code",
   "execution_count": 12,
   "metadata": {},
   "outputs": [
    {
     "name": "stdout",
     "output_type": "stream",
     "text": [
      "********** Dataset overview *************\n",
      "Train Data fuer SVM Encoded:   (29995, 49)\n",
      "Test  Data fuer SVM Encoded:   (5000, 49)\n",
      "Train Labels SVM:                           (29995,)\n",
      "Test  Labels SVM:                           (5000,)\n",
      "*****************************************\n"
     ]
    }
   ],
   "source": [
    "# Encoder für das reduzieren der Dimensionen.\n",
    "X_train = autoencoder.encoder(X_train_SVM).numpy()\n",
    "X_test = autoencoder.encoder(X_test_SVM).numpy()\n",
    "y_train = Y_train_SVM\n",
    "y_test = Y_test_SVM\n",
    "\n",
    "\n",
    "\n",
    "print(\"********** Dataset overview *************\")\n",
    "# Autoencoder Dataset \n",
    "print(\"Train Data fuer SVM Encoded:   {}\".format(X_train.shape))\n",
    "print(\"Test  Data fuer SVM Encoded:   {}\".format( X_test.shape))\n",
    "print(\"Train Labels SVM:                           {}\".format( y_train.shape))\n",
    "print(\"Test  Labels SVM:                           {}\".format(  y_test.shape))\n",
    "print(\"*****************************************\")\n"
   ]
  },
  {
   "cell_type": "code",
   "execution_count": 13,
   "metadata": {},
   "outputs": [
    {
     "data": {
      "text/plain": [
       "SVC(kernel='linear', probability=True, random_state=42)"
      ]
     },
     "execution_count": 13,
     "metadata": {},
     "output_type": "execute_result"
    }
   ],
   "source": [
    "# Modell definieren und \n",
    "svm = SVC(kernel='linear', probability=True, random_state=42)       # SVM Definition\n",
    "svm.fit(X_train, y_train)                                           # Modell Trainieren"
   ]
  },
  {
   "cell_type": "markdown",
   "metadata": {},
   "source": [
    "# Evaluieren und Testen"
   ]
  },
  {
   "cell_type": "code",
   "execution_count": 14,
   "metadata": {},
   "outputs": [
    {
     "name": "stdout",
     "output_type": "stream",
     "text": [
      "Model accuracy:  0.9564\n"
     ]
    }
   ],
   "source": [
    "y_pred = svm.predict(X_test)                     # Prediction für den Test Datensatz\n",
    "accuracy = accuracy_score(y_test, y_pred)        # Auswertung\n",
    "print('Model accuracy: ', accuracy)              # Ausgabe der Genauigkeit"
   ]
  },
  {
   "cell_type": "code",
   "execution_count": 15,
   "metadata": {},
   "outputs": [
    {
     "name": "stdout",
     "output_type": "stream",
     "text": [
      "Auf dem Bild ist eine 8.0 zu sehen\n",
      "Auf dem Bild ist eine 3.0 zu sehen\n",
      "Auf dem Bild ist eine 5.0 zu sehen\n",
      "Auf dem Bild ist eine 6.0 zu sehen\n",
      "Auf dem Bild ist eine 8.0 zu sehen\n"
     ]
    }
   ],
   "source": [
    "import cv2\n",
    "X_evaluation_AE  = X_evaluation.astype('float32') / 255.\n",
    "encodes_evaluation = autoencoder.encoder(X_evaluation_AE).numpy()\n",
    "decoded_evaluation = autoencoder.decoder(encodes_evaluation).numpy()\n",
    "\n",
    "\n",
    "\n",
    "evaluation_pred = svm.predict(encodes_evaluation)\n",
    "cv2.namedWindow(\"Image for prediction\", 0)\n",
    "cv2.namedWindow(\"Reconstructed Image\", 0)\n",
    "for i in range(X_evaluation.shape[0]):\n",
    "\n",
    "    print(\"Auf dem Bild ist eine {} zu sehen\".format(evaluation_pred[i]))\n",
    "    cv2.imshow(\"Image for prediction\", X_evaluation[i])\n",
    "    cv2.imshow(\"Reconstructed Image\", decoded_evaluation[i])\n",
    "    cv2.waitKey(0)\n",
    "    \n",
    "cv2.destroyAllWindows()\n"
   ]
  }
 ],
 "metadata": {
  "interpreter": {
   "hash": "916dbcbb3f70747c44a77c7bcd40155683ae19c65e1c03b4aa3499c5328201f1"
  },
  "kernelspec": {
   "display_name": "Python 3.8.10 64-bit",
   "language": "python",
   "name": "python3"
  },
  "language_info": {
   "codemirror_mode": {
    "name": "ipython",
    "version": 3
   },
   "file_extension": ".py",
   "mimetype": "text/x-python",
   "name": "python",
   "nbconvert_exporter": "python",
   "pygments_lexer": "ipython3",
   "version": "3.8.10"
  },
  "orig_nbformat": 4
 },
 "nbformat": 4,
 "nbformat_minor": 2
}
